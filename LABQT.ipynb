{
 "cells": [
  {
   "cell_type": "markdown",
   "id": "2c522428",
   "metadata": {},
   "source": [
    "# QuantitativeTrading"
   ]
  },
  {
   "cell_type": "markdown",
   "id": "09be372d",
   "metadata": {},
   "source": [
    "## Librerías"
   ]
  },
  {
   "cell_type": "code",
   "execution_count": 1,
   "id": "07444fe4",
   "metadata": {},
   "outputs": [],
   "source": [
    "#Manipulación de datos\n",
    "import pandas as pd \n",
    "#Configuramos pandas para mostrarnos 20 filas\n",
    "pd.set_option('display.max_rows', 20)\n",
    "pd.set_option('display.min_rows', 20)\n",
    "\n",
    "#Gráficas\n",
    "import matplotlib.pyplot as plt \n",
    "\n",
    "#cálculos numéricos\n",
    "import numpy as np \n",
    "\n",
    "#manipulación de la variable tiempo\n",
    "import datetime \n",
    "\n",
    "#Modelado\n",
    "from sklearn import tree\n",
    "from sklearn.metrics import confusion_matrix\n",
    "from sklearn.metrics import classification_report\n",
    "from sklearn.model_selection import cross_val_score\n",
    "#from sklearn.neighbors import KNeighborsClassifier\n",
    "#from sklearn.linear_model import LogisticRegression\n",
    "\n",
    "#Otros\n",
    "import random #Generar números aleatorios\n",
    "import pickle #Almacenamiento local\n",
    "import itertools #Generacion de combinaciones\n",
    "#import math\n",
    "#import scipy.special"
   ]
  },
  {
   "cell_type": "markdown",
   "id": "5d5d1af3",
   "metadata": {},
   "source": [
    "## Funciones"
   ]
  },
  {
   "cell_type": "code",
   "execution_count": 2,
   "id": "54546db0",
   "metadata": {},
   "outputs": [],
   "source": [
    "## Lista de las posibles combinaciones de columnas de un dataframe\n",
    "def list_cobmination_columns(df,num_max_comb):\n",
    "    list_cobmination_columns=[]\n",
    "    df_columns = df.columns\n",
    "    for i in range (1,min(num_max_comb,len(df_columns))+1):\n",
    "        for _, j in enumerate(itertools.combinations(df_columns, i)):\n",
    "            list_cobmination_columns.append(list(j))\n",
    "    return list_cobmination_columns"
   ]
  },
  {
   "cell_type": "markdown",
   "id": "ac3d0f42",
   "metadata": {},
   "source": [
    "## Carga de datos"
   ]
  },
  {
   "cell_type": "code",
   "execution_count": 3,
   "id": "82da26e3",
   "metadata": {
    "scrolled": true
   },
   "outputs": [
    {
     "name": "stdout",
     "output_type": "stream",
     "text": [
      "15389314\n",
      "15389314\n",
      "12274396\n"
     ]
    },
    {
     "data": {
      "text/html": [
       "<div>\n",
       "<style scoped>\n",
       "    .dataframe tbody tr th:only-of-type {\n",
       "        vertical-align: middle;\n",
       "    }\n",
       "\n",
       "    .dataframe tbody tr th {\n",
       "        vertical-align: top;\n",
       "    }\n",
       "\n",
       "    .dataframe thead th {\n",
       "        text-align: right;\n",
       "    }\n",
       "</style>\n",
       "<table border=\"1\" class=\"dataframe\">\n",
       "  <thead>\n",
       "    <tr style=\"text-align: right;\">\n",
       "      <th></th>\n",
       "      <th>ticker</th>\n",
       "      <th>date</th>\n",
       "      <th>adj_close</th>\n",
       "      <th>adj_volume</th>\n",
       "      <th>sector</th>\n",
       "    </tr>\n",
       "  </thead>\n",
       "  <tbody>\n",
       "    <tr>\n",
       "      <th>0</th>\n",
       "      <td>A</td>\n",
       "      <td>1999-11-18</td>\n",
       "      <td>30.018590</td>\n",
       "      <td>44739900.0</td>\n",
       "      <td>Capital Goods</td>\n",
       "    </tr>\n",
       "    <tr>\n",
       "      <th>1</th>\n",
       "      <td>A</td>\n",
       "      <td>1999-11-19</td>\n",
       "      <td>27.548879</td>\n",
       "      <td>10897100.0</td>\n",
       "      <td>Capital Goods</td>\n",
       "    </tr>\n",
       "    <tr>\n",
       "      <th>2</th>\n",
       "      <td>A</td>\n",
       "      <td>1999-11-22</td>\n",
       "      <td>30.018590</td>\n",
       "      <td>4705200.0</td>\n",
       "      <td>Capital Goods</td>\n",
       "    </tr>\n",
       "    <tr>\n",
       "      <th>3</th>\n",
       "      <td>A</td>\n",
       "      <td>1999-11-23</td>\n",
       "      <td>27.460188</td>\n",
       "      <td>4274400.0</td>\n",
       "      <td>Capital Goods</td>\n",
       "    </tr>\n",
       "    <tr>\n",
       "      <th>4</th>\n",
       "      <td>A</td>\n",
       "      <td>1999-11-24</td>\n",
       "      <td>28.012803</td>\n",
       "      <td>3464400.0</td>\n",
       "      <td>Capital Goods</td>\n",
       "    </tr>\n",
       "    <tr>\n",
       "      <th>5</th>\n",
       "      <td>A</td>\n",
       "      <td>1999-11-26</td>\n",
       "      <td>28.101494</td>\n",
       "      <td>1237100.0</td>\n",
       "      <td>Capital Goods</td>\n",
       "    </tr>\n",
       "    <tr>\n",
       "      <th>6</th>\n",
       "      <td>A</td>\n",
       "      <td>1999-11-29</td>\n",
       "      <td>28.742800</td>\n",
       "      <td>2914700.0</td>\n",
       "      <td>Capital Goods</td>\n",
       "    </tr>\n",
       "    <tr>\n",
       "      <th>7</th>\n",
       "      <td>A</td>\n",
       "      <td>1999-11-30</td>\n",
       "      <td>28.783735</td>\n",
       "      <td>3083000.0</td>\n",
       "      <td>Capital Goods</td>\n",
       "    </tr>\n",
       "    <tr>\n",
       "      <th>8</th>\n",
       "      <td>A</td>\n",
       "      <td>1999-12-01</td>\n",
       "      <td>29.295415</td>\n",
       "      <td>2115400.0</td>\n",
       "      <td>Capital Goods</td>\n",
       "    </tr>\n",
       "    <tr>\n",
       "      <th>9</th>\n",
       "      <td>A</td>\n",
       "      <td>1999-12-02</td>\n",
       "      <td>30.107281</td>\n",
       "      <td>2195900.0</td>\n",
       "      <td>Capital Goods</td>\n",
       "    </tr>\n",
       "    <tr>\n",
       "      <th>...</th>\n",
       "      <td>...</td>\n",
       "      <td>...</td>\n",
       "      <td>...</td>\n",
       "      <td>...</td>\n",
       "      <td>...</td>\n",
       "    </tr>\n",
       "    <tr>\n",
       "      <th>12274386</th>\n",
       "      <td>ZUMZ</td>\n",
       "      <td>2018-03-14</td>\n",
       "      <td>19.600000</td>\n",
       "      <td>357345.0</td>\n",
       "      <td>Consumer Services</td>\n",
       "    </tr>\n",
       "    <tr>\n",
       "      <th>12274387</th>\n",
       "      <td>ZUMZ</td>\n",
       "      <td>2018-03-15</td>\n",
       "      <td>20.000000</td>\n",
       "      <td>599736.0</td>\n",
       "      <td>Consumer Services</td>\n",
       "    </tr>\n",
       "    <tr>\n",
       "      <th>12274388</th>\n",
       "      <td>ZUMZ</td>\n",
       "      <td>2018-03-16</td>\n",
       "      <td>22.100000</td>\n",
       "      <td>2059778.0</td>\n",
       "      <td>Consumer Services</td>\n",
       "    </tr>\n",
       "    <tr>\n",
       "      <th>12274389</th>\n",
       "      <td>ZUMZ</td>\n",
       "      <td>2018-03-19</td>\n",
       "      <td>23.400000</td>\n",
       "      <td>858257.0</td>\n",
       "      <td>Consumer Services</td>\n",
       "    </tr>\n",
       "    <tr>\n",
       "      <th>12274390</th>\n",
       "      <td>ZUMZ</td>\n",
       "      <td>2018-03-20</td>\n",
       "      <td>23.800000</td>\n",
       "      <td>404873.0</td>\n",
       "      <td>Consumer Services</td>\n",
       "    </tr>\n",
       "    <tr>\n",
       "      <th>12274391</th>\n",
       "      <td>ZUMZ</td>\n",
       "      <td>2018-03-21</td>\n",
       "      <td>23.950000</td>\n",
       "      <td>354092.0</td>\n",
       "      <td>Consumer Services</td>\n",
       "    </tr>\n",
       "    <tr>\n",
       "      <th>12274392</th>\n",
       "      <td>ZUMZ</td>\n",
       "      <td>2018-03-22</td>\n",
       "      <td>23.350000</td>\n",
       "      <td>269607.0</td>\n",
       "      <td>Consumer Services</td>\n",
       "    </tr>\n",
       "    <tr>\n",
       "      <th>12274393</th>\n",
       "      <td>ZUMZ</td>\n",
       "      <td>2018-03-23</td>\n",
       "      <td>23.550000</td>\n",
       "      <td>301584.0</td>\n",
       "      <td>Consumer Services</td>\n",
       "    </tr>\n",
       "    <tr>\n",
       "      <th>12274394</th>\n",
       "      <td>ZUMZ</td>\n",
       "      <td>2018-03-26</td>\n",
       "      <td>24.650000</td>\n",
       "      <td>375320.0</td>\n",
       "      <td>Consumer Services</td>\n",
       "    </tr>\n",
       "    <tr>\n",
       "      <th>12274395</th>\n",
       "      <td>ZUMZ</td>\n",
       "      <td>2018-03-27</td>\n",
       "      <td>23.600000</td>\n",
       "      <td>403884.0</td>\n",
       "      <td>Consumer Services</td>\n",
       "    </tr>\n",
       "  </tbody>\n",
       "</table>\n",
       "<p>12274396 rows × 5 columns</p>\n",
       "</div>"
      ],
      "text/plain": [
       "         ticker       date  adj_close  adj_volume             sector\n",
       "0             A 1999-11-18  30.018590  44739900.0      Capital Goods\n",
       "1             A 1999-11-19  27.548879  10897100.0      Capital Goods\n",
       "2             A 1999-11-22  30.018590   4705200.0      Capital Goods\n",
       "3             A 1999-11-23  27.460188   4274400.0      Capital Goods\n",
       "4             A 1999-11-24  28.012803   3464400.0      Capital Goods\n",
       "5             A 1999-11-26  28.101494   1237100.0      Capital Goods\n",
       "6             A 1999-11-29  28.742800   2914700.0      Capital Goods\n",
       "7             A 1999-11-30  28.783735   3083000.0      Capital Goods\n",
       "8             A 1999-12-01  29.295415   2115400.0      Capital Goods\n",
       "9             A 1999-12-02  30.107281   2195900.0      Capital Goods\n",
       "...         ...        ...        ...         ...                ...\n",
       "12274386   ZUMZ 2018-03-14  19.600000    357345.0  Consumer Services\n",
       "12274387   ZUMZ 2018-03-15  20.000000    599736.0  Consumer Services\n",
       "12274388   ZUMZ 2018-03-16  22.100000   2059778.0  Consumer Services\n",
       "12274389   ZUMZ 2018-03-19  23.400000    858257.0  Consumer Services\n",
       "12274390   ZUMZ 2018-03-20  23.800000    404873.0  Consumer Services\n",
       "12274391   ZUMZ 2018-03-21  23.950000    354092.0  Consumer Services\n",
       "12274392   ZUMZ 2018-03-22  23.350000    269607.0  Consumer Services\n",
       "12274393   ZUMZ 2018-03-23  23.550000    301584.0  Consumer Services\n",
       "12274394   ZUMZ 2018-03-26  24.650000    375320.0  Consumer Services\n",
       "12274395   ZUMZ 2018-03-27  23.600000    403884.0  Consumer Services\n",
       "\n",
       "[12274396 rows x 5 columns]"
      ]
     },
     "execution_count": 3,
     "metadata": {},
     "output_type": "execute_result"
    }
   ],
   "source": [
    "#Cargamos el fichero de cotizaciones seleccionando las columnas relevantes para el modelo\n",
    "path='C:\\\\Users\\\\manuel.decesar\\\\Desktop\\\\data_labqt\\\\'\n",
    "df=pd.read_csv(path+'WIKI_PRICES_212b326a081eacca455e13140d7bb9db.csv', sep=',')[['ticker','date','adj_close','adj_volume']]  \n",
    "print(len(df))\n",
    "#fijamos los tipos de datos\n",
    "df['date']=pd.to_datetime(df['date'])\n",
    "print(len(df))\n",
    "#cargamos el sector asociado al ticker\n",
    "metadata=pd.read_csv(path+'us_equities_meta_data.csv')\n",
    "df = pd.merge(df, metadata[[\"ticker\",\"sector\"]], on=\"ticker\")\n",
    "print(len(df))\n",
    "df"
   ]
  },
  {
   "cell_type": "markdown",
   "id": "1a39f35d",
   "metadata": {},
   "source": [
    "## Análisis y limpieza de datos"
   ]
  },
  {
   "cell_type": "code",
   "execution_count": 4,
   "id": "cb66acda",
   "metadata": {},
   "outputs": [
    {
     "name": "stdout",
     "output_type": "stream",
     "text": [
      "7710723\n"
     ]
    }
   ],
   "source": [
    "#Filtrar tickers sin suficiente volumen\n",
    "#df=df.reset_index()\n",
    "df_ticker_volume=np.log10(df.groupby(['ticker'])['adj_volume'].sum())\n",
    "df=df[df['ticker'].isin(df_ticker_volume[df_ticker_volume>8.211].index)]\n",
    "#Filtrar tickers sin suficientes cotizaciones\n",
    "df_ticker_cot=np.log10(df.groupby(['ticker'])['adj_close'].count())\n",
    "df=df[df['ticker'].isin(df_ticker_cot[df_ticker_cot>3.104].index)]\n",
    "#Filtrar registros sin volumen\n",
    "df=df[df['adj_close']>0]\n",
    "#Filtro de fecha\n",
    "df=df[df.date>='2001-01-01']\n",
    "#Establecemos índice (ticker y fecha)\n",
    "df=df.set_index(['ticker','date'])\n",
    "print(len(df))\n",
    "#df"
   ]
  },
  {
   "cell_type": "code",
   "execution_count": 5,
   "id": "6d4bf4f2",
   "metadata": {},
   "outputs": [
    {
     "name": "stdout",
     "output_type": "stream",
     "text": [
      "(7.967, 8.496]      204\n",
      "(8.496, 8.737]      204\n",
      "(8.737, 8.93]       204\n",
      "(8.93, 9.091]       204\n",
      "(9.091, 9.252]      204\n",
      "(9.252, 9.405]      204\n",
      "(9.405, 9.612]      204\n",
      "(9.612, 9.87]       204\n",
      "(9.87, 10.185]      204\n",
      "(10.185, 11.728]    204\n",
      "Name: adj_volume, dtype: int64\n",
      "total de tickers 2197\n",
      "mediana de volumen ajustado por ticker 5383.999999999998\n"
     ]
    },
    {
     "data": {
      "image/png": "[encoded data removed]",
      "text/plain": [
       "<Figure size 432x288 with 1 Axes>"
      ]
     },
     "metadata": {
      "needs_background": "light"
     },
     "output_type": "display_data"
    }
   ],
   "source": [
    "#Análisis volumen por ticker\n",
    "%matplotlib inline\n",
    "df_ticker_volume=np.log10(df.groupby(['ticker'])['adj_volume'].sum())\n",
    "plt.hist(df_ticker_volume, density=True, bins=10)  # density=False would make counts\n",
    "plt.ylabel('Densidad de probabilidad')\n",
    "plt.xlabel('Log10(Ticker_volume)');\n",
    "#percentiles\n",
    "print(pd.qcut(df_ticker_volume,10).value_counts().sort_index())\n",
    "print('total de tickers',len(df_ticker_cot))\n",
    "print('mediana de volumen ajustado por ticker',10**df_ticker_cot.median())\n"
   ]
  },
  {
   "cell_type": "code",
   "execution_count": 6,
   "id": "5fb58b75",
   "metadata": {},
   "outputs": [
    {
     "name": "stdout",
     "output_type": "stream",
     "text": [
      "(3.1047, 3.6201]     680\n",
      "(3.6201, 3.6369]    1353\n",
      "(3.6369, 3.637]        7\n",
      "Name: adj_close, dtype: int64\n",
      "mediana de número de cotizaciones por ticker 4333.999999999999\n"
     ]
    },
    {
     "data": {
      "image/png": "[encoded data removed]",
      "text/plain": [
       "<Figure size 432x288 with 1 Axes>"
      ]
     },
     "metadata": {
      "needs_background": "light"
     },
     "output_type": "display_data"
    }
   ],
   "source": [
    "#Análisis cotizaciones por ticker\n",
    "%matplotlib inline\n",
    "df_ticker_cot=np.log10(df.groupby(['ticker'])['adj_close'].count())\n",
    "plt.hist(df_ticker_cot, density=False, bins=10)  # density=False would make counts\n",
    "plt.ylabel('Densidad de probabilidad')\n",
    "plt.xlabel('Log10(cotizaciones_por_ticker)');\n",
    "#percentiles\n",
    "print(pd.qcut(df_ticker_cot,3).value_counts().sort_index())\n",
    "print('mediana de número de cotizaciones por ticker',10**df_ticker_cot.median())"
   ]
  },
  {
   "cell_type": "code",
   "execution_count": 7,
   "id": "6262becd",
   "metadata": {},
   "outputs": [
    {
     "name": "stdout",
     "output_type": "stream",
     "text": [
      "Empty DataFrame\n",
      "Columns: [ticker, date, adj_close, adj_volume, sector]\n",
      "Index: []\n",
      "Empty DataFrame\n",
      "Columns: [ticker, date, adj_close, adj_volume, sector]\n",
      "Index: []\n",
      "Empty DataFrame\n",
      "Columns: [ticker, date, adj_close, adj_volume, sector]\n",
      "Index: []\n",
      "Empty DataFrame\n",
      "Columns: [ticker, date, adj_close, adj_volume, sector]\n",
      "Index: []\n"
     ]
    }
   ],
   "source": [
    "#Análisis nulos\n",
    "print(df.reset_index()[df.reset_index().ticker.isnull()])\n",
    "print(df.reset_index()[df.reset_index().date.isnull()])\n",
    "print(df.reset_index()[df.reset_index().adj_close.isnull()])\n",
    "print(df.reset_index()[df.reset_index().adj_volume.isnull()])"
   ]
  },
  {
   "cell_type": "code",
   "execution_count": 8,
   "id": "62d4ba8b",
   "metadata": {},
   "outputs": [
    {
     "name": "stdout",
     "output_type": "stream",
     "text": [
      "(0.999, 1498.0]     871\n",
      "(1498.0, 1746.6]    865\n",
      "(1746.6, 1918.0]    869\n",
      "(1918.0, 2026.0]    887\n",
      "(2026.0, 2040.0]    848\n",
      "Name: adj_close, dtype: int64\n",
      "número de fechas 4340\n",
      "mediana de número de tickers por fecha 1802.0\n"
     ]
    },
    {
     "data": {
      "image/png": "[encoded data removed]",
      "text/plain": [
       "<Figure size 432x288 with 1 Axes>"
      ]
     },
     "metadata": {
      "needs_background": "light"
     },
     "output_type": "display_data"
    }
   ],
   "source": [
    "#Análisis discontinuidades de fechas\n",
    "%matplotlib inline\n",
    "df_date_tikers=df.groupby(['date'])['adj_close'].count()\n",
    "df_date_tikers.plot()\n",
    "plt.ylabel('tickers')\n",
    "plt.xlabel('Fechas');\n",
    "#percentiles\n",
    "print(pd.qcut(df_date_tikers,5).value_counts().sort_index())\n",
    "print('número de fechas',len(df_date_tikers))\n",
    "print('mediana de número de tickers por fecha',df_date_tikers.median())"
   ]
  },
  {
   "cell_type": "code",
   "execution_count": 9,
   "id": "6bef3e26",
   "metadata": {},
   "outputs": [
    {
     "name": "stdout",
     "output_type": "stream",
     "text": [
      "['A' 'AAL' 'AAN' ... 'ZNGA' 'ZTS' 'ZUMZ']\n",
      "['2001-01-01T00:00:00.000000000' '2001-01-02T00:00:00.000000000'\n",
      " '2001-01-03T00:00:00.000000000' ... '2018-03-23T00:00:00.000000000'\n",
      " '2018-03-26T00:00:00.000000000' '2018-03-27T00:00:00.000000000']\n"
     ]
    }
   ],
   "source": [
    "#tickers posibles\n",
    "print(np.unique(df.index.get_level_values(0)))\n",
    "#fechas posibles\n",
    "print(np.unique(df.index.get_level_values(1)))"
   ]
  },
  {
   "cell_type": "markdown",
   "id": "fcc7cc49",
   "metadata": {},
   "source": [
    "## Filtrado para desarrollo e índice"
   ]
  },
  {
   "cell_type": "code",
   "execution_count": 10,
   "id": "f76eae64",
   "metadata": {},
   "outputs": [
    {
     "name": "stdout",
     "output_type": "stream",
     "text": [
      "7710723\n"
     ]
    }
   ],
   "source": [
    "#Filtrar muestra para desarrollo\n",
    "#df=df.sort_values(by=['ticker'], ascending=False)[0:100000]#descomentar para desarrollar con una muestra de datos\n",
    "df=df.sort_values(by=['ticker','date'])\n",
    "df=df.reset_index()\n",
    "df=df.set_index(['ticker','date'])\n",
    "print(len(df))"
   ]
  },
  {
   "cell_type": "markdown",
   "id": "dd26160e",
   "metadata": {},
   "source": [
    "## Creación de features"
   ]
  },
  {
   "cell_type": "code",
   "execution_count": 11,
   "id": "2dea5d76",
   "metadata": {},
   "outputs": [
    {
     "name": "stdout",
     "output_type": "stream",
     "text": [
      "['Capital Goods' 'Transportation' 'Technology' 'Consumer Services'\n",
      " 'Health Care' 'Finance' 'Consumer Durables' 'Miscellaneous'\n",
      " 'Consumer Non-Durables' 'Public Utilities' 'Basic Industries' nan\n",
      " 'Energy']\n",
      "2022-01-20 17:17:46.162702 : Extraido fichero de transformación en dummies: columnas\n",
      "Index(['adj_close', 'adj_volume', 'sector_Basic Industries',\n",
      "       'sector_Capital Goods', 'sector_Consumer Durables',\n",
      "       'sector_Consumer Non-Durables', 'sector_Consumer Services',\n",
      "       'sector_Energy', 'sector_Finance', 'sector_Health Care',\n",
      "       'sector_Miscellaneous', 'sector_Public Utilities', 'sector_Technology',\n",
      "       'sector_Transportation'],\n",
      "      dtype='object')\n"
     ]
    }
   ],
   "source": [
    "#dummies para el sector\n",
    "print(df.sector.unique())\n",
    "df = pd.get_dummies(data=df, columns=['sector'])\n",
    "pickle.dump(df.columns, open(path+'columnas', 'wb'))\n",
    "print(datetime.datetime.now(),': Extraido fichero de transformación en dummies: columnas')\n",
    "columnas=pickle.load(open(path+'columnas', 'rb'))\n",
    "print(columnas)\n",
    "df=df.reindex(labels =columnas, axis = 1, fill_value = 0)"
   ]
  },
  {
   "cell_type": "code",
   "execution_count": 12,
   "id": "2b0789b9",
   "metadata": {},
   "outputs": [],
   "source": [
    "#Calculamos el retorno respecto al día anterior: incremento relativo del ticker respecto el día anterior\n",
    "df['return_d']=df.groupby(level='ticker')['adj_close'].pct_change()\n",
    "#Calculamos el retorno respecto a la semana anterior: incremento relativo del ticker respecto a la semana anterior\n",
    "df['return_w']=df.groupby(level='ticker')['adj_close'].pct_change(periods=5)\n",
    "#Calculamos el retorno respecto al mes anterior: incremento relativo del ticker respecto el mes anterior\n",
    "df['return_m']=df.groupby(level='ticker')['adj_close'].pct_change(periods=20)\n",
    "#Calculamos el retorno respecto al año anterior: incremento relativo del ticker respecto el año anterior\n",
    "df['return_y']=df.groupby(level='ticker')['adj_close'].pct_change(periods=252)\n",
    "#df"
   ]
  },
  {
   "cell_type": "code",
   "execution_count": 13,
   "id": "734df8b7",
   "metadata": {},
   "outputs": [],
   "source": [
    "#Volatilidad semanal del retorno diario\n",
    "df['volatility_w_rd']=df.reset_index('ticker').groupby('ticker').apply(lambda grp: grp['return_d'].rolling(5).std())\n",
    "#Volatilidad mensual del retorno diario\n",
    "df['volatility_m_rd']=df.reset_index('ticker').groupby('ticker').apply(lambda grp: grp['return_m'].rolling(20).std())\n",
    "#Volatilidad anual del retorno diario\n",
    "df['volatility_y_rd']=df.reset_index('ticker').groupby('ticker').apply(lambda grp: grp['return_y'].rolling(252).std())\n",
    "#df"
   ]
  },
  {
   "cell_type": "code",
   "execution_count": 14,
   "id": "a12626be",
   "metadata": {},
   "outputs": [],
   "source": [
    "#Cierre ajustado promediado semanal\n",
    "df['adj_close_m_pw']=df.groupby(level='ticker')['adj_close'].apply(lambda grp: grp.rolling(5).mean())\n",
    "#Cierre ajustado promediado mensual\n",
    "df['adj_close_m_pm']=df.groupby(level='ticker')['adj_close'].apply(lambda grp: grp.rolling(20).mean())\n",
    "#Cierre ajustado promediado anual\n",
    "df['adj_close_m_py']=df.groupby(level='ticker')['adj_close'].apply(lambda grp: grp.rolling(252).mean())"
   ]
  },
  {
   "cell_type": "code",
   "execution_count": 15,
   "id": "e7ea5d89",
   "metadata": {},
   "outputs": [],
   "source": [
    "#Equivalente a macd para un día y una semana/mes/año\n",
    "#Retorno respecto al cierre ajustado promediado semanal\n",
    "df['return_m_pw']=df.apply(lambda x: (x['adj_close']-x['adj_close_m_pw'])/x['adj_close_m_pw'], axis=1)\n",
    "#Retorno respecto al cierre ajustado promediado mensual\n",
    "df['return_m_pm']=df.apply(lambda x: (x['adj_close']-x['adj_close_m_pm'])/x['adj_close_m_pm'], axis=1)\n",
    "#Retorno respecto al cierre ajustado promediado anual\n",
    "df['return_m_py']=df.apply(lambda x: (x['adj_close']-x['adj_close_m_py'])/x['adj_close_m_py'], axis=1)"
   ]
  },
  {
   "cell_type": "code",
   "execution_count": 16,
   "id": "c78eb7de",
   "metadata": {},
   "outputs": [],
   "source": [
    "#Cierre ajustado promediado ponderado por volumen semanal\n",
    "df['adj_close_vwm_pw']=df.reset_index('ticker').groupby('ticker').apply(lambda grp: (grp['adj_close']*grp['adj_volume']).rolling(5).sum()/grp['adj_volume'].rolling(5).sum())\n",
    "#Cierre ajustado promediado ponderado por volumen mensual\n",
    "df['adj_close_vwm_pm']=df.reset_index('ticker').groupby('ticker').apply(lambda grp: (grp['adj_close']*grp['adj_volume']).rolling(20).sum()/grp['adj_volume'].rolling(20).sum())\n",
    "#Cierre ajustado promediado ponderado por volumen anual\n",
    "df['adj_close_vwm_py']=df.reset_index('ticker').groupby('ticker').apply(lambda grp: (grp['adj_close']*grp['adj_volume']).rolling(252).sum()/grp['adj_volume'].rolling(252).sum())\n",
    "#df.loc['X']"
   ]
  },
  {
   "cell_type": "code",
   "execution_count": 17,
   "id": "9f4ac1d6",
   "metadata": {},
   "outputs": [
    {
     "name": "stdout",
     "output_type": "stream",
     "text": [
      "7710723\n",
      "7710608\n"
     ]
    }
   ],
   "source": [
    "#Filtramos los cierres promediados por volumen nulos\n",
    "print(len(df))\n",
    "df=df[df['adj_close_vwm_pw']!=0]\n",
    "df=df[df['adj_close_vwm_pm']!=0]\n",
    "df=df[df['adj_close_vwm_py']!=0]\n",
    "print(len(df))"
   ]
  },
  {
   "cell_type": "code",
   "execution_count": 18,
   "id": "46c07a78",
   "metadata": {},
   "outputs": [
    {
     "name": "stdout",
     "output_type": "stream",
     "text": [
      "7710608\n",
      "6681341\n"
     ]
    }
   ],
   "source": [
    "#Filtramos NaN y volvemos a establecer el índice\n",
    "print(len(df))\n",
    "df=df.dropna()\n",
    "df=df.reset_index()\n",
    "df=df.set_index(['ticker','date'])\n",
    "print(len(df))"
   ]
  },
  {
   "cell_type": "code",
   "execution_count": 19,
   "id": "229c352d",
   "metadata": {},
   "outputs": [
    {
     "name": "stderr",
     "output_type": "stream",
     "text": [
      "<ipython-input-19-7dae9c5cab6e>:3: RuntimeWarning: invalid value encountered in double_scalars\n",
      "  df['return_vwm_pw']=df.apply(lambda x: (x['adj_close']-x['adj_close_vwm_pw'])/x['adj_close_vwm_pw'], axis=1)\n",
      "<ipython-input-19-7dae9c5cab6e>:5: RuntimeWarning: invalid value encountered in double_scalars\n",
      "  df['return_vwm_pm']=df.apply(lambda x: (x['adj_close']-x['adj_close_vwm_pm'])/x['adj_close_vwm_pm'], axis=1)\n"
     ]
    }
   ],
   "source": [
    "#Equivalente a macd para un día y una semana/mes/año ponderando por volumen\n",
    "#Retorno respecto al cierre ajustado promediado ponderado semanal\n",
    "df['return_vwm_pw']=df.apply(lambda x: (x['adj_close']-x['adj_close_vwm_pw'])/x['adj_close_vwm_pw'], axis=1)\n",
    "df#Retorno respecto al cierre ajustado promediado ponderado mensual\n",
    "df['return_vwm_pm']=df.apply(lambda x: (x['adj_close']-x['adj_close_vwm_pm'])/x['adj_close_vwm_pm'], axis=1)\n",
    "df#Retorno respecto al cierre ajustado promediado ponderado anual\n",
    "df['return_vwm_py']=df.apply(lambda x: (x['adj_close']-x['adj_close_vwm_py'])/x['adj_close_vwm_py'], axis=1)\n",
    "#df"
   ]
  },
  {
   "cell_type": "markdown",
   "id": "e973df69",
   "metadata": {},
   "source": [
    "## Creación del target y el peso"
   ]
  },
  {
   "cell_type": "code",
   "execution_count": 20,
   "id": "87df5bef",
   "metadata": {},
   "outputs": [
    {
     "name": "stdout",
     "output_type": "stream",
     "text": [
      "(-0.861, -0.0256]       267186\n",
      "(-0.0256, -0.0142]      267159\n",
      "(-0.0142, -0.00792]     267174\n",
      "(-0.00792, -0.00333]    267171\n",
      "(-0.00333, 0.0]         267842\n",
      "(0.0, 0.00412]          266503\n",
      "(0.00412, 0.00869]      267172\n",
      "(0.00869, 0.015]        267174\n",
      "(0.015, 0.0265]         267171\n",
      "(0.0265, 102.804]       267173\n",
      "Name: return_f_d, dtype: int64\n",
      "-0.0256 0.0265\n"
     ]
    }
   ],
   "source": [
    "#Calculamos el retorno al día siguiente: incremento relativo del ticker en el día siguiente\n",
    "df['return_f_d']=df.groupby(level='ticker')['adj_close'].pct_change().shift(periods=-1)\n",
    "#percentiles\n",
    "print(pd.qcut(df['return_f_d'][0:int(len(df)*.4)],10).value_counts().sort_index())\n",
    "p10=pd.qcut(df['return_f_d'][0:int(len(df)*.4)],10).value_counts().sort_index().index.values[0].right\n",
    "p90=pd.qcut(df['return_f_d'][0:int(len(df)*.4)],10).value_counts().sort_index().index.values[8].right\n",
    "print(p10,p90)"
   ]
  },
  {
   "cell_type": "code",
   "execution_count": 21,
   "id": "3145eae6",
   "metadata": {},
   "outputs": [],
   "source": [
    "#Calculamos target (retorno>0)\n",
    "df['return_gt_0']=df.apply(lambda x: 1 if x['return_f_d']>0 else 0, axis=1)\n"
   ]
  },
  {
   "cell_type": "code",
   "execution_count": 22,
   "id": "8ee3d912",
   "metadata": {},
   "outputs": [],
   "source": [
    "#Calculamos el peso como el valor absoluto del retorno al día siguiente (retorno>0)\n",
    "    #ponderando de forma variable los extremos\n",
    "#df['sample_weight']=df.apply(lambda x:abs(x['return_f_d'])**(1/8), axis=1)\n",
    "    #truncando los extremos\n",
    "df['sample_weight']=df.apply(lambda x: abs(p10) if x['return_f_d']<p10 else abs(p90) if x['return_f_d']>p90 else abs(x['return_f_d']), axis=1)"
   ]
  },
  {
   "cell_type": "code",
   "execution_count": 23,
   "id": "626deea9",
   "metadata": {},
   "outputs": [
    {
     "name": "stdout",
     "output_type": "stream",
     "text": [
      "6681341\n",
      "6678423\n"
     ]
    }
   ],
   "source": [
    "#Filtramos NaN\n",
    "print(len(df))\n",
    "df=df.dropna()\n",
    "df=df.reset_index()\n",
    "df=df.set_index(['ticker','date'])\n",
    "print(len(df))"
   ]
  },
  {
   "cell_type": "markdown",
   "id": "0e9bfcde",
   "metadata": {},
   "source": [
    "## Partición del dataset"
   ]
  },
  {
   "cell_type": "code",
   "execution_count": 24,
   "id": "3cf50f74",
   "metadata": {},
   "outputs": [],
   "source": [
    "#Preparamos datasets de train, validation, test, final_test\n",
    "df=df.sort_values('date')\n",
    "lim_inicial=int(len(df)*.00)\n",
    "lim_train=int(len(df)*.56)\n",
    "lim_val=int(len(df)*.58)\n",
    "lim_test=int(len(df)*.60)\n",
    "df_train= df[lim_inicial:lim_train]\n",
    "df_val=df[lim_train:lim_val]\n",
    "df_train_val= df[lim_inicial:lim_val]\n",
    "df_test= df[lim_val:lim_test]\n",
    "df_final_test= df[lim_test:-1]\n",
    "total_features=['return_d','return_w','return_m','return_y','return_m_pw','return_m_pm','return_m_py','volatility_w_rd','volatility_m_rd','volatility_y_rd','return_vwm_pw','return_vwm_pm','return_vwm_py','sector_Basic Industries',\n",
    "       'sector_Capital Goods', 'sector_Consumer Non-Durables',\n",
    "       'sector_Consumer Services', 'sector_Energy', 'sector_Finance',\n",
    "       'sector_Health Care', 'sector_Public Utilities', 'sector_Technology',\n",
    "       'sector_Transportation']\n",
    "target=['return_gt_0']\n",
    "sample_weight=['sample_weight']"
   ]
  },
  {
   "cell_type": "markdown",
   "id": "71c3cea9",
   "metadata": {},
   "source": [
    "## Construcción del modelo"
   ]
  },
  {
   "cell_type": "code",
   "execution_count": 34,
   "id": "4e834098",
   "metadata": {},
   "outputs": [
    {
     "name": "stdout",
     "output_type": "stream",
     "text": [
      "Retorno random validacion 0.014767514938080692\n",
      "Retorno random train 2.1124478458258094\n",
      "depth 1\n",
      "['return_d'] 0.030897542787345394 sin_calcular\n",
      "features_encontrados ['return_d'] Retorno validacion 0.030897542787345394 Retorno train 3.0233992010675217 Profundidad encontrada 1 accuracy encontrada 0.508217831630443\n",
      "['return_w'] 0.03774145919110985 sin_calcular\n",
      "features_encontrados ['return_w'] Retorno validacion 0.03774145919110985 Retorno train 3.0442405034798257 Profundidad encontrada 1 accuracy encontrada 0.5072228894980529\n",
      "['return_m'] 0.01589737320627633 sin_calcular\n",
      "['return_m_pw'] 0.06017072022836049 sin_calcular\n",
      "features_encontrados ['return_m_pw'] Retorno validacion 0.06017072022836049 Retorno train 4.672926587011144 Profundidad encontrada 1 accuracy encontrada 0.512410973936313\n",
      "['return_m_pm'] 0.0268969643344077 sin_calcular\n",
      "['return_vwm_pw'] 0.06017364493805652 sin_calcular\n",
      "features_encontrados ['return_vwm_pw'] Retorno validacion 0.06017364493805652 Retorno train 4.761126987953348 Profundidad encontrada 1 accuracy encontrada 0.5116205818526406\n",
      "['return_vwm_pm'] 0.024392150581001013 sin_calcular\n",
      "depth 2\n",
      "['return_d'] 0.030897542787345394 sin_calcular\n",
      "['return_w'] 0.03774145919110985 sin_calcular\n",
      "['return_m'] 0.01458202262536291 sin_calcular\n",
      "['return_m_pw'] 0.06017072022836049 sin_calcular\n",
      "['return_m_pm'] 0.0268969643344077 sin_calcular\n",
      "['return_vwm_pw'] 0.06017364493805652 sin_calcular\n",
      "['return_vwm_pm'] 0.024392150581001013 sin_calcular\n",
      "['return_d', 'return_w'] 0.04774567919185713 sin_calcular\n",
      "['return_d', 'return_m'] 0.030897542787345394 sin_calcular\n",
      "['return_d', 'return_m_pw'] 0.06017072022836049 sin_calcular\n",
      "['return_d', 'return_m_pm'] 0.030897542787345394 sin_calcular\n",
      "['return_d', 'return_vwm_pw'] 0.06017364493805652 sin_calcular\n",
      "['return_d', 'return_vwm_pm'] 0.03532312467012681 sin_calcular\n",
      "['return_w', 'return_m'] 0.03774145919110985 sin_calcular\n",
      "['return_w', 'return_m_pw'] 0.06017072022836049 sin_calcular\n",
      "['return_w', 'return_m_pm'] 0.03774145919110985 sin_calcular\n",
      "['return_w', 'return_vwm_pw'] 0.06017364493805652 sin_calcular\n",
      "['return_w', 'return_vwm_pm'] 0.03774145919110985 sin_calcular\n",
      "['return_m', 'return_m_pw'] 0.06017072022836049 sin_calcular\n",
      "['return_m', 'return_m_pm'] 0.0268969643344077 sin_calcular\n",
      "['return_m', 'return_vwm_pw'] 0.06017364493805652 sin_calcular\n",
      "['return_m', 'return_vwm_pm'] 0.024392150581001013 sin_calcular\n",
      "['return_m_pw', 'return_m_pm'] 0.06017072022836049 sin_calcular\n",
      "['return_m_pw', 'return_vwm_pw'] 0.06017072022836049 sin_calcular\n",
      "['return_m_pw', 'return_vwm_pm'] 0.06017072022836049 sin_calcular\n",
      "['return_m_pm', 'return_vwm_pw'] 0.06017364493805652 sin_calcular\n",
      "['return_m_pm', 'return_vwm_pm'] 0.024392150581001013 sin_calcular\n",
      "['return_vwm_pw', 'return_vwm_pm'] 0.06017364493805652 sin_calcular\n",
      "['return_d', 'return_w', 'return_m'] 0.04774567919185713 sin_calcular\n",
      "['return_d', 'return_w', 'return_m_pw'] 0.06017072022836049 sin_calcular\n",
      "['return_d', 'return_w', 'return_m_pm'] 0.04774567919185713 sin_calcular\n",
      "['return_d', 'return_w', 'return_vwm_pw'] 0.06017364493805652 sin_calcular\n",
      "['return_d', 'return_w', 'return_vwm_pm'] 0.04774567919185713 sin_calcular\n",
      "['return_d', 'return_m', 'return_m_pw'] 0.06017072022836049 sin_calcular\n",
      "['return_d', 'return_m', 'return_m_pm'] 0.030897542787345394 sin_calcular\n",
      "['return_d', 'return_m', 'return_vwm_pw'] 0.06017364493805652 sin_calcular\n",
      "['return_d', 'return_m', 'return_vwm_pm'] 0.03532312467012681 sin_calcular\n",
      "['return_d', 'return_m_pw', 'return_m_pm'] 0.06017072022836049 sin_calcular\n",
      "['return_d', 'return_m_pw', 'return_vwm_pw'] 0.06017072022836049 sin_calcular\n",
      "['return_d', 'return_m_pw', 'return_vwm_pm'] 0.06017072022836049 sin_calcular\n",
      "['return_d', 'return_m_pm', 'return_vwm_pw'] 0.06017364493805652 sin_calcular\n",
      "['return_d', 'return_m_pm', 'return_vwm_pm'] 0.030897542787345394 sin_calcular\n",
      "['return_d', 'return_vwm_pw', 'return_vwm_pm'] 0.06017364493805652 sin_calcular\n",
      "['return_w', 'return_m', 'return_m_pw'] 0.06017072022836049 sin_calcular\n",
      "['return_w', 'return_m', 'return_m_pm'] 0.03774145919110985 sin_calcular\n",
      "['return_w', 'return_m', 'return_vwm_pw'] 0.06017364493805652 sin_calcular\n",
      "['return_w', 'return_m', 'return_vwm_pm'] 0.03774145919110985 sin_calcular\n",
      "['return_w', 'return_m_pw', 'return_m_pm'] 0.06017072022836049 sin_calcular\n",
      "['return_w', 'return_m_pw', 'return_vwm_pw'] 0.06017072022836049 sin_calcular\n",
      "['return_w', 'return_m_pw', 'return_vwm_pm'] 0.06017072022836049 sin_calcular\n",
      "['return_w', 'return_m_pm', 'return_vwm_pw'] 0.06017364493805652 sin_calcular\n",
      "['return_w', 'return_m_pm', 'return_vwm_pm'] 0.03774145919110985 sin_calcular\n",
      "['return_w', 'return_vwm_pw', 'return_vwm_pm'] 0.06017364493805652 sin_calcular\n",
      "['return_m', 'return_m_pw', 'return_m_pm'] 0.06017072022836049 sin_calcular\n",
      "['return_m', 'return_m_pw', 'return_vwm_pw'] 0.06017072022836049 sin_calcular\n",
      "['return_m', 'return_m_pw', 'return_vwm_pm'] 0.06017072022836049 sin_calcular\n",
      "['return_m', 'return_m_pm', 'return_vwm_pw'] 0.06017364493805652 sin_calcular\n",
      "['return_m', 'return_m_pm', 'return_vwm_pm'] 0.024392150581001013 sin_calcular\n",
      "['return_m', 'return_vwm_pw', 'return_vwm_pm'] 0.06017364493805652 sin_calcular\n",
      "['return_m_pw', 'return_m_pm', 'return_vwm_pw'] 0.06017072022836049 sin_calcular\n",
      "['return_m_pw', 'return_m_pm', 'return_vwm_pm'] 0.06017072022836049 sin_calcular\n",
      "['return_m_pw', 'return_vwm_pw', 'return_vwm_pm'] 0.06017072022836049 sin_calcular\n",
      "['return_m_pm', 'return_vwm_pw', 'return_vwm_pm'] 0.06017364493805652 sin_calcular\n",
      "depth 3\n",
      "['return_d'] 0.030897542787345394 sin_calcular\n",
      "['return_w'] 0.02743433488555467 sin_calcular\n",
      "['return_m'] 0.015480060952656957 sin_calcular\n",
      "['return_m_pw'] 0.037985948077224635 sin_calcular\n",
      "['return_m_pm'] 0.016401069102631758 sin_calcular\n",
      "['return_vwm_pw'] 0.050956229501577674 sin_calcular\n",
      "['return_vwm_pm'] 0.01796238489281452 sin_calcular\n",
      "['return_d', 'return_w'] 0.04871544076283306 sin_calcular\n",
      "['return_d', 'return_m'] 0.029828312868817264 sin_calcular\n",
      "['return_d', 'return_m_pw'] 0.023704416488582708 sin_calcular\n",
      "['return_d', 'return_m_pm'] 0.037357251825609304 sin_calcular\n",
      "['return_d', 'return_vwm_pw'] 0.025521563667609125 sin_calcular\n",
      "['return_d', 'return_vwm_pm'] 0.03564242935043781 sin_calcular\n",
      "['return_w', 'return_m'] 0.02743433488555467 sin_calcular\n",
      "['return_w', 'return_m_pw'] 0.029606945682471256 sin_calcular\n",
      "['return_w', 'return_m_pm'] 0.03774145919110985 sin_calcular\n",
      "['return_w', 'return_vwm_pw'] 0.031192747959434268 sin_calcular\n",
      "['return_w', 'return_vwm_pm'] 0.03774145919110985 sin_calcular\n",
      "['return_m', 'return_m_pw'] 0.023827109803073482 sin_calcular\n",
      "['return_m', 'return_m_pm'] 0.016401069102631758 sin_calcular\n",
      "['return_m', 'return_vwm_pw'] 0.025780054240566324 sin_calcular\n",
      "['return_m', 'return_vwm_pm'] 0.024687992179357025 sin_calcular\n",
      "['return_m_pw', 'return_m_pm'] 0.06017072022836049 sin_calcular\n",
      "['return_m_pw', 'return_vwm_pw'] 0.0275661464565444 sin_calcular\n",
      "['return_m_pw', 'return_vwm_pm'] 0.021117084380385693 sin_calcular\n",
      "['return_m_pm', 'return_vwm_pw'] 0.030931890243641295 sin_calcular\n",
      "['return_m_pm', 'return_vwm_pm'] 0.017717007261639557 sin_calcular\n",
      "['return_vwm_pw', 'return_vwm_pm'] 0.022184687933932128 sin_calcular\n",
      "['return_d', 'return_w', 'return_m'] 0.04870372594730933 sin_calcular\n",
      "['return_d', 'return_w', 'return_m_pw'] 0.023704416488582708 sin_calcular\n",
      "['return_d', 'return_w', 'return_m_pm'] 0.048828571459827004 sin_calcular\n",
      "['return_d', 'return_w', 'return_vwm_pw'] 0.025521563667609125 sin_calcular\n",
      "['return_d', 'return_w', 'return_vwm_pm'] 0.049409174824843055 sin_calcular\n",
      "['return_d', 'return_m', 'return_m_pw'] 0.02093862044867486 sin_calcular\n",
      "['return_d', 'return_m', 'return_m_pm'] 0.0368911414500769 sin_calcular\n",
      "['return_d', 'return_m', 'return_vwm_pw'] 0.025521563667609125 sin_calcular\n",
      "['return_d', 'return_m', 'return_vwm_pm'] 0.03492657891748399 sin_calcular\n",
      "['return_d', 'return_m_pw', 'return_m_pm'] 0.019153300319474324 sin_calcular\n",
      "['return_d', 'return_m_pw', 'return_vwm_pw'] 0.02682424813135635 sin_calcular\n",
      "['return_d', 'return_m_pw', 'return_vwm_pm'] 0.021067364877378647 sin_calcular\n",
      "['return_d', 'return_m_pm', 'return_vwm_pw'] 0.025521563667609125 sin_calcular\n",
      "['return_d', 'return_m_pm', 'return_vwm_pm'] 0.037357251825609304 sin_calcular\n"
     ]
    },
    {
     "name": "stdout",
     "output_type": "stream",
     "text": [
      "['return_d', 'return_vwm_pw', 'return_vwm_pm'] 0.025297151515542578 sin_calcular\n",
      "['return_w', 'return_m', 'return_m_pw'] 0.024214281682659967 sin_calcular\n",
      "['return_w', 'return_m', 'return_m_pm'] 0.03774145919110985 sin_calcular\n",
      "['return_w', 'return_m', 'return_vwm_pw'] 0.02520825302163425 sin_calcular\n",
      "['return_w', 'return_m', 'return_vwm_pm'] 0.03774145919110985 sin_calcular\n",
      "['return_w', 'return_m_pw', 'return_m_pm'] 0.06017072022836049 sin_calcular\n",
      "['return_w', 'return_m_pw', 'return_vwm_pw'] 0.0275661464565444 sin_calcular\n",
      "['return_w', 'return_m_pw', 'return_vwm_pm'] 0.021117084380385693 sin_calcular\n",
      "['return_w', 'return_m_pm', 'return_vwm_pw'] 0.030931890243641295 sin_calcular\n",
      "['return_w', 'return_m_pm', 'return_vwm_pm'] 0.03774145919110985 sin_calcular\n",
      "['return_w', 'return_vwm_pw', 'return_vwm_pm'] 0.022184687933932128 sin_calcular\n",
      "['return_m', 'return_m_pw', 'return_m_pm'] 0.06017072022836049 sin_calcular\n",
      "['return_m', 'return_m_pw', 'return_vwm_pw'] 0.0228891243461092 sin_calcular\n",
      "['return_m', 'return_m_pw', 'return_vwm_pm'] 0.021117084380385693 sin_calcular\n",
      "['return_m', 'return_m_pm', 'return_vwm_pw'] 0.030931890243641295 sin_calcular\n",
      "['return_m', 'return_m_pm', 'return_vwm_pm'] 0.024687992179357025 sin_calcular\n",
      "['return_m', 'return_vwm_pw', 'return_vwm_pm'] 0.022184687933932128 sin_calcular\n",
      "['return_m_pw', 'return_m_pm', 'return_vwm_pw'] 0.021570181058313997 sin_calcular\n",
      "['return_m_pw', 'return_m_pm', 'return_vwm_pm'] 0.021117084380385693 sin_calcular\n",
      "['return_m_pw', 'return_vwm_pw', 'return_vwm_pm'] 0.022376521257505083 sin_calcular\n",
      "['return_m_pm', 'return_vwm_pw', 'return_vwm_pm'] 0.022184687933932128 sin_calcular\n",
      "['return_d', 'return_w', 'return_m', 'return_m_pw'] 0.02093862044867486 sin_calcular\n",
      "['return_d', 'return_w', 'return_m', 'return_m_pm'] 0.04870372594730933 sin_calcular\n",
      "['return_d', 'return_w', 'return_m', 'return_vwm_pw'] 0.025521563667609125 sin_calcular\n",
      "['return_d', 'return_w', 'return_m', 'return_vwm_pm'] 0.04870372594730933 sin_calcular\n",
      "['return_d', 'return_w', 'return_m_pw', 'return_m_pm'] 0.019153300319474324 sin_calcular\n",
      "['return_d', 'return_w', 'return_m_pw', 'return_vwm_pw'] 0.02682424813135635 sin_calcular\n",
      "['return_d', 'return_w', 'return_m_pw', 'return_vwm_pm'] 0.021067364877378647 sin_calcular\n",
      "['return_d', 'return_w', 'return_m_pm', 'return_vwm_pw'] 0.025521563667609125 sin_calcular\n",
      "['return_d', 'return_w', 'return_m_pm', 'return_vwm_pm'] 0.048828571459827004 sin_calcular\n",
      "['return_d', 'return_w', 'return_vwm_pw', 'return_vwm_pm'] 0.025297151515542578 sin_calcular\n",
      "['return_d', 'return_m', 'return_m_pw', 'return_m_pm'] 0.019153300319474324 sin_calcular\n",
      "['return_d', 'return_m', 'return_m_pw', 'return_vwm_pw'] 0.02682424813135635 sin_calcular\n",
      "['return_d', 'return_m', 'return_m_pw', 'return_vwm_pm'] 0.021067364877378647 sin_calcular\n",
      "['return_d', 'return_m', 'return_m_pm', 'return_vwm_pw'] 0.025521563667609125 sin_calcular\n",
      "['return_d', 'return_m', 'return_m_pm', 'return_vwm_pm'] 0.0368911414500769 sin_calcular\n",
      "['return_d', 'return_m', 'return_vwm_pw', 'return_vwm_pm'] 0.025297151515542578 sin_calcular\n",
      "['return_d', 'return_m_pw', 'return_m_pm', 'return_vwm_pw'] 0.02682424813135635 sin_calcular\n",
      "['return_d', 'return_m_pw', 'return_m_pm', 'return_vwm_pm'] 0.021067364877378647 sin_calcular\n",
      "['return_d', 'return_m_pw', 'return_vwm_pw', 'return_vwm_pm'] 0.021067364877378647 sin_calcular\n",
      "['return_d', 'return_m_pm', 'return_vwm_pw', 'return_vwm_pm'] 0.025297151515542578 sin_calcular\n",
      "['return_w', 'return_m', 'return_m_pw', 'return_m_pm'] 0.06017072022836049 sin_calcular\n",
      "['return_w', 'return_m', 'return_m_pw', 'return_vwm_pw'] 0.0228891243461092 sin_calcular\n",
      "['return_w', 'return_m', 'return_m_pw', 'return_vwm_pm'] 0.021117084380385693 sin_calcular\n",
      "['return_w', 'return_m', 'return_m_pm', 'return_vwm_pw'] 0.030931890243641295 sin_calcular\n",
      "['return_w', 'return_m', 'return_m_pm', 'return_vwm_pm'] 0.03774145919110985 sin_calcular\n",
      "['return_w', 'return_m', 'return_vwm_pw', 'return_vwm_pm'] 0.022184687933932128 sin_calcular\n",
      "['return_w', 'return_m_pw', 'return_m_pm', 'return_vwm_pw'] 0.021570181058313997 sin_calcular\n",
      "['return_w', 'return_m_pw', 'return_m_pm', 'return_vwm_pm'] 0.021117084380385693 sin_calcular\n",
      "['return_w', 'return_m_pw', 'return_vwm_pw', 'return_vwm_pm'] 0.022376521257505083 sin_calcular\n",
      "['return_w', 'return_m_pm', 'return_vwm_pw', 'return_vwm_pm'] 0.022184687933932128 sin_calcular\n"
     ]
    },
    {
     "ename": "KeyboardInterrupt",
     "evalue": "",
     "output_type": "error",
     "traceback": [
      "\u001b[1;31m---------------------------------------------------------------------------\u001b[0m",
      "\u001b[1;31mKeyboardInterrupt\u001b[0m                         Traceback (most recent call last)",
      "\u001b[1;32m<ipython-input-34-f18438c94775>\u001b[0m in \u001b[0;36m<module>\u001b[1;34m\u001b[0m\n\u001b[0;32m     34\u001b[0m         \u001b[0mmodel\u001b[0m \u001b[1;33m=\u001b[0m \u001b[0mtree\u001b[0m\u001b[1;33m.\u001b[0m\u001b[0mDecisionTreeClassifier\u001b[0m\u001b[1;33m(\u001b[0m\u001b[0mmax_depth\u001b[0m\u001b[1;33m=\u001b[0m\u001b[0mi\u001b[0m\u001b[1;33m)\u001b[0m\u001b[1;33m\u001b[0m\u001b[1;33m\u001b[0m\u001b[0m\n\u001b[0;32m     35\u001b[0m         \u001b[1;31m#metricas para el caso\u001b[0m\u001b[1;33m\u001b[0m\u001b[1;33m\u001b[0m\u001b[1;33m\u001b[0m\u001b[0m\n\u001b[1;32m---> 36\u001b[1;33m         \u001b[0mmodel\u001b[0m \u001b[1;33m=\u001b[0m \u001b[0mmodel\u001b[0m\u001b[1;33m.\u001b[0m\u001b[0mfit\u001b[0m\u001b[1;33m(\u001b[0m\u001b[0mdf_train\u001b[0m\u001b[1;33m[\u001b[0m\u001b[0mfeatures\u001b[0m\u001b[1;33m]\u001b[0m\u001b[1;33m,\u001b[0m \u001b[0mdf_train\u001b[0m\u001b[1;33m[\u001b[0m\u001b[0mtarget\u001b[0m\u001b[1;33m]\u001b[0m\u001b[1;33m,\u001b[0m\u001b[0msample_weight\u001b[0m\u001b[1;33m=\u001b[0m\u001b[0mdf_train\u001b[0m\u001b[1;33m.\u001b[0m\u001b[0msample_weight\u001b[0m\u001b[1;33m.\u001b[0m\u001b[0mvalues\u001b[0m\u001b[1;33m)\u001b[0m\u001b[1;33m\u001b[0m\u001b[1;33m\u001b[0m\u001b[0m\n\u001b[0m\u001b[0;32m     37\u001b[0m         \u001b[1;31m#s=(df_train[[ True if x==1 else False for x in model.predict(df_train[features])]]).groupby('date')['return_f_d'].mean()\u001b[0m\u001b[1;33m\u001b[0m\u001b[1;33m\u001b[0m\u001b[1;33m\u001b[0m\u001b[0m\n\u001b[0;32m     38\u001b[0m         \u001b[1;31m#rcs_train=((s.cumsum())[-2:-1]).values[0] if len(s)>1 else 0\u001b[0m\u001b[1;33m\u001b[0m\u001b[1;33m\u001b[0m\u001b[1;33m\u001b[0m\u001b[0m\n",
      "\u001b[1;32m~\\anaconda3\\lib\\site-packages\\sklearn\\tree\\_classes.py\u001b[0m in \u001b[0;36mfit\u001b[1;34m(self, X, y, sample_weight, check_input, X_idx_sorted)\u001b[0m\n\u001b[0;32m    896\u001b[0m         \"\"\"\n\u001b[0;32m    897\u001b[0m \u001b[1;33m\u001b[0m\u001b[0m\n\u001b[1;32m--> 898\u001b[1;33m         super().fit(\n\u001b[0m\u001b[0;32m    899\u001b[0m             \u001b[0mX\u001b[0m\u001b[1;33m,\u001b[0m \u001b[0my\u001b[0m\u001b[1;33m,\u001b[0m\u001b[1;33m\u001b[0m\u001b[1;33m\u001b[0m\u001b[0m\n\u001b[0;32m    900\u001b[0m             \u001b[0msample_weight\u001b[0m\u001b[1;33m=\u001b[0m\u001b[0msample_weight\u001b[0m\u001b[1;33m,\u001b[0m\u001b[1;33m\u001b[0m\u001b[1;33m\u001b[0m\u001b[0m\n",
      "\u001b[1;32m~\\anaconda3\\lib\\site-packages\\sklearn\\tree\\_classes.py\u001b[0m in \u001b[0;36mfit\u001b[1;34m(self, X, y, sample_weight, check_input, X_idx_sorted)\u001b[0m\n\u001b[0;32m    387\u001b[0m                                            min_impurity_split)\n\u001b[0;32m    388\u001b[0m \u001b[1;33m\u001b[0m\u001b[0m\n\u001b[1;32m--> 389\u001b[1;33m         \u001b[0mbuilder\u001b[0m\u001b[1;33m.\u001b[0m\u001b[0mbuild\u001b[0m\u001b[1;33m(\u001b[0m\u001b[0mself\u001b[0m\u001b[1;33m.\u001b[0m\u001b[0mtree_\u001b[0m\u001b[1;33m,\u001b[0m \u001b[0mX\u001b[0m\u001b[1;33m,\u001b[0m \u001b[0my\u001b[0m\u001b[1;33m,\u001b[0m \u001b[0msample_weight\u001b[0m\u001b[1;33m)\u001b[0m\u001b[1;33m\u001b[0m\u001b[1;33m\u001b[0m\u001b[0m\n\u001b[0m\u001b[0;32m    390\u001b[0m \u001b[1;33m\u001b[0m\u001b[0m\n\u001b[0;32m    391\u001b[0m         \u001b[1;32mif\u001b[0m \u001b[0mself\u001b[0m\u001b[1;33m.\u001b[0m\u001b[0mn_outputs_\u001b[0m \u001b[1;33m==\u001b[0m \u001b[1;36m1\u001b[0m \u001b[1;32mand\u001b[0m \u001b[0mis_classifier\u001b[0m\u001b[1;33m(\u001b[0m\u001b[0mself\u001b[0m\u001b[1;33m)\u001b[0m\u001b[1;33m:\u001b[0m\u001b[1;33m\u001b[0m\u001b[1;33m\u001b[0m\u001b[0m\n",
      "\u001b[1;31mKeyboardInterrupt\u001b[0m: "
     ]
    }
   ],
   "source": [
    "#Construimos un modelo de árbol de decisión con cv de features y profundidad\n",
    "tiempo_busqueda=30*60 #en segundos\n",
    "max_depth=4\n",
    "max_features=100\n",
    "#mask=['return_d', 'sector_Energy','return_y','return_m_py', 'return_vwm_py','return_m','volatility_y_rd', 'return_w']\n",
    "#mask=['return_d', 'return_w', 'return_y', 'volatility_w_rd', 'volatility_m_rd','sector_Consumer Services']\n",
    "#mask=['return_d', 'return_w', 'return_y', 'volatility_w_rd', 'volatility_m_rd','sector_Consumer Services','return_m_py', 'return_vwm_py','return_m','volatility_y_rd']\n",
    "mask=total_features\n",
    "mask=['return_d','return_w','return_m','return_m_pw','return_m_pm','return_vwm_pw','return_vwm_pm']\n",
    "#Estrategia random val\n",
    "s=df_val.groupby('date')['return_f_d'].mean()\n",
    "rcs_random_val=((s.cumsum())[-2:-1]).values[0] if len(s)>1 else 0\n",
    "print('Retorno random validacion',rcs_random_val)\n",
    "#Estrategia random train\n",
    "s=df_train.groupby('date')['return_f_d'].mean()\n",
    "rcs_random_train=((s.cumsum())[-2:-1]).values[0] if len(s)>1 else 0\n",
    "print('Retorno random train',rcs_random_train)\n",
    "#Selección de features y profundidad con cv\n",
    "t=datetime.datetime.now()\n",
    "depths=range(1,max_depth+1)\n",
    "opt_depth=0\n",
    "accuracy_cv=0.5\n",
    "opt_features=[]\n",
    "metric=-1000000\n",
    "rcs_train='sin_calcular'\n",
    "tt=datetime.datetime.now()\n",
    "for i in depths:\n",
    "    if (datetime.datetime.now()-tt).seconds>tiempo_busqueda:\n",
    "        break\n",
    "    print('depth',i)\n",
    "    for features in list_cobmination_columns(df_train[mask],min(max_features, (2**i)-1)):\n",
    "        if (datetime.datetime.now()-tt).seconds>tiempo_busqueda:\n",
    "            break\n",
    "        model = tree.DecisionTreeClassifier(max_depth=i)\n",
    "        #metricas para el caso\n",
    "        model = model.fit(df_train[features], df_train[target],sample_weight=df_train.sample_weight.values)\n",
    "        #s=(df_train[[ True if x==1 else False for x in model.predict(df_train[features])]]).groupby('date')['return_f_d'].mean()\n",
    "        #rcs_train=((s.cumsum())[-2:-1]).values[0] if len(s)>1 else 0\n",
    "        s=(df_val[[ True if x==1 else False for x in model.predict(df_val[features])]]).groupby('date')['return_f_d'].mean()\n",
    "        rcs_val=((s.cumsum())[-2:-1]).values[0] if len(s)>1 else 0\n",
    "        print(features,rcs_val,rcs_train)\n",
    "        if metric < rcs_val:# and (rcs_train/len(df_train)<3*rcs_val/len(df_val) or rcs_train<3*rcs_random_train):\n",
    "            metric=rcs_val\n",
    "            opt_depth=i\n",
    "            opt_features=features\n",
    "            accuracy_opt=sum(model.predict(df_train[features])==df_train.return_gt_0.values)/len(df_train[target])\n",
    "            s=(df_train[[ True if x==1 else False for x in model.predict(df_train[features])]]).groupby('date')['return_f_d'].mean()\n",
    "            rcs_train=((s.cumsum())[-2:-1]).values[0] if len(s)>1 else 0\n",
    "            print('features_encontrados',opt_features,'Retorno validacion',rcs_val,'Retorno train',rcs_train,'Profundidad encontrada',opt_depth,'accuracy encontrada',accuracy_opt)\n",
    "            rcs_train='sin_calcular'\n",
    "t=datetime.datetime.now()-t\n",
    "print('Selección de hiperparámetros terminada en ',t,' s')\n",
    "\n",
    "#Validation\n",
    "print('Validation')\n",
    "#Accuraccy random validacion\n",
    "y_random = []\n",
    "for i in range(len(df_val)):\n",
    "    n = random.randint(0,1)\n",
    "    y_random.append(n)\n",
    "print('accuracy random validation',sum(y_random==df_val.return_gt_0)/len(df_val.return_gt_0))\n",
    "print(confusion_matrix(df_val.return_gt_0, y_random))\n",
    "\n",
    "model = tree.DecisionTreeClassifier(max_depth=opt_depth)\n",
    "model = model.fit(df_train[opt_features], df_train[target],sample_weight=df_train.sample_weight.values)\n",
    "\n",
    "accuracy_train=sum(model.predict(df_train[opt_features])==df_train.return_gt_0.values)/len(df_train[target])\n",
    "s=(df_train[[ True if x==1 else False for x in model.predict(df_train[opt_features])]]).groupby('date')['return_f_d'].mean()\n",
    "rcs_train=((s.cumsum())[-2:-1]).values[0] if len(s)>1 else 0\n",
    "accuracy_val=sum(model.predict(df_val[opt_features])==df_val.return_gt_0.values)/len(df_val[target])\n",
    "s=(df_val[[ True if x==1 else False for x in model.predict(df_val[opt_features])]]).groupby('date')['return_f_d'].mean()\n",
    "rcs_val=((s.cumsum())[-2:-1]).values[0] if len(s)>1 else 0\n",
    "print('Features optimos',opt_features,'Retorno en validation',rcs_val,'Retorno en train',rcs_train,'Profundidad optima',opt_depth,'accuracy_val',accuracy_val,'accuracy_train',accuracy_train)\n",
    "\n",
    "y_pred_train=model.predict(df_train[opt_features])\n",
    "y_train=df_train.return_gt_0.values\n",
    "print('accuracy model train',sum(y_pred_train==y_train)/len(y_train))\n",
    "print(confusion_matrix(y_train, y_pred_train))\n",
    "\n",
    "y_pred_val=model.predict(df_val[opt_features])\n",
    "y_val=df_val.return_gt_0.values\n",
    "print('accuracy model val',sum(y_pred_val==y_val)/len(y_val))\n",
    "print(confusion_matrix(y_val, y_pred_val))\n",
    "#validacion(model,df_train[opt_features], df_train[target].values,df_val[opt_features], df_val[target].values)      \n",
    "\n",
    "#Test\n",
    "print('Test')\n",
    "#Accuraccy random test\n",
    "y_random = []\n",
    "for i in range(len(df_test)):\n",
    "    n = random.randint(0,1)\n",
    "    y_random.append(n)\n",
    "print('accuracy random test',sum(y_random==df_test.return_gt_0)/len(df_test.return_gt_0))\n",
    "print(confusion_matrix(df_test.return_gt_0, y_random))\n",
    "\n",
    "#Estrategia random test\n",
    "s=df_test.groupby('date')['return_f_d'].mean()\n",
    "rcs_random=((s.cumsum())[-2:-1]).values[0] if len(s)>1 else 0\n",
    "print('Retorno random test',rcs_random)\n",
    "\n",
    "#Modelo final\n",
    "model = tree.DecisionTreeClassifier(max_depth=opt_depth)\n",
    "model = model.fit(df_train_val[opt_features], df_train_val[target],sample_weight=df_train_val.sample_weight.values)\n",
    "\n",
    "#Metricas del modelo final\n",
    "accuracy_test=sum(model.predict(df_test[opt_features])==df_test.return_gt_0.values)/len(df_test[target])\n",
    "accuracy_train_val=sum(model.predict(df_train_val[opt_features])==df_train_val.return_gt_0.values)/len(df_train_val[target])\n",
    "s=(df_test[[ True if x==1 else False for x in model.predict(df_test[opt_features])]]).groupby('date')['return_f_d'].mean()\n",
    "rcs_test=((s.cumsum())[-2:-1]).values[0] if len(s)>1 else 0\n",
    "s=(df_train_val[[ True if x==1 else False for x in model.predict(df_train_val[opt_features])]]).groupby('date')['return_f_d'].mean()\n",
    "rcs_train_val=((s.cumsum())[-2:-1]).values[0] if len(s)>1 else 0\n",
    "print('Features optimos',opt_features,'Retorno en test',rcs_test,'Retorno en train_val',rcs_train_val,'Profundidad optima',opt_depth,'accuracy_test',accuracy_test,'accuracy_train_val',accuracy_train_val)\n",
    "\n",
    "y_pred_val=model.predict(df_train_val[opt_features])\n",
    "y_val=df_train_val.return_gt_0.values\n",
    "print('accuracy model train_val',sum(y_pred_val==y_val)/len(y_val))\n",
    "print(confusion_matrix(y_val, y_pred_val))\n",
    "\n",
    "y_pred_test=model.predict(df_test[opt_features])\n",
    "y_test=df_test.return_gt_0.values\n",
    "print('accuracy model test',sum(y_pred_test==y_test)/len(y_test))\n",
    "print(confusion_matrix(y_test, y_pred_test))\n",
    "#validacion(model,df_val[opt_features], df_val[target].values,df_test[opt_features], df_test[target].values)\n",
    "\n"
   ]
  },
  {
   "cell_type": "code",
   "execution_count": 42,
   "id": "e137b1dc",
   "metadata": {},
   "outputs": [
    {
     "name": "stdout",
     "output_type": "stream",
     "text": [
      "Retorno random validacion 0.014767514938080692\n",
      "Retorno random train 2.1124478458258094\n",
      "depth 1\n",
      "0.06017072022836049 4.672926587011144\n",
      "-->Profundidad encontrada 1 Retorno validacion 0.06017072022836049 Retorno train 4.672926587011144 accuracy encontrada 0.512410973936313\n",
      "depth 2\n",
      "0.06017072022836049 4.672926587011144\n",
      "depth 3\n",
      "0.015960210034754667 2.7090179981249745\n",
      "depth 4\n",
      "0.019052065053989896 2.8945588377975593\n",
      "depth 5\n",
      "0.03563014844730471 4.025452197433485\n",
      "depth 6\n",
      "0.03309945670265882 3.7239361688297667\n",
      "depth 7\n",
      "0.034909433919232305 4.019653166821502\n",
      "depth 8\n",
      "0.033056897816630904 4.112166141474264\n",
      "depth 9\n",
      "0.027429580659648636 3.762027619581547\n",
      "depth 10\n",
      "0.0335176339768994 4.038189832691946\n",
      "Selección de hiperparámetros terminada en  0:11:37.217469  s\n",
      "Validation\n",
      "accuracy random validation 0.49791493535176573\n",
      "[[33655 33872]\n",
      " [33191 32851]]\n",
      "-->>Profundidad optima 1 Retorno en validation 0.06017072022836049 Retorno en train 4.672926587011144 accuracy_val 0.5076177855640156 accuracy_train 0.512410973936313\n",
      "accuracy model train 0.512410973936313\n",
      "[[ 859251 1032257]\n",
      " [ 791285 1057123]]\n",
      "accuracy model val 0.5076177855640156\n",
      "[[28796 38731]\n",
      " [27036 39006]]\n",
      "Test\n",
      "accuracy random test 0.4993186990896023\n",
      "[[33671 33587]\n",
      " [33288 33022]]\n",
      "Retorno random test 0.04768328215196213\n",
      "-->>>Profundidad optima 1 Retorno en test 0.07069492831569649 Retorno en train_val 4.743337938471058 Profundidad optima 1 accuracy_test 0.4934640033540968 accuracy_train_val 0.5122549848521422\n",
      "accuracy model train_val 0.5122549848521422\n",
      "[[ 889342 1069693]\n",
      " [ 819580 1094870]]\n",
      "accuracy model test 0.4934640033540968\n",
      "[[27667 39591]\n",
      " [28066 38244]]\n"
     ]
    }
   ],
   "source": [
    "#Construimos un modelo de árbol de decisión con cv de profundidad\n",
    "tiempo_busqueda=30*60 #en segundos\n",
    "max_depth=10\n",
    "max_features=100\n",
    "#mask=['return_d', 'sector_Energy','return_y','return_m_py', 'return_vwm_py','return_m','volatility_y_rd', 'return_w']\n",
    "#mask=['return_d', 'return_w', 'return_y', 'volatility_w_rd', 'volatility_m_rd','sector_Consumer Services']\n",
    "#mask=['return_d', 'return_w', 'return_y', 'volatility_w_rd', 'volatility_m_rd','sector_Consumer Services','return_m_py', 'return_vwm_py','return_m','volatility_y_rd']\n",
    "mask=total_features\n",
    "#mask=['return_d','return_w','return_m','return_m_pw','return_m_pm','return_vwm_pw','return_vwm_pm']\n",
    "#Estrategia random val\n",
    "s=df_val.groupby('date')['return_f_d'].mean()\n",
    "rcs_random_val=((s.cumsum())[-2:-1]).values[0] if len(s)>1 else 0\n",
    "print('Retorno random validacion',rcs_random_val)\n",
    "#Estrategia random train\n",
    "s=df_train.groupby('date')['return_f_d'].mean()\n",
    "rcs_random_train=((s.cumsum())[-2:-1]).values[0] if len(s)>1 else 0\n",
    "print('Retorno random train',rcs_random_train)\n",
    "#Selección de features y profundidad con cv\n",
    "t=datetime.datetime.now()\n",
    "depths=range(1,max_depth+1)\n",
    "opt_depth=0\n",
    "accuracy_cv=0.5\n",
    "opt_features=[]\n",
    "metric=-1000000\n",
    "rcs_train='sin_calcular'\n",
    "tt=datetime.datetime.now()\n",
    "for i in depths:\n",
    "    if (datetime.datetime.now()-tt).seconds>tiempo_busqueda:\n",
    "        break\n",
    "    print('depth',i)\n",
    "    model = tree.DecisionTreeClassifier(max_depth=i)\n",
    "    #metricas para el caso\n",
    "    model = model.fit(df_train[mask], df_train[target],sample_weight=df_train.sample_weight.values)\n",
    "    s=(df_train[[ True if x==1 else False for x in model.predict(df_train[mask])]]).groupby('date')['return_f_d'].mean()\n",
    "    rcs_train=((s.cumsum())[-2:-1]).values[0] if len(s)>1 else 0\n",
    "    s=(df_val[[ True if x==1 else False for x in model.predict(df_val[mask])]]).groupby('date')['return_f_d'].mean()\n",
    "    rcs_val=((s.cumsum())[-2:-1]).values[0] if len(s)>1 else 0\n",
    "    print(rcs_val,rcs_train)\n",
    "    if metric < rcs_val:# and (rcs_train/len(df_train)<3*rcs_val/len(df_val) or rcs_train<3*rcs_random_train):\n",
    "        metric=rcs_val\n",
    "        opt_depth=i\n",
    "        opt_features=mask\n",
    "        accuracy_opt=sum(model.predict(df_train[mask])==df_train.return_gt_0.values)/len(df_train[target])\n",
    "        print('-->Profundidad encontrada',opt_depth,'Retorno validacion',rcs_val,'Retorno train',rcs_train,'accuracy encontrada',accuracy_opt)\n",
    "t=datetime.datetime.now()-t\n",
    "print('Selección de hiperparámetros terminada en ',t,' s')\n",
    "\n",
    "#Validation\n",
    "print('Validation')\n",
    "#Accuraccy random validacion\n",
    "y_random = []\n",
    "for i in range(len(df_val)):\n",
    "    n = random.randint(0,1)\n",
    "    y_random.append(n)\n",
    "print('accuracy random validation',sum(y_random==df_val.return_gt_0)/len(df_val.return_gt_0))\n",
    "print(confusion_matrix(df_val.return_gt_0, y_random))\n",
    "\n",
    "model = tree.DecisionTreeClassifier(max_depth=opt_depth)\n",
    "model = model.fit(df_train[opt_features], df_train[target],sample_weight=df_train.sample_weight.values)\n",
    "\n",
    "accuracy_train=sum(model.predict(df_train[opt_features])==df_train.return_gt_0.values)/len(df_train[target])\n",
    "s=(df_train[[ True if x==1 else False for x in model.predict(df_train[opt_features])]]).groupby('date')['return_f_d'].mean()\n",
    "rcs_train=((s.cumsum())[-2:-1]).values[0] if len(s)>1 else 0\n",
    "accuracy_val=sum(model.predict(df_val[opt_features])==df_val.return_gt_0.values)/len(df_val[target])\n",
    "s=(df_val[[ True if x==1 else False for x in model.predict(df_val[opt_features])]]).groupby('date')['return_f_d'].mean()\n",
    "rcs_val=((s.cumsum())[-2:-1]).values[0] if len(s)>1 else 0\n",
    "print('-->>Profundidad optima',opt_depth,'Retorno en validation',rcs_val,'Retorno en train',rcs_train,'accuracy_val',accuracy_val,'accuracy_train',accuracy_train)\n",
    "\n",
    "y_pred_train=model.predict(df_train[opt_features])\n",
    "y_train=df_train.return_gt_0.values\n",
    "print('accuracy model train',sum(y_pred_train==y_train)/len(y_train))\n",
    "print(confusion_matrix(y_train, y_pred_train))\n",
    "\n",
    "y_pred_val=model.predict(df_val[opt_features])\n",
    "y_val=df_val.return_gt_0.values\n",
    "print('accuracy model val',sum(y_pred_val==y_val)/len(y_val))\n",
    "print(confusion_matrix(y_val, y_pred_val))\n",
    "#validacion(model,df_train[opt_features], df_train[target].values,df_val[opt_features], df_val[target].values)      \n",
    "\n",
    "#Test\n",
    "print('Test')\n",
    "#Accuraccy random test\n",
    "y_random = []\n",
    "for i in range(len(df_test)):\n",
    "    n = random.randint(0,1)\n",
    "    y_random.append(n)\n",
    "print('accuracy random test',sum(y_random==df_test.return_gt_0)/len(df_test.return_gt_0))\n",
    "print(confusion_matrix(df_test.return_gt_0, y_random))\n",
    "\n",
    "#Estrategia random test\n",
    "s=df_test.groupby('date')['return_f_d'].mean()\n",
    "rcs_random=((s.cumsum())[-2:-1]).values[0] if len(s)>1 else 0\n",
    "print('Retorno random test',rcs_random)\n",
    "\n",
    "#Modelo final\n",
    "model = tree.DecisionTreeClassifier(max_depth=opt_depth)\n",
    "model = model.fit(df_train_val[opt_features], df_train_val[target],sample_weight=df_train_val.sample_weight.values)\n",
    "\n",
    "#Metricas del modelo final\n",
    "accuracy_test=sum(model.predict(df_test[opt_features])==df_test.return_gt_0.values)/len(df_test[target])\n",
    "accuracy_train_val=sum(model.predict(df_train_val[opt_features])==df_train_val.return_gt_0.values)/len(df_train_val[target])\n",
    "s=(df_test[[ True if x==1 else False for x in model.predict(df_test[opt_features])]]).groupby('date')['return_f_d'].mean()\n",
    "rcs_test=((s.cumsum())[-2:-1]).values[0] if len(s)>1 else 0\n",
    "s=(df_train_val[[ True if x==1 else False for x in model.predict(df_train_val[opt_features])]]).groupby('date')['return_f_d'].mean()\n",
    "rcs_train_val=((s.cumsum())[-2:-1]).values[0] if len(s)>1 else 0\n",
    "print('-->>>Profundidad optima',opt_depth,'Retorno en test',rcs_test,'Retorno en train_val',rcs_train_val,'Profundidad optima',opt_depth,'accuracy_test',accuracy_test,'accuracy_train_val',accuracy_train_val)\n",
    "\n",
    "y_pred_val=model.predict(df_train_val[opt_features])\n",
    "y_val=df_train_val.return_gt_0.values\n",
    "print('accuracy model train_val',sum(y_pred_val==y_val)/len(y_val))\n",
    "print(confusion_matrix(y_val, y_pred_val))\n",
    "\n",
    "y_pred_test=model.predict(df_test[opt_features])\n",
    "y_test=df_test.return_gt_0.values\n",
    "print('accuracy model test',sum(y_pred_test==y_test)/len(y_test))\n",
    "print(confusion_matrix(y_test, y_pred_test))\n",
    "#validacion(model,df_val[opt_features], df_val[target].values,df_test[opt_features], df_test[target].values)\n",
    "\n"
   ]
  },
  {
   "cell_type": "markdown",
   "id": "3502f6b4",
   "metadata": {},
   "source": [
    "## Análisis de estrategias"
   ]
  },
  {
   "cell_type": "code",
   "execution_count": 43,
   "id": "b440c863",
   "metadata": {},
   "outputs": [
    {
     "name": "stdout",
     "output_type": "stream",
     "text": [
      "Retornos diarios\n"
     ]
    },
    {
     "data": {
      "image/png": "[encoded data removed]",
      "text/plain": [
       "<Figure size 432x288 with 1 Axes>"
      ]
     },
     "metadata": {
      "needs_background": "light"
     },
     "output_type": "display_data"
    },
    {
     "name": "stdout",
     "output_type": "stream",
     "text": [
      "Retornos diarios acumulados sin reinvertir\n"
     ]
    },
    {
     "data": {
      "image/png": "[encoded data removed]",
      "text/plain": [
       "<Figure size 432x288 with 1 Axes>"
      ]
     },
     "metadata": {
      "needs_background": "light"
     },
     "output_type": "display_data"
    },
    {
     "name": "stdout",
     "output_type": "stream",
     "text": [
      "Retornos diarios acumulados reinvirtiendo\n"
     ]
    },
    {
     "data": {
      "image/png": "[encoded data removed]",
      "text/plain": [
       "<Figure size 432x288 with 1 Axes>"
      ]
     },
     "metadata": {
      "needs_background": "light"
     },
     "output_type": "display_data"
    },
    {
     "name": "stdout",
     "output_type": "stream",
     "text": [
      "Retorno final acumulado 0.046156902500617436\n"
     ]
    }
   ],
   "source": [
    "#Retornos diarios estrategia dummy (estrategia de repartir a partes iguales entre todos los tickers diariamente)\n",
    "s=df_test.groupby('date')['return_f_d'].mean()\n",
    "print('Retornos diarios')\n",
    "plt.plot(s)\n",
    "plt.plot(s.index,[s.mean()]*len(s.index))\n",
    "plt.plot(s.index,[0]*len(s.index))\n",
    "plt.show() \n",
    "#Retornos diarios acumulados hasta la fecha sin reinvertir los retornos diarios\n",
    "print('Retornos diarios acumulados sin reinvertir')\n",
    "cs=s.cumsum()\n",
    "plt.plot(cs)\n",
    "plt.plot(cs.index,[0]*len(cs.index))\n",
    "plt.show() \n",
    "#Retornos diarios acumulados hasta la fecha reinvirtiendo los retornos diarios\n",
    "print('Retornos diarios acumulados reinvirtiendo')\n",
    "rcs=(s+1).cumprod()\n",
    "plt.plot(rcs-1)\n",
    "plt.plot(rcs.index,[0]*len(rcs.index))\n",
    "plt.show()\n",
    "print('Retorno final acumulado',(rcs[-2:-1]-1).values[0])"
   ]
  },
  {
   "cell_type": "code",
   "execution_count": 44,
   "id": "2947f8bf",
   "metadata": {},
   "outputs": [
    {
     "name": "stderr",
     "output_type": "stream",
     "text": [
      "<ipython-input-44-9f2d82d1d8ca>:2: UserWarning: Boolean Series key will be reindexed to match DataFrame index.\n",
      "  s=df_test[df['return_d']>0].groupby('date')['return_f_d'].mean()\n"
     ]
    },
    {
     "name": "stdout",
     "output_type": "stream",
     "text": [
      "Retornos diarios\n"
     ]
    },
    {
     "data": {
      "image/png": "[encoded data removed]",
      "text/plain": [
       "<Figure size 432x288 with 1 Axes>"
      ]
     },
     "metadata": {
      "needs_background": "light"
     },
     "output_type": "display_data"
    },
    {
     "name": "stdout",
     "output_type": "stream",
     "text": [
      "Retornos diarios acumulados sin reinvertir\n"
     ]
    },
    {
     "data": {
      "image/png": "[encoded data removed]",
      "text/plain": [
       "<Figure size 432x288 with 1 Axes>"
      ]
     },
     "metadata": {
      "needs_background": "light"
     },
     "output_type": "display_data"
    },
    {
     "name": "stdout",
     "output_type": "stream",
     "text": [
      "Retornos diarios acumulados reinvirtiendo\n"
     ]
    },
    {
     "data": {
      "image/png": "[encoded data removed]",
      "text/plain": [
       "<Figure size 432x288 with 1 Axes>"
      ]
     },
     "metadata": {
      "needs_background": "light"
     },
     "output_type": "display_data"
    },
    {
     "name": "stdout",
     "output_type": "stream",
     "text": [
      "Retorno final acumulado 0.032236484164497314\n"
     ]
    }
   ],
   "source": [
    "#Retornos diarios estrategia básica (estrategia de repartir diariamente a partes iguales entre todos los tickers con retorno positivo respecto al día anterior)\n",
    "s=df_test[df['return_d']>0].groupby('date')['return_f_d'].mean()\n",
    "print('Retornos diarios')\n",
    "plt.plot(s)\n",
    "plt.plot(s.index,[s.mean()]*len(s.index))\n",
    "plt.plot(s.index,[0]*len(s.index))\n",
    "plt.show() \n",
    "#Retornos diarios acumulados hasta la fecha sin reinvertir los retornos diarios\n",
    "print('Retornos diarios acumulados sin reinvertir')\n",
    "cs=s.cumsum()\n",
    "plt.plot(cs)\n",
    "plt.plot(cs.index,[0]*len(cs.index))\n",
    "plt.show() \n",
    "#Retornos diarios acumulados hasta la fecha reinvirtiendo los retornos diarios\n",
    "print('Retornos diarios acumulados reinvirtiendo')\n",
    "rcs=(s+1).cumprod()\n",
    "plt.plot(rcs-1)\n",
    "plt.plot(rcs.index,[0]*len(rcs.index))\n",
    "plt.show()\n",
    "print('Retorno final acumulado',(rcs[-2:-1]-1).values[0])"
   ]
  },
  {
   "cell_type": "code",
   "execution_count": 45,
   "id": "c11f135c",
   "metadata": {},
   "outputs": [
    {
     "name": "stdout",
     "output_type": "stream",
     "text": [
      "Retornos diarios\n"
     ]
    },
    {
     "data": {
      "image/png": "[encoded data removed]",
      "text/plain": [
       "<Figure size 432x288 with 1 Axes>"
      ]
     },
     "metadata": {
      "needs_background": "light"
     },
     "output_type": "display_data"
    },
    {
     "name": "stdout",
     "output_type": "stream",
     "text": [
      "Retornos diarios acumulados sin reinvertir\n"
     ]
    },
    {
     "data": {
      "image/png": "[encoded data removed]",
      "text/plain": [
       "<Figure size 432x288 with 1 Axes>"
      ]
     },
     "metadata": {
      "needs_background": "light"
     },
     "output_type": "display_data"
    },
    {
     "name": "stdout",
     "output_type": "stream",
     "text": [
      "Retornos diarios acumulados reinvirtiendo\n"
     ]
    },
    {
     "data": {
      "image/png": "[encoded data removed]",
      "text/plain": [
       "<Figure size 432x288 with 1 Axes>"
      ]
     },
     "metadata": {
      "needs_background": "light"
     },
     "output_type": "display_data"
    },
    {
     "name": "stdout",
     "output_type": "stream",
     "text": [
      "Retorno final acumulado 0.07046279113795806\n"
     ]
    }
   ],
   "source": [
    "#Retornos diarios modelo básico (estrategia de repartir diariamente a partes iguales entre todos los tickers predichos con retorno positivo al día siguiente)\n",
    "s=((df_test)[[ True if x==1 else False for x in model.predict(df_test[opt_features])]]).groupby('date')['return_f_d'].mean()\n",
    "print('Retornos diarios')\n",
    "plt.plot(s)\n",
    "plt.plot(s.index,[s.mean()]*len(s.index))\n",
    "plt.plot(s.index,[0]*len(s.index))\n",
    "plt.show() \n",
    "#Retornos diarios acumulados hasta la fecha sin reinvertir los retornos diarios\n",
    "print('Retornos diarios acumulados sin reinvertir')\n",
    "cs=s.cumsum()\n",
    "plt.plot(cs)\n",
    "plt.plot(cs.index,[0]*len(cs.index))\n",
    "plt.show() \n",
    "#Retornos diarios acumulados hasta la fecha reinvirtiendo los retornos diarios\n",
    "print('Retornos diarios acumulados reinvirtiendo')\n",
    "rcs=(s+1).cumprod()\n",
    "plt.plot(rcs-1)\n",
    "plt.plot(rcs.index,[0]*len(rcs.index))\n",
    "plt.show()\n",
    "print('Retorno final acumulado',(rcs[-2:-1]-1).values[0])"
   ]
  },
  {
   "cell_type": "code",
   "execution_count": 46,
   "id": "7bd6321b",
   "metadata": {},
   "outputs": [
    {
     "name": "stderr",
     "output_type": "stream",
     "text": [
      "<ipython-input-46-169ffd9cc59f>:2: UserWarning: Boolean Series key will be reindexed to match DataFrame index.\n",
      "  s=(df_test)[df['return_f_d']>0].groupby('date')['return_f_d'].mean()\n"
     ]
    },
    {
     "name": "stdout",
     "output_type": "stream",
     "text": [
      "Retornos diarios\n"
     ]
    },
    {
     "data": {
      "image/png": "[encoded data removed]",
      "text/plain": [
       "<Figure size 432x288 with 1 Axes>"
      ]
     },
     "metadata": {
      "needs_background": "light"
     },
     "output_type": "display_data"
    },
    {
     "name": "stdout",
     "output_type": "stream",
     "text": [
      "Retornos diarios acumulados sin reinvertir\n"
     ]
    },
    {
     "data": {
      "image/png": "[encoded data removed]",
      "text/plain": [
       "<Figure size 432x288 with 1 Axes>"
      ]
     },
     "metadata": {
      "needs_background": "light"
     },
     "output_type": "display_data"
    },
    {
     "name": "stdout",
     "output_type": "stream",
     "text": [
      "Retornos diarios acumulados reinvirtiendo\n"
     ]
    },
    {
     "data": {
      "image/png": "[encoded data removed]",
      "text/plain": [
       "<Figure size 432x288 with 1 Axes>"
      ]
     },
     "metadata": {
      "needs_background": "light"
     },
     "output_type": "display_data"
    },
    {
     "name": "stdout",
     "output_type": "stream",
     "text": [
      "Retorno final acumulado 1.7320662166004022\n"
     ]
    }
   ],
   "source": [
    "#Retornos diarios estrategia dios  (estrategia de repartir diariamente a partes iguales entre todos los tickers que tendrán retorno positivo (supone conocer el futuro))\n",
    "s=(df_test)[df['return_f_d']>0].groupby('date')['return_f_d'].mean()\n",
    "print('Retornos diarios')\n",
    "plt.plot(s)\n",
    "plt.plot(s.index,[s.mean()]*len(s.index))\n",
    "plt.plot(s.index,[0]*len(s.index))\n",
    "plt.show() \n",
    "#Retornos diarios acumulados hasta la fecha sin reinvertir los retornos diarios\n",
    "print('Retornos diarios acumulados sin reinvertir')\n",
    "cs=s.cumsum()\n",
    "plt.plot(cs)\n",
    "plt.plot(cs.index,[0]*len(cs.index))\n",
    "plt.show() \n",
    "#Retornos diarios acumulados hasta la fecha reinvirtiendo los retornos diarios\n",
    "print('Retornos diarios acumulados reinvirtiendo')\n",
    "rcs=(s+1).cumprod()\n",
    "plt.plot(rcs-1)\n",
    "plt.plot(rcs.index,[0]*len(rcs.index))\n",
    "plt.show()\n",
    "print('Retorno final acumulado',(rcs[-2:-1]-1).values[0])"
   ]
  },
  {
   "cell_type": "markdown",
   "id": "0312c12e",
   "metadata": {},
   "source": [
    "## Siguientes pasos\n",
    "\n",
    "- Modelo para un día\n",
    "- Introducir ventana de entrenamiento como hiperparámetro\n",
    "- Backtesting\n",
    "- Introducir otro modelo\n",
    "- Añadir hiperparámetros\n",
    "- Añadir features\n",
    "- Personalizar scoring sklearn\n",
    "- Pasar listas a series o dataframes\n",
    "- Usar pandas clip para los pesos"
   ]
  }
 ],
 "metadata": {
  "kernelspec": {
   "display_name": "Python 3",
   "language": "python",
   "name": "python3"
  },
  "language_info": {
   "codemirror_mode": {
    "name": "ipython",
    "version": 3
   },
   "file_extension": ".py",
   "mimetype": "text/x-python",
   "name": "python",
   "nbconvert_exporter": "python",
   "pygments_lexer": "ipython3",
   "version": "3.8.8"
  }
 },
 "nbformat": 4,
 "nbformat_minor": 5
}
