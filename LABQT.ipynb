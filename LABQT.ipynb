{
 "cells": [
  {
   "cell_type": "markdown",
   "id": "2c522428",
   "metadata": {},
   "source": [
    "# QuantitativeTrading"
   ]
  },
  {
   "cell_type": "markdown",
   "id": "09be372d",
   "metadata": {},
   "source": [
    "## Librerías"
   ]
  },
  {
   "cell_type": "code",
   "execution_count": 1,
   "id": "07444fe4",
   "metadata": {},
   "outputs": [],
   "source": [
    "import pandas as pd\n",
    "import matplotlib.pyplot as plt\n",
    "import numpy as np\n",
    "import datetime\n",
    "from sklearn import tree\n",
    "from sklearn.metrics import confusion_matrix\n",
    "import random\n",
    "#from sklearn.neighbors import KNeighborsClassifier\n",
    "#from sklearn.linear_model import LogisticRegression\n",
    "from sklearn.metrics import classification_report\n",
    "import pickle\n",
    "from sklearn.model_selection import cross_val_score\n",
    "import itertools\n",
    "import math\n",
    "import scipy.special\n",
    "#Configuramos pandas para mostrarnos 20 filas\n",
    "pd.set_option('display.max_rows', 20)\n",
    "pd.set_option('display.min_rows', 20)"
   ]
  },
  {
   "cell_type": "markdown",
   "id": "5d5d1af3",
   "metadata": {},
   "source": [
    "## Funciones"
   ]
  },
  {
   "cell_type": "code",
   "execution_count": 2,
   "id": "54546db0",
   "metadata": {},
   "outputs": [],
   "source": [
    "## Lista de las posibles combinaciones de columnas de un dataframe\n",
    "def list_cobmination_columns(df,num_max_comb):\n",
    "    list_cobmination_columns=[]\n",
    "    df_columns = df.columns\n",
    "    for i in range (1,min(num_max_comb,len(df_columns))+1):\n",
    "        for _, j in enumerate(itertools.combinations(df_columns, i)):\n",
    "            list_cobmination_columns.append(list(j))\n",
    "    return list_cobmination_columns"
   ]
  },
  {
   "cell_type": "markdown",
   "id": "ac3d0f42",
   "metadata": {},
   "source": [
    "## Carga de datos"
   ]
  },
  {
   "cell_type": "code",
   "execution_count": 3,
   "id": "82da26e3",
   "metadata": {},
   "outputs": [
    {
     "name": "stdout",
     "output_type": "stream",
     "text": [
      "15389314\n",
      "15389314\n",
      "12274396\n"
     ]
    },
    {
     "data": {
      "text/html": [
       "<div>\n",
       "<style scoped>\n",
       "    .dataframe tbody tr th:only-of-type {\n",
       "        vertical-align: middle;\n",
       "    }\n",
       "\n",
       "    .dataframe tbody tr th {\n",
       "        vertical-align: top;\n",
       "    }\n",
       "\n",
       "    .dataframe thead th {\n",
       "        text-align: right;\n",
       "    }\n",
       "</style>\n",
       "<table border=\"1\" class=\"dataframe\">\n",
       "  <thead>\n",
       "    <tr style=\"text-align: right;\">\n",
       "      <th></th>\n",
       "      <th>ticker</th>\n",
       "      <th>date</th>\n",
       "      <th>adj_close</th>\n",
       "      <th>adj_volume</th>\n",
       "      <th>sector</th>\n",
       "    </tr>\n",
       "  </thead>\n",
       "  <tbody>\n",
       "    <tr>\n",
       "      <th>0</th>\n",
       "      <td>A</td>\n",
       "      <td>1999-11-18</td>\n",
       "      <td>30.018590</td>\n",
       "      <td>44739900.0</td>\n",
       "      <td>Capital Goods</td>\n",
       "    </tr>\n",
       "    <tr>\n",
       "      <th>1</th>\n",
       "      <td>A</td>\n",
       "      <td>1999-11-19</td>\n",
       "      <td>27.548879</td>\n",
       "      <td>10897100.0</td>\n",
       "      <td>Capital Goods</td>\n",
       "    </tr>\n",
       "    <tr>\n",
       "      <th>2</th>\n",
       "      <td>A</td>\n",
       "      <td>1999-11-22</td>\n",
       "      <td>30.018590</td>\n",
       "      <td>4705200.0</td>\n",
       "      <td>Capital Goods</td>\n",
       "    </tr>\n",
       "    <tr>\n",
       "      <th>3</th>\n",
       "      <td>A</td>\n",
       "      <td>1999-11-23</td>\n",
       "      <td>27.460188</td>\n",
       "      <td>4274400.0</td>\n",
       "      <td>Capital Goods</td>\n",
       "    </tr>\n",
       "    <tr>\n",
       "      <th>4</th>\n",
       "      <td>A</td>\n",
       "      <td>1999-11-24</td>\n",
       "      <td>28.012803</td>\n",
       "      <td>3464400.0</td>\n",
       "      <td>Capital Goods</td>\n",
       "    </tr>\n",
       "    <tr>\n",
       "      <th>5</th>\n",
       "      <td>A</td>\n",
       "      <td>1999-11-26</td>\n",
       "      <td>28.101494</td>\n",
       "      <td>1237100.0</td>\n",
       "      <td>Capital Goods</td>\n",
       "    </tr>\n",
       "    <tr>\n",
       "      <th>6</th>\n",
       "      <td>A</td>\n",
       "      <td>1999-11-29</td>\n",
       "      <td>28.742800</td>\n",
       "      <td>2914700.0</td>\n",
       "      <td>Capital Goods</td>\n",
       "    </tr>\n",
       "    <tr>\n",
       "      <th>7</th>\n",
       "      <td>A</td>\n",
       "      <td>1999-11-30</td>\n",
       "      <td>28.783735</td>\n",
       "      <td>3083000.0</td>\n",
       "      <td>Capital Goods</td>\n",
       "    </tr>\n",
       "    <tr>\n",
       "      <th>8</th>\n",
       "      <td>A</td>\n",
       "      <td>1999-12-01</td>\n",
       "      <td>29.295415</td>\n",
       "      <td>2115400.0</td>\n",
       "      <td>Capital Goods</td>\n",
       "    </tr>\n",
       "    <tr>\n",
       "      <th>9</th>\n",
       "      <td>A</td>\n",
       "      <td>1999-12-02</td>\n",
       "      <td>30.107281</td>\n",
       "      <td>2195900.0</td>\n",
       "      <td>Capital Goods</td>\n",
       "    </tr>\n",
       "    <tr>\n",
       "      <th>...</th>\n",
       "      <td>...</td>\n",
       "      <td>...</td>\n",
       "      <td>...</td>\n",
       "      <td>...</td>\n",
       "      <td>...</td>\n",
       "    </tr>\n",
       "    <tr>\n",
       "      <th>12274386</th>\n",
       "      <td>ZUMZ</td>\n",
       "      <td>2018-03-14</td>\n",
       "      <td>19.600000</td>\n",
       "      <td>357345.0</td>\n",
       "      <td>Consumer Services</td>\n",
       "    </tr>\n",
       "    <tr>\n",
       "      <th>12274387</th>\n",
       "      <td>ZUMZ</td>\n",
       "      <td>2018-03-15</td>\n",
       "      <td>20.000000</td>\n",
       "      <td>599736.0</td>\n",
       "      <td>Consumer Services</td>\n",
       "    </tr>\n",
       "    <tr>\n",
       "      <th>12274388</th>\n",
       "      <td>ZUMZ</td>\n",
       "      <td>2018-03-16</td>\n",
       "      <td>22.100000</td>\n",
       "      <td>2059778.0</td>\n",
       "      <td>Consumer Services</td>\n",
       "    </tr>\n",
       "    <tr>\n",
       "      <th>12274389</th>\n",
       "      <td>ZUMZ</td>\n",
       "      <td>2018-03-19</td>\n",
       "      <td>23.400000</td>\n",
       "      <td>858257.0</td>\n",
       "      <td>Consumer Services</td>\n",
       "    </tr>\n",
       "    <tr>\n",
       "      <th>12274390</th>\n",
       "      <td>ZUMZ</td>\n",
       "      <td>2018-03-20</td>\n",
       "      <td>23.800000</td>\n",
       "      <td>404873.0</td>\n",
       "      <td>Consumer Services</td>\n",
       "    </tr>\n",
       "    <tr>\n",
       "      <th>12274391</th>\n",
       "      <td>ZUMZ</td>\n",
       "      <td>2018-03-21</td>\n",
       "      <td>23.950000</td>\n",
       "      <td>354092.0</td>\n",
       "      <td>Consumer Services</td>\n",
       "    </tr>\n",
       "    <tr>\n",
       "      <th>12274392</th>\n",
       "      <td>ZUMZ</td>\n",
       "      <td>2018-03-22</td>\n",
       "      <td>23.350000</td>\n",
       "      <td>269607.0</td>\n",
       "      <td>Consumer Services</td>\n",
       "    </tr>\n",
       "    <tr>\n",
       "      <th>12274393</th>\n",
       "      <td>ZUMZ</td>\n",
       "      <td>2018-03-23</td>\n",
       "      <td>23.550000</td>\n",
       "      <td>301584.0</td>\n",
       "      <td>Consumer Services</td>\n",
       "    </tr>\n",
       "    <tr>\n",
       "      <th>12274394</th>\n",
       "      <td>ZUMZ</td>\n",
       "      <td>2018-03-26</td>\n",
       "      <td>24.650000</td>\n",
       "      <td>375320.0</td>\n",
       "      <td>Consumer Services</td>\n",
       "    </tr>\n",
       "    <tr>\n",
       "      <th>12274395</th>\n",
       "      <td>ZUMZ</td>\n",
       "      <td>2018-03-27</td>\n",
       "      <td>23.600000</td>\n",
       "      <td>403884.0</td>\n",
       "      <td>Consumer Services</td>\n",
       "    </tr>\n",
       "  </tbody>\n",
       "</table>\n",
       "<p>12274396 rows × 5 columns</p>\n",
       "</div>"
      ],
      "text/plain": [
       "         ticker       date  adj_close  adj_volume             sector\n",
       "0             A 1999-11-18  30.018590  44739900.0      Capital Goods\n",
       "1             A 1999-11-19  27.548879  10897100.0      Capital Goods\n",
       "2             A 1999-11-22  30.018590   4705200.0      Capital Goods\n",
       "3             A 1999-11-23  27.460188   4274400.0      Capital Goods\n",
       "4             A 1999-11-24  28.012803   3464400.0      Capital Goods\n",
       "5             A 1999-11-26  28.101494   1237100.0      Capital Goods\n",
       "6             A 1999-11-29  28.742800   2914700.0      Capital Goods\n",
       "7             A 1999-11-30  28.783735   3083000.0      Capital Goods\n",
       "8             A 1999-12-01  29.295415   2115400.0      Capital Goods\n",
       "9             A 1999-12-02  30.107281   2195900.0      Capital Goods\n",
       "...         ...        ...        ...         ...                ...\n",
       "12274386   ZUMZ 2018-03-14  19.600000    357345.0  Consumer Services\n",
       "12274387   ZUMZ 2018-03-15  20.000000    599736.0  Consumer Services\n",
       "12274388   ZUMZ 2018-03-16  22.100000   2059778.0  Consumer Services\n",
       "12274389   ZUMZ 2018-03-19  23.400000    858257.0  Consumer Services\n",
       "12274390   ZUMZ 2018-03-20  23.800000    404873.0  Consumer Services\n",
       "12274391   ZUMZ 2018-03-21  23.950000    354092.0  Consumer Services\n",
       "12274392   ZUMZ 2018-03-22  23.350000    269607.0  Consumer Services\n",
       "12274393   ZUMZ 2018-03-23  23.550000    301584.0  Consumer Services\n",
       "12274394   ZUMZ 2018-03-26  24.650000    375320.0  Consumer Services\n",
       "12274395   ZUMZ 2018-03-27  23.600000    403884.0  Consumer Services\n",
       "\n",
       "[12274396 rows x 5 columns]"
      ]
     },
     "execution_count": 3,
     "metadata": {},
     "output_type": "execute_result"
    }
   ],
   "source": [
    "#Cargamos el fichero de cotizaciones seleccionando las columnas relevantes para el modelo\n",
    "path='C:\\\\Users\\\\manuel.decesar\\\\Desktop\\\\data_labqt\\\\'\n",
    "df=pd.read_csv(path+'WIKI_PRICES_212b326a081eacca455e13140d7bb9db.csv', sep=',')[['ticker','date','adj_close','adj_volume']]  \n",
    "print(len(df))\n",
    "#fijamos los tipos de datos\n",
    "df['date']=pd.to_datetime(df['date'])\n",
    "print(len(df))\n",
    "#cargamos el sector asociado al ticker\n",
    "metadata=pd.read_csv(path+'us_equities_meta_data.csv')\n",
    "df = pd.merge(df, metadata[[\"ticker\",\"sector\"]], on=\"ticker\")\n",
    "print(len(df))\n",
    "df"
   ]
  },
  {
   "cell_type": "markdown",
   "id": "1a39f35d",
   "metadata": {},
   "source": [
    "## Análisis y limpieza de datos"
   ]
  },
  {
   "cell_type": "code",
   "execution_count": 4,
   "id": "cb66acda",
   "metadata": {},
   "outputs": [
    {
     "name": "stdout",
     "output_type": "stream",
     "text": [
      "7710723\n"
     ]
    }
   ],
   "source": [
    "#Filtrar tickers sin suficiente volumen\n",
    "#df=df.reset_index()\n",
    "df_ticker_volume=np.log10(df.groupby(['ticker'])['adj_volume'].sum())\n",
    "df=df[df['ticker'].isin(df_ticker_volume[df_ticker_volume>8.211].index)]\n",
    "#Filtrar tickers sin suficientes cotizaciones\n",
    "df_ticker_cot=np.log10(df.groupby(['ticker'])['adj_close'].count())\n",
    "df=df[df['ticker'].isin(df_ticker_cot[df_ticker_cot>3.104].index)]\n",
    "#Filtrar registros sin volumen\n",
    "df=df[df['adj_close']>0]\n",
    "#Filtro de fecha\n",
    "df=df[df.date>='2001-01-01']\n",
    "#Establecemos índice (ticker y fecha)\n",
    "df=df.set_index(['ticker','date'])\n",
    "print(len(df))\n",
    "#df"
   ]
  },
  {
   "cell_type": "code",
   "execution_count": 5,
   "id": "6d4bf4f2",
   "metadata": {},
   "outputs": [
    {
     "name": "stdout",
     "output_type": "stream",
     "text": [
      "(7.967, 8.496]      204\n",
      "(8.496, 8.737]      204\n",
      "(8.737, 8.93]       204\n",
      "(8.93, 9.091]       204\n",
      "(9.091, 9.252]      204\n",
      "(9.252, 9.405]      204\n",
      "(9.405, 9.612]      204\n",
      "(9.612, 9.87]       204\n",
      "(9.87, 10.185]      204\n",
      "(10.185, 11.728]    204\n",
      "Name: adj_volume, dtype: int64\n",
      "total de tickers 2197\n",
      "mediana de volumen ajustado por ticker 5383.999999999998\n"
     ]
    },
    {
     "data": {
      "image/png": "[encoded data removed]",
      "text/plain": [
       "<Figure size 432x288 with 1 Axes>"
      ]
     },
     "metadata": {
      "needs_background": "light"
     },
     "output_type": "display_data"
    }
   ],
   "source": [
    "#Análisis volumen por ticker\n",
    "%matplotlib inline\n",
    "df_ticker_volume=np.log10(df.groupby(['ticker'])['adj_volume'].sum())\n",
    "plt.hist(df_ticker_volume, density=True, bins=10)  # density=False would make counts\n",
    "plt.ylabel('Densidad de probabilidad')\n",
    "plt.xlabel('Log10(Ticker_volume)');\n",
    "#percentiles\n",
    "print(pd.qcut(df_ticker_volume,10).value_counts().sort_index())\n",
    "print('total de tickers',len(df_ticker_cot))\n",
    "print('mediana de volumen ajustado por ticker',10**df_ticker_cot.median())\n"
   ]
  },
  {
   "cell_type": "code",
   "execution_count": 6,
   "id": "5fb58b75",
   "metadata": {},
   "outputs": [
    {
     "name": "stdout",
     "output_type": "stream",
     "text": [
      "(3.1047, 3.6201]     680\n",
      "(3.6201, 3.6369]    1353\n",
      "(3.6369, 3.637]        7\n",
      "Name: adj_close, dtype: int64\n",
      "mediana de número de cotizaciones por ticker 4333.999999999999\n"
     ]
    },
    {
     "data": {
      "image/png": "[encoded data removed]",
      "text/plain": [
       "<Figure size 432x288 with 1 Axes>"
      ]
     },
     "metadata": {
      "needs_background": "light"
     },
     "output_type": "display_data"
    }
   ],
   "source": [
    "#Análisis cotizaciones por ticker\n",
    "%matplotlib inline\n",
    "df_ticker_cot=np.log10(df.groupby(['ticker'])['adj_close'].count())\n",
    "plt.hist(df_ticker_cot, density=False, bins=10)  # density=False would make counts\n",
    "plt.ylabel('Densidad de probabilidad')\n",
    "plt.xlabel('Log10(cotizaciones_por_ticker)');\n",
    "#percentiles\n",
    "print(pd.qcut(df_ticker_cot,3).value_counts().sort_index())\n",
    "print('mediana de número de cotizaciones por ticker',10**df_ticker_cot.median())"
   ]
  },
  {
   "cell_type": "code",
   "execution_count": 7,
   "id": "6262becd",
   "metadata": {},
   "outputs": [
    {
     "name": "stdout",
     "output_type": "stream",
     "text": [
      "Empty DataFrame\n",
      "Columns: [ticker, date, adj_close, adj_volume, sector]\n",
      "Index: []\n",
      "Empty DataFrame\n",
      "Columns: [ticker, date, adj_close, adj_volume, sector]\n",
      "Index: []\n",
      "Empty DataFrame\n",
      "Columns: [ticker, date, adj_close, adj_volume, sector]\n",
      "Index: []\n",
      "Empty DataFrame\n",
      "Columns: [ticker, date, adj_close, adj_volume, sector]\n",
      "Index: []\n"
     ]
    }
   ],
   "source": [
    "#Análisis nulos\n",
    "print(df.reset_index()[df.reset_index().ticker.isnull()])\n",
    "print(df.reset_index()[df.reset_index().date.isnull()])\n",
    "print(df.reset_index()[df.reset_index().adj_close.isnull()])\n",
    "print(df.reset_index()[df.reset_index().adj_volume.isnull()])"
   ]
  },
  {
   "cell_type": "code",
   "execution_count": 8,
   "id": "62d4ba8b",
   "metadata": {},
   "outputs": [
    {
     "name": "stdout",
     "output_type": "stream",
     "text": [
      "(0.999, 1498.0]     871\n",
      "(1498.0, 1746.6]    865\n",
      "(1746.6, 1918.0]    869\n",
      "(1918.0, 2026.0]    887\n",
      "(2026.0, 2040.0]    848\n",
      "Name: adj_close, dtype: int64\n",
      "número de fechas 4340\n",
      "mediana de número de tickers por fecha 1802.0\n"
     ]
    },
    {
     "data": {
      "image/png": "[encoded data removed]",
      "text/plain": [
       "<Figure size 432x288 with 1 Axes>"
      ]
     },
     "metadata": {
      "needs_background": "light"
     },
     "output_type": "display_data"
    }
   ],
   "source": [
    "#Análisis discontinuidades de fechas\n",
    "%matplotlib inline\n",
    "df_date_tikers=df.groupby(['date'])['adj_close'].count()\n",
    "df_date_tikers.plot()\n",
    "plt.ylabel('tickers')\n",
    "plt.xlabel('Fechas');\n",
    "#percentiles\n",
    "print(pd.qcut(df_date_tikers,5).value_counts().sort_index())\n",
    "print('número de fechas',len(df_date_tikers))\n",
    "print('mediana de número de tickers por fecha',df_date_tikers.median())"
   ]
  },
  {
   "cell_type": "code",
   "execution_count": 9,
   "id": "6bef3e26",
   "metadata": {},
   "outputs": [
    {
     "name": "stdout",
     "output_type": "stream",
     "text": [
      "['A' 'AAL' 'AAN' ... 'ZNGA' 'ZTS' 'ZUMZ']\n",
      "['2001-01-01T00:00:00.000000000' '2001-01-02T00:00:00.000000000'\n",
      " '2001-01-03T00:00:00.000000000' ... '2018-03-23T00:00:00.000000000'\n",
      " '2018-03-26T00:00:00.000000000' '2018-03-27T00:00:00.000000000']\n"
     ]
    }
   ],
   "source": [
    "#tickers posibles\n",
    "print(np.unique(df.index.get_level_values(0)))\n",
    "#fechas posibles\n",
    "print(np.unique(df.index.get_level_values(1)))"
   ]
  },
  {
   "cell_type": "markdown",
   "id": "fcc7cc49",
   "metadata": {},
   "source": [
    "## Filtrado para desarrollo"
   ]
  },
  {
   "cell_type": "code",
   "execution_count": 10,
   "id": "f76eae64",
   "metadata": {},
   "outputs": [
    {
     "name": "stdout",
     "output_type": "stream",
     "text": [
      "1000000\n"
     ]
    }
   ],
   "source": [
    "#Filtrar muestra para desarrollo\n",
    "#df=df.sort_values(by=['date'], ascending=True)[0:int(len(df)*0.8)]\n",
    "df=df.sort_values(by=['ticker'], ascending=False)[0:1000000]\n",
    "df=df.sort_values(by=['ticker','date'])\n",
    "df=df.reset_index()\n",
    "df=df.set_index(['ticker','date'])\n",
    "print(len(df))"
   ]
  },
  {
   "cell_type": "markdown",
   "id": "dd26160e",
   "metadata": {},
   "source": [
    "## Creación de features"
   ]
  },
  {
   "cell_type": "code",
   "execution_count": 11,
   "id": "2dea5d76",
   "metadata": {},
   "outputs": [
    {
     "name": "stdout",
     "output_type": "stream",
     "text": [
      "['Capital Goods' 'Finance' 'Health Care' 'Public Utilities' 'Technology'\n",
      " 'Consumer Services' 'Consumer Non-Durables' 'Energy' 'Consumer Durables'\n",
      " 'Miscellaneous' 'Transportation' nan 'Basic Industries']\n",
      "2022-01-14 16:38:57.467929 : Extraido fichero de transformación en dummies: columnas\n",
      "Index(['adj_close', 'adj_volume', 'sector_Basic Industries',\n",
      "       'sector_Capital Goods', 'sector_Consumer Durables',\n",
      "       'sector_Consumer Non-Durables', 'sector_Consumer Services',\n",
      "       'sector_Energy', 'sector_Finance', 'sector_Health Care',\n",
      "       'sector_Miscellaneous', 'sector_Public Utilities', 'sector_Technology',\n",
      "       'sector_Transportation'],\n",
      "      dtype='object')\n"
     ]
    }
   ],
   "source": [
    "#dummies para el sector\n",
    "print(df.sector.unique())\n",
    "df = pd.get_dummies(data=df, columns=['sector'])\n",
    "pickle.dump(df.columns, open(path+'columnas', 'wb'))\n",
    "print(datetime.datetime.now(),': Extraido fichero de transformación en dummies: columnas')\n",
    "columnas=pickle.load(open(path+'columnas', 'rb'))\n",
    "print(columnas)\n",
    "df=df.reindex(labels =columnas, axis = 1, fill_value = 0)"
   ]
  },
  {
   "cell_type": "code",
   "execution_count": 12,
   "id": "2b0789b9",
   "metadata": {},
   "outputs": [],
   "source": [
    "#Calculamos el retorno respecto al día anterior: incremento relativo del ticker respecto el día anterior\n",
    "df['return_d']=df.groupby(level='ticker')['adj_close'].pct_change()\n",
    "#Calculamos el retorno respecto a la semana anterior: incremento relativo del ticker respecto a la semana anterior\n",
    "df['return_w']=df.groupby(level='ticker')['adj_close'].pct_change(periods=5)\n",
    "#Calculamos el retorno respecto al mes anterior: incremento relativo del ticker respecto el mes anterior\n",
    "df['return_m']=df.groupby(level='ticker')['adj_close'].pct_change(periods=20)\n",
    "#Calculamos el retorno respecto al año anterior: incremento relativo del ticker respecto el año anterior\n",
    "df['return_y']=df.groupby(level='ticker')['adj_close'].pct_change(periods=252)\n",
    "#df"
   ]
  },
  {
   "cell_type": "code",
   "execution_count": 13,
   "id": "734df8b7",
   "metadata": {},
   "outputs": [],
   "source": [
    "#Volatilidad semanal del retorno diario\n",
    "df['volatility_w_rd']=df.reset_index('ticker').groupby('ticker').apply(lambda grp: grp['return_d'].rolling(5).std())\n",
    "#Volatilidad mensual del retorno diario\n",
    "df['volatility_m_rd']=df.reset_index('ticker').groupby('ticker').apply(lambda grp: grp['return_m'].rolling(20).std())\n",
    "#Volatilidad anual del retorno diario\n",
    "df['volatility_y_rd']=df.reset_index('ticker').groupby('ticker').apply(lambda grp: grp['return_y'].rolling(252).std())\n",
    "#df"
   ]
  },
  {
   "cell_type": "code",
   "execution_count": 14,
   "id": "a12626be",
   "metadata": {},
   "outputs": [],
   "source": [
    "#Cierre ajustado promediado semanal\n",
    "df['adj_close_m_pw']=df.groupby(level='ticker')['adj_close'].apply(lambda grp: grp.rolling(5).mean())\n",
    "#Cierre ajustado promediado mensual\n",
    "df['adj_close_m_pm']=df.groupby(level='ticker')['adj_close'].apply(lambda grp: grp.rolling(20).mean())\n",
    "#Cierre ajustado promediado anual\n",
    "df['adj_close_m_py']=df.groupby(level='ticker')['adj_close'].apply(lambda grp: grp.rolling(252).mean())"
   ]
  },
  {
   "cell_type": "code",
   "execution_count": 15,
   "id": "e7ea5d89",
   "metadata": {},
   "outputs": [],
   "source": [
    "#Retorno respecto al cierre ajustado promediado semanal\n",
    "df['return_m_pw']=df.apply(lambda x: (x['adj_close']-x['adj_close_m_pw'])/x['adj_close_m_pw'], axis=1)\n",
    "#Retorno respecto al cierre ajustado promediado mensual\n",
    "df['return_m_pm']=df.apply(lambda x: (x['adj_close']-x['adj_close_m_pm'])/x['adj_close_m_pm'], axis=1)\n",
    "#Retorno respecto al cierre ajustado promediado anual\n",
    "df['return_m_py']=df.apply(lambda x: (x['adj_close']-x['adj_close_m_py'])/x['adj_close_m_py'], axis=1)"
   ]
  },
  {
   "cell_type": "code",
   "execution_count": 16,
   "id": "c78eb7de",
   "metadata": {},
   "outputs": [],
   "source": [
    "#Equivalente a macd para un día y una semana\n",
    "#Cierre ajustado promediado ponderado por volumen semanal\n",
    "df['adj_close_vwm_pw']=df.reset_index('ticker').groupby('ticker').apply(lambda grp: (grp['adj_close']*grp['adj_volume']).rolling(5).sum()/grp['adj_volume'].rolling(5).sum())\n",
    "#Cierre ajustado promediado ponderado por volumen mensual\n",
    "df['adj_close_vwm_pm']=df.reset_index('ticker').groupby('ticker').apply(lambda grp: (grp['adj_close']*grp['adj_volume']).rolling(20).sum()/grp['adj_volume'].rolling(20).sum())\n",
    "#Cierre ajustado promediado ponderado por volumen anual\n",
    "df['adj_close_vwm_py']=df.reset_index('ticker').groupby('ticker').apply(lambda grp: (grp['adj_close']*grp['adj_volume']).rolling(252).sum()/grp['adj_volume'].rolling(252).sum())\n",
    "#df.loc['X']"
   ]
  },
  {
   "cell_type": "code",
   "execution_count": 17,
   "id": "46c07a78",
   "metadata": {},
   "outputs": [
    {
     "name": "stdout",
     "output_type": "stream",
     "text": [
      "1000000\n",
      "863279\n"
     ]
    }
   ],
   "source": [
    "#Filtramos NaN\n",
    "print(len(df))\n",
    "df=df.dropna()\n",
    "df=df.reset_index()\n",
    "df=df.set_index(['ticker','date'])\n",
    "print(len(df))"
   ]
  },
  {
   "cell_type": "code",
   "execution_count": 18,
   "id": "229c352d",
   "metadata": {},
   "outputs": [
    {
     "name": "stderr",
     "output_type": "stream",
     "text": [
      "<ipython-input-18-84b7ff031221>:2: RuntimeWarning: invalid value encountered in double_scalars\n",
      "  df['return_vwm_pw']=df.apply(lambda x: (x['adj_close']-x['adj_close_vwm_pw'])/x['adj_close_vwm_pw'], axis=1)\n",
      "<ipython-input-18-84b7ff031221>:4: RuntimeWarning: invalid value encountered in double_scalars\n",
      "  df['return_vwm_pm']=df.apply(lambda x: (x['adj_close']-x['adj_close_vwm_pm'])/x['adj_close_vwm_pm'], axis=1)\n"
     ]
    }
   ],
   "source": [
    "#Retorno respecto al cierre ajustado promediado ponderado semanal\n",
    "df['return_vwm_pw']=df.apply(lambda x: (x['adj_close']-x['adj_close_vwm_pw'])/x['adj_close_vwm_pw'], axis=1)\n",
    "df#Retorno respecto al cierre ajustado promediado ponderado mensual\n",
    "df['return_vwm_pm']=df.apply(lambda x: (x['adj_close']-x['adj_close_vwm_pm'])/x['adj_close_vwm_pm'], axis=1)\n",
    "df#Retorno respecto al cierre ajustado promediado ponderado anual\n",
    "df['return_vwm_py']=df.apply(lambda x: (x['adj_close']-x['adj_close_vwm_py'])/x['adj_close_vwm_py'], axis=1)\n",
    "#df"
   ]
  },
  {
   "cell_type": "markdown",
   "id": "e973df69",
   "metadata": {},
   "source": [
    "## Creación del target y el peso"
   ]
  },
  {
   "cell_type": "code",
   "execution_count": 19,
   "id": "87df5bef",
   "metadata": {},
   "outputs": [
    {
     "name": "stdout",
     "output_type": "stream",
     "text": [
      "(-0.991, -0.0254]       34521\n",
      "(-0.0254, -0.0143]      34522\n",
      "(-0.0143, -0.00786]     34518\n",
      "(-0.00786, -0.00326]    34520\n",
      "(-0.00326, 0.0]         35656\n",
      "(0.0, 0.00408]          33384\n",
      "(0.00408, 0.00873]      34520\n",
      "(0.00873, 0.0151]       34520\n",
      "(0.0151, 0.0266]        34520\n",
      "(0.0266, 99.0]          34521\n",
      "Name: return_f_d, dtype: int64\n",
      "-0.0254 0.0266\n"
     ]
    }
   ],
   "source": [
    "#Calculamos el retorno al día siguiente: incremento relativo del ticker en el día siguiente\n",
    "df['return_f_d']=df.groupby(level='ticker')['adj_close'].pct_change().shift(periods=-1)\n",
    "#percentiles\n",
    "print(pd.qcut(df['return_f_d'][0:int(len(df)*.4)],10).value_counts().sort_index())\n",
    "p10=pd.qcut(df['return_f_d'][0:int(len(df)*.4)],10).value_counts().sort_index().index.values[0].right\n",
    "p90=pd.qcut(df['return_f_d'][0:int(len(df)*.4)],10).value_counts().sort_index().index.values[8].right\n",
    "print(p10,p90)"
   ]
  },
  {
   "cell_type": "code",
   "execution_count": 20,
   "id": "3145eae6",
   "metadata": {},
   "outputs": [],
   "source": [
    "#Calculamos target (retorno>0)\n",
    "df['return_gt_0']=df.apply(lambda x: 1 if x['return_f_d']>0 else 0, axis=1)\n"
   ]
  },
  {
   "cell_type": "code",
   "execution_count": 21,
   "id": "8ee3d912",
   "metadata": {},
   "outputs": [],
   "source": [
    "#Calculamos el peso como el valor absoluto del retorno al día siguiente (retorno>0)\n",
    "    #ponderando de forma variable los extremos\n",
    "#df['sample_weight']=df.apply(lambda x:abs(x['return_f_d'])**(1/8), axis=1)\n",
    "    #eliminando los extremos\n",
    "df['sample_weight']=df.apply(lambda x: abs(p10) if x['return_f_d']<p10 else abs(p90) if x['return_f_d']>p90 else abs(x['return_f_d']), axis=1)"
   ]
  },
  {
   "cell_type": "code",
   "execution_count": 22,
   "id": "626deea9",
   "metadata": {},
   "outputs": [
    {
     "name": "stdout",
     "output_type": "stream",
     "text": [
      "863279\n",
      "862353\n"
     ]
    }
   ],
   "source": [
    "#Filtramos NaN\n",
    "print(len(df))\n",
    "df=df.dropna()\n",
    "df=df.reset_index()\n",
    "df=df.set_index(['ticker','date'])\n",
    "print(len(df))"
   ]
  },
  {
   "cell_type": "markdown",
   "id": "0e9bfcde",
   "metadata": {},
   "source": [
    "## Partición del dataset"
   ]
  },
  {
   "cell_type": "code",
   "execution_count": 23,
   "id": "3cf50f74",
   "metadata": {},
   "outputs": [],
   "source": [
    "#Preparamos datasets de train, validation, test, final_test\n",
    "df=df.sort_values('date')\n",
    "lim_train=int(len(df)*.4)\n",
    "lim_val=int(len(df)*.50)\n",
    "lim_test=int(len(df)*.60)\n",
    "df_train= df[0:lim_train]\n",
    "df_val=df[lim_train:lim_val]\n",
    "df_train_val= df[0:lim_val]\n",
    "df_test= df[lim_val:lim_test]\n",
    "df_final_test= df[lim_test:-1]\n",
    "total_features=['return_d','return_w','return_m','return_y','return_m_pw','return_m_pm','return_m_py','volatility_w_rd','volatility_m_rd','volatility_y_rd','return_vwm_pw','return_vwm_pm','return_vwm_py','sector_Basic Industries',\n",
    "       'sector_Capital Goods', 'sector_Consumer Non-Durables',\n",
    "       'sector_Consumer Services', 'sector_Energy', 'sector_Finance',\n",
    "       'sector_Health Care', 'sector_Public Utilities', 'sector_Technology',\n",
    "       'sector_Transportation']\n",
    "target=['return_gt_0']\n",
    "sample_weight=['sample_weight']"
   ]
  },
  {
   "cell_type": "markdown",
   "id": "71c3cea9",
   "metadata": {},
   "source": [
    "## Construcción del modelo"
   ]
  },
  {
   "cell_type": "code",
   "execution_count": 32,
   "id": "4e834098",
   "metadata": {},
   "outputs": [
    {
     "name": "stdout",
     "output_type": "stream",
     "text": [
      "Retorno random validacion 0.5532222584273645\n",
      "Retorno random train 4.013393124926798\n",
      "depth 1\n",
      "features_encontrados ['return_d'] Retorno validacion 0.9457987650572197 Retorno train 19.449273139316443 Profundidad encontrada 1 accuracy encontrada 0.5189235260522814\n",
      "depth 2\n",
      "features_encontrados ['return_d', 'return_w', 'return_m_pw'] Retorno validacion 0.9602622302287225 Retorno train 59.658741268844445 Profundidad encontrada 2 accuracy encontrada 0.5155606321080997\n",
      "depth 3\n",
      "features_encontrados ['return_vwm_pw', 'return_vwm_py'] Retorno validacion 0.9754349866625107 Retorno train 33.065309083968174 Profundidad encontrada 3 accuracy encontrada 0.510765609191137\n",
      "Selección de hiperparámetros terminada en  0:16:41.156607  s\n",
      "Validation\n",
      "accuracy random validation 0.5002957036006261\n",
      "[[21160 21357]\n",
      " [21735 21983]]\n",
      "Features optimos ['return_vwm_pw', 'return_vwm_py'] Retorno en validation 0.9754349866625107 Retorno en train 33.065309083968174 Profundidad optima 3 accuracy_val 0.5049689801124834 accuracy_train 0.510765609191137\n",
      "accuracy model train 0.510765609191137\n",
      "[[79889 95949]\n",
      " [72808 96295]]\n",
      "accuracy model val 0.5049689801124834\n",
      "[[20401 22116]\n",
      " [20573 23145]]\n",
      "Test\n",
      "accuracy random test 0.4993796022496666\n",
      "[[21856 21921]\n",
      " [21250 21208]]\n",
      "Retorno random test 0.6475200331843833\n",
      "Features optimos ['return_vwm_pw', 'return_vwm_py'] Retorno en test 3.1820088506108437 Retorno en train_val 18.707974002299462 Profundidad optima 3 accuracy_test 0.5038789354670378 accuracy_train_val 0.5049956398315305\n",
      "accuracy model train_val 0.5049956398315305\n",
      "[[ 42263 176092]\n",
      " [ 37342 175479]]\n",
      "accuracy model test 0.5038789354670378\n",
      "[[ 8593 35184]\n",
      " [ 7599 34859]]\n"
     ]
    }
   ],
   "source": [
    "#Construimos un modelo de árbol de decisión con cv de features y profundidad\n",
    "tiempo_busqueda=1000 #en segundos\n",
    "max_depth=100\n",
    "max_features=100\n",
    "#mask=['return_d', 'sector_Energy','return_y','return_m_py', 'return_vwm_py','return_m','volatility_y_rd', 'return_w']\n",
    "#mask=['return_d', 'return_w', 'return_y', 'volatility_w_rd', 'volatility_m_rd','sector_Consumer Services']\n",
    "#mask=['return_d', 'return_w', 'return_y', 'volatility_w_rd', 'volatility_m_rd','sector_Consumer Services','return_m_py', 'return_vwm_py','return_m','volatility_y_rd']\n",
    "mask=total_features\n",
    "#Estrategia random val\n",
    "s=df_val.groupby('date')['return_f_d'].mean()\n",
    "rcs_random_val=(((s+1).cumprod())[-2:-1]-1).values[0] if len(s)>1 else 0\n",
    "print('Retorno random validacion',rcs_random_val)\n",
    "#Estrategia random train\n",
    "s=df_train.groupby('date')['return_f_d'].mean()\n",
    "rcs_random_train=(((s+1).cumprod())[-2:-1]-1).values[0] if len(s)>1 else 0\n",
    "print('Retorno random train',rcs_random_train)\n",
    "#Selección de features y profundidad con cv\n",
    "t=datetime.datetime.now()\n",
    "depths=range(1,max_depth+1)\n",
    "opt_depth=0\n",
    "accuracy_cv=0.5\n",
    "opt_features=[]\n",
    "metric=-1000000\n",
    "tt=datetime.datetime.now()\n",
    "for i in depths:\n",
    "    if (datetime.datetime.now()-tt).seconds>tiempo_busqueda:\n",
    "        break\n",
    "    print('depth',i)\n",
    "    for features in list_cobmination_columns(df_train[mask],min(max_features, (2**i)-1)):\n",
    "        if (datetime.datetime.now()-tt).seconds>tiempo_busqueda:\n",
    "            break\n",
    "        model = tree.DecisionTreeClassifier(max_depth=i)\n",
    "        #metricas para el caso\n",
    "        model = model.fit(df_train[features], df_train[target],sample_weight=df_train.sample_weight.values)\n",
    "        s=(df_train[[ True if x==1 else False for x in model.predict(df_train[features])]]).groupby('date')['return_f_d'].mean()\n",
    "        rcs_train=(((s+1).cumprod())[-2:-1]-1).values[0] if len(s)>1 else 0\n",
    "        s=(df_val[[ True if x==1 else False for x in model.predict(df_val[features])]]).groupby('date')['return_f_d'].mean()\n",
    "        rcs_val=(((s+1).cumprod())[-2:-1]-1).values[0] if len(s)>1 else 0\n",
    "        #print(features,rcs_train)\n",
    "        if metric < rcs_val:\n",
    "            metric=rcs_val\n",
    "            opt_depth=i\n",
    "            opt_features=features\n",
    "            accuracy_opt=sum(model.predict(df_train[features])==df_train.return_gt_0.values)/len(df_train[target])\n",
    "            print('features_encontrados',opt_features,'Retorno validacion',rcs_val,'Retorno train',rcs_train,'Profundidad encontrada',opt_depth,'accuracy encontrada',accuracy_opt)\n",
    "t=datetime.datetime.now()-t\n",
    "print('Selección de hiperparámetros terminada en ',t,' s')\n",
    "\n",
    "#Validation\n",
    "print('Validation')\n",
    "#Accuraccy random validacion\n",
    "y_random = []\n",
    "for i in range(len(df_val)):\n",
    "    n = random.randint(0,1)\n",
    "    y_random.append(n)\n",
    "print('accuracy random validation',sum(y_random==df_val.return_gt_0)/len(df_val.return_gt_0))\n",
    "print(confusion_matrix(df_val.return_gt_0, y_random))\n",
    "\n",
    "model = tree.DecisionTreeClassifier(max_depth=opt_depth)\n",
    "model = model.fit(df_train[opt_features], df_train[target],sample_weight=df_train.sample_weight.values)\n",
    "\n",
    "accuracy_train=sum(model.predict(df_train[opt_features])==df_train.return_gt_0.values)/len(df_train[target])\n",
    "s=(df_train[[ True if x==1 else False for x in model.predict(df_train[opt_features])]]).groupby('date')['return_f_d'].mean()\n",
    "rcs_train=(((s+1).cumprod())[-2:-1]-1).values[0] if len(s)>1 else 0\n",
    "accuracy_val=sum(model.predict(df_val[opt_features])==df_val.return_gt_0.values)/len(df_val[target])\n",
    "s=(df_val[[ True if x==1 else False for x in model.predict(df_val[opt_features])]]).groupby('date')['return_f_d'].mean()\n",
    "rcs_val=(((s+1).cumprod())[-2:-1]-1).values[0] if len(s)>1 else 0\n",
    "print('Features optimos',opt_features,'Retorno en validation',rcs_val,'Retorno en train',rcs_train,'Profundidad optima',opt_depth,'accuracy_val',accuracy_val,'accuracy_train',accuracy_train)\n",
    "\n",
    "y_pred_train=model.predict(df_train[opt_features])\n",
    "y_train=df_train.return_gt_0.values\n",
    "print('accuracy model train',sum(y_pred_train==y_train)/len(y_train))\n",
    "print(confusion_matrix(y_train, y_pred_train))\n",
    "\n",
    "y_pred_val=model.predict(df_val[opt_features])\n",
    "y_val=df_val.return_gt_0.values\n",
    "print('accuracy model val',sum(y_pred_val==y_val)/len(y_val))\n",
    "print(confusion_matrix(y_val, y_pred_val))\n",
    "#validacion(model,df_train[opt_features], df_train[target].values,df_val[opt_features], df_val[target].values)      \n",
    "\n",
    "#Test\n",
    "print('Test')\n",
    "#Accuraccy random test\n",
    "y_random = []\n",
    "for i in range(len(df_test)):\n",
    "    n = random.randint(0,1)\n",
    "    y_random.append(n)\n",
    "print('accuracy random test',sum(y_random==df_test.return_gt_0)/len(df_test.return_gt_0))\n",
    "print(confusion_matrix(df_test.return_gt_0, y_random))\n",
    "\n",
    "#Estrategia random test\n",
    "s=df_test.groupby('date')['return_f_d'].mean()\n",
    "rcs_random=(((s+1).cumprod())[-2:-1]-1).values[0] if len(s)>1 else 0\n",
    "print('Retorno random test',rcs_random)\n",
    "\n",
    "#Modelo final\n",
    "model = tree.DecisionTreeClassifier(max_depth=opt_depth)\n",
    "model = model.fit(df_train_val[opt_features], df_train_val[target],sample_weight=df_train_val.sample_weight.values)\n",
    "\n",
    "#Metricas del modelo final\n",
    "accuracy_test=sum(model.predict(df_test[opt_features])==df_test.return_gt_0.values)/len(df_test[target])\n",
    "accuracy_train_val=sum(model.predict(df_train_val[opt_features])==df_train_val.return_gt_0.values)/len(df_train_val[target])\n",
    "s=(df_test[[ True if x==1 else False for x in model.predict(df_test[opt_features])]]).groupby('date')['return_f_d'].mean()\n",
    "rcs_test=(((s+1).cumprod())[-2:-1]-1).values[0] if len(s)>1 else 0\n",
    "s=(df_train_val[[ True if x==1 else False for x in model.predict(df_train_val[opt_features])]]).groupby('date')['return_f_d'].mean()\n",
    "rcs_train_val=(((s+1).cumprod())[-2:-1]-1).values[0] if len(s)>1 else 0\n",
    "print('Features optimos',opt_features,'Retorno en test',rcs_test,'Retorno en train_val',rcs_train_val,'Profundidad optima',opt_depth,'accuracy_test',accuracy_test,'accuracy_train_val',accuracy_train_val)\n",
    "\n",
    "y_pred_val=model.predict(df_train_val[opt_features])\n",
    "y_val=df_train_val.return_gt_0.values\n",
    "print('accuracy model train_val',sum(y_pred_val==y_val)/len(y_val))\n",
    "print(confusion_matrix(y_val, y_pred_val))\n",
    "\n",
    "y_pred_test=model.predict(df_test[opt_features])\n",
    "y_test=df_test.return_gt_0.values\n",
    "print('accuracy model test',sum(y_pred_test==y_test)/len(y_test))\n",
    "print(confusion_matrix(y_test, y_pred_test))\n",
    "#validacion(model,df_val[opt_features], df_val[target].values,df_test[opt_features], df_test[target].values)\n",
    "\n"
   ]
  },
  {
   "cell_type": "markdown",
   "id": "3502f6b4",
   "metadata": {},
   "source": [
    "## Análisis de estrategias"
   ]
  },
  {
   "cell_type": "code",
   "execution_count": 33,
   "id": "b440c863",
   "metadata": {},
   "outputs": [
    {
     "name": "stdout",
     "output_type": "stream",
     "text": [
      "Retornos diarios\n"
     ]
    },
    {
     "data": {
      "image/png": "[encoded data removed]",
      "text/plain": [
       "<Figure size 432x288 with 1 Axes>"
      ]
     },
     "metadata": {
      "needs_background": "light"
     },
     "output_type": "display_data"
    },
    {
     "name": "stdout",
     "output_type": "stream",
     "text": [
      "Retornos diarios acumulados sin reinvertir\n"
     ]
    },
    {
     "data": {
      "image/png": "[encoded data removed]",
      "text/plain": [
       "<Figure size 432x288 with 1 Axes>"
      ]
     },
     "metadata": {
      "needs_background": "light"
     },
     "output_type": "display_data"
    },
    {
     "name": "stdout",
     "output_type": "stream",
     "text": [
      "Retornos diarios acumulados reinvirtiendo\n"
     ]
    },
    {
     "data": {
      "image/png": "[encoded data removed]",
      "text/plain": [
       "<Figure size 432x288 with 1 Axes>"
      ]
     },
     "metadata": {
      "needs_background": "light"
     },
     "output_type": "display_data"
    },
    {
     "name": "stdout",
     "output_type": "stream",
     "text": [
      "Retorno final acumulado 0.6475200331843833\n"
     ]
    }
   ],
   "source": [
    "#Retornos diarios estrategia dummy (estrategia de repartir a partes iguales entre todos los tickers diariamente)\n",
    "s=df_test.groupby('date')['return_f_d'].mean()\n",
    "print('Retornos diarios')\n",
    "plt.plot(s)\n",
    "plt.plot(s.index,[s.mean()]*len(s.index))\n",
    "plt.plot(s.index,[0]*len(s.index))\n",
    "plt.show() \n",
    "#Retornos diarios acumulados hasta la fecha sin reinvertir los retornos diarios\n",
    "print('Retornos diarios acumulados sin reinvertir')\n",
    "cs=s.cumsum()\n",
    "plt.plot(cs)\n",
    "plt.plot(cs.index,[0]*len(cs.index))\n",
    "plt.show() \n",
    "#Retornos diarios acumulados hasta la fecha reinvirtiendo los retornos diarios\n",
    "print('Retornos diarios acumulados reinvirtiendo')\n",
    "rcs=(s+1).cumprod()\n",
    "plt.plot(rcs-1)\n",
    "plt.plot(rcs.index,[0]*len(rcs.index))\n",
    "plt.show()\n",
    "print('Retorno final acumulado',(rcs[-2:-1]-1).values[0])"
   ]
  },
  {
   "cell_type": "code",
   "execution_count": 34,
   "id": "2947f8bf",
   "metadata": {},
   "outputs": [
    {
     "name": "stderr",
     "output_type": "stream",
     "text": [
      "<ipython-input-34-9f2d82d1d8ca>:2: UserWarning: Boolean Series key will be reindexed to match DataFrame index.\n",
      "  s=df_test[df['return_d']>0].groupby('date')['return_f_d'].mean()\n"
     ]
    },
    {
     "name": "stdout",
     "output_type": "stream",
     "text": [
      "Retornos diarios\n"
     ]
    },
    {
     "data": {
      "image/png": "[encoded data removed]",
      "text/plain": [
       "<Figure size 432x288 with 1 Axes>"
      ]
     },
     "metadata": {
      "needs_background": "light"
     },
     "output_type": "display_data"
    },
    {
     "name": "stdout",
     "output_type": "stream",
     "text": [
      "Retornos diarios acumulados sin reinvertir\n"
     ]
    },
    {
     "data": {
      "image/png": "[encoded data removed]",
      "text/plain": [
       "<Figure size 432x288 with 1 Axes>"
      ]
     },
     "metadata": {
      "needs_background": "light"
     },
     "output_type": "display_data"
    },
    {
     "name": "stdout",
     "output_type": "stream",
     "text": [
      "Retornos diarios acumulados reinvirtiendo\n"
     ]
    },
    {
     "data": {
      "image/png": "[encoded data removed]",
      "text/plain": [
       "<Figure size 432x288 with 1 Axes>"
      ]
     },
     "metadata": {
      "needs_background": "light"
     },
     "output_type": "display_data"
    },
    {
     "name": "stdout",
     "output_type": "stream",
     "text": [
      "Retorno final acumulado -0.13605328383754478\n"
     ]
    }
   ],
   "source": [
    "#Retornos diarios estrategia básica (estrategia de repartir diariamente a partes iguales entre todos los tickers con retorno positivo respecto al día anterior)\n",
    "s=df_test[df['return_d']>0].groupby('date')['return_f_d'].mean()\n",
    "print('Retornos diarios')\n",
    "plt.plot(s)\n",
    "plt.plot(s.index,[s.mean()]*len(s.index))\n",
    "plt.plot(s.index,[0]*len(s.index))\n",
    "plt.show() \n",
    "#Retornos diarios acumulados hasta la fecha sin reinvertir los retornos diarios\n",
    "print('Retornos diarios acumulados sin reinvertir')\n",
    "cs=s.cumsum()\n",
    "plt.plot(cs)\n",
    "plt.plot(cs.index,[0]*len(cs.index))\n",
    "plt.show() \n",
    "#Retornos diarios acumulados hasta la fecha reinvirtiendo los retornos diarios\n",
    "print('Retornos diarios acumulados reinvirtiendo')\n",
    "rcs=(s+1).cumprod()\n",
    "plt.plot(rcs-1)\n",
    "plt.plot(rcs.index,[0]*len(rcs.index))\n",
    "plt.show()\n",
    "print('Retorno final acumulado',(rcs[-2:-1]-1).values[0])"
   ]
  },
  {
   "cell_type": "code",
   "execution_count": 35,
   "id": "c11f135c",
   "metadata": {},
   "outputs": [
    {
     "name": "stdout",
     "output_type": "stream",
     "text": [
      "Retornos diarios\n"
     ]
    },
    {
     "data": {
      "image/png": "[encoded data removed]",
      "text/plain": [
       "<Figure size 432x288 with 1 Axes>"
      ]
     },
     "metadata": {
      "needs_background": "light"
     },
     "output_type": "display_data"
    },
    {
     "name": "stdout",
     "output_type": "stream",
     "text": [
      "Retornos diarios acumulados sin reinvertir\n"
     ]
    },
    {
     "data": {
      "image/png": "[encoded data removed]",
      "text/plain": [
       "<Figure size 432x288 with 1 Axes>"
      ]
     },
     "metadata": {
      "needs_background": "light"
     },
     "output_type": "display_data"
    },
    {
     "name": "stdout",
     "output_type": "stream",
     "text": [
      "Retornos diarios acumulados reinvirtiendo\n"
     ]
    },
    {
     "data": {
      "image/png": "[encoded data removed]",
      "text/plain": [
       "<Figure size 432x288 with 1 Axes>"
      ]
     },
     "metadata": {
      "needs_background": "light"
     },
     "output_type": "display_data"
    },
    {
     "name": "stdout",
     "output_type": "stream",
     "text": [
      "Retorno final acumulado 3.1820088506108437\n"
     ]
    }
   ],
   "source": [
    "#Retornos diarios modelo básico (estrategia de repartir diariamente a partes iguales entre todos los tickers predichos con retorno positivo al día siguiente)\n",
    "s=((df_test)[[ True if x==1 else False for x in model.predict(df_test[opt_features])]]).groupby('date')['return_f_d'].mean()\n",
    "print('Retornos diarios')\n",
    "plt.plot(s)\n",
    "plt.plot(s.index,[s.mean()]*len(s.index))\n",
    "plt.plot(s.index,[0]*len(s.index))\n",
    "plt.show() \n",
    "#Retornos diarios acumulados hasta la fecha sin reinvertir los retornos diarios\n",
    "print('Retornos diarios acumulados sin reinvertir')\n",
    "cs=s.cumsum()\n",
    "plt.plot(cs)\n",
    "plt.plot(cs.index,[0]*len(cs.index))\n",
    "plt.show() \n",
    "#Retornos diarios acumulados hasta la fecha reinvirtiendo los retornos diarios\n",
    "print('Retornos diarios acumulados reinvirtiendo')\n",
    "rcs=(s+1).cumprod()\n",
    "plt.plot(rcs-1)\n",
    "plt.plot(rcs.index,[0]*len(rcs.index))\n",
    "plt.show()\n",
    "print('Retorno final acumulado',(rcs[-2:-1]-1).values[0])"
   ]
  },
  {
   "cell_type": "code",
   "execution_count": 37,
   "id": "7bd6321b",
   "metadata": {},
   "outputs": [
    {
     "name": "stderr",
     "output_type": "stream",
     "text": [
      "<ipython-input-37-169ffd9cc59f>:2: UserWarning: Boolean Series key will be reindexed to match DataFrame index.\n",
      "  s=(df_test)[df['return_f_d']>0].groupby('date')['return_f_d'].mean()\n"
     ]
    },
    {
     "name": "stdout",
     "output_type": "stream",
     "text": [
      "Retornos diarios\n"
     ]
    },
    {
     "data": {
      "image/png": "[encoded data removed]",
      "text/plain": [
       "<Figure size 432x288 with 1 Axes>"
      ]
     },
     "metadata": {
      "needs_background": "light"
     },
     "output_type": "display_data"
    },
    {
     "name": "stdout",
     "output_type": "stream",
     "text": [
      "Retornos diarios acumulados sin reinvertir\n"
     ]
    },
    {
     "data": {
      "image/png": "[encoded data removed]",
      "text/plain": [
       "<Figure size 432x288 with 1 Axes>"
      ]
     },
     "metadata": {
      "needs_background": "light"
     },
     "output_type": "display_data"
    },
    {
     "name": "stdout",
     "output_type": "stream",
     "text": [
      "Retornos diarios acumulados reinvirtiendo\n"
     ]
    },
    {
     "data": {
      "image/png": "[encoded data removed]",
      "text/plain": [
       "<Figure size 432x288 with 1 Axes>"
      ]
     },
     "metadata": {
      "needs_background": "light"
     },
     "output_type": "display_data"
    },
    {
     "name": "stdout",
     "output_type": "stream",
     "text": [
      "Retorno final acumulado 2512.4346243668874\n"
     ]
    }
   ],
   "source": [
    "#Retornos diarios estrategia dios  (estrategia de repartir diariamente a partes iguales entre todos los tickers que tendrán retorno positivo (supone conocer el futuro))\n",
    "s=(df_test)[df['return_f_d']>0].groupby('date')['return_f_d'].mean()\n",
    "print('Retornos diarios')\n",
    "plt.plot(s)\n",
    "plt.plot(s.index,[s.mean()]*len(s.index))\n",
    "plt.plot(s.index,[0]*len(s.index))\n",
    "plt.show() \n",
    "#Retornos diarios acumulados hasta la fecha sin reinvertir los retornos diarios\n",
    "print('Retornos diarios acumulados sin reinvertir')\n",
    "cs=s.cumsum()\n",
    "plt.plot(cs)\n",
    "plt.plot(cs.index,[0]*len(cs.index))\n",
    "plt.show() \n",
    "#Retornos diarios acumulados hasta la fecha reinvirtiendo los retornos diarios\n",
    "print('Retornos diarios acumulados reinvirtiendo')\n",
    "rcs=(s+1).cumprod()\n",
    "plt.plot(rcs-1)\n",
    "plt.plot(rcs.index,[0]*len(rcs.index))\n",
    "plt.show()\n",
    "print('Retorno final acumulado',(rcs[-2:-1]-1).values[0])"
   ]
  },
  {
   "cell_type": "markdown",
   "id": "0312c12e",
   "metadata": {},
   "source": [
    "## Siguientes pasos\n",
    "\n",
    "- Modelo para un día\n",
    "- Backtesting\n",
    "- Introducir otro modelo\n",
    "- Añadir hiperparámetros\n",
    "- Añadir features"
   ]
  }
 ],
 "metadata": {
  "kernelspec": {
   "display_name": "Python 3",
   "language": "python",
   "name": "python3"
  },
  "language_info": {
   "codemirror_mode": {
    "name": "ipython",
    "version": 3
   },
   "file_extension": ".py",
   "mimetype": "text/x-python",
   "name": "python",
   "nbconvert_exporter": "python",
   "pygments_lexer": "ipython3",
   "version": "3.8.8"
  }
 },
 "nbformat": 4,
 "nbformat_minor": 5
}
