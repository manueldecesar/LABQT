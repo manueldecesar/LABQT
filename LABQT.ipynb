{
 "cells": [
  {
   "cell_type": "code",
   "execution_count": 1,
   "id": "07444fe4",
   "metadata": {},
   "outputs": [],
   "source": [
    "import pandas as pd\n",
    "import matplotlib.pyplot as plt\n",
    "import numpy as np\n",
    "import datetime\n",
    "from sklearn import tree\n",
    "from sklearn.metrics import confusion_matrix\n",
    "import random\n",
    "from sklearn.neighbors import KNeighborsClassifier\n",
    "from sklearn.linear_model import LogisticRegression\n",
    "from sklearn.metrics import classification_report\n",
    "import pickle\n",
    "from sklearn.model_selection import cross_val_score\n",
    "import itertools\n",
    "import math\n",
    "import scipy.special\n",
    "#Configuramos pandas para mostrarnos 20 filas\n",
    "pd.set_option('display.max_rows', 20)\n",
    "pd.set_option('display.min_rows', 20)"
   ]
  },
  {
   "cell_type": "code",
   "execution_count": 2,
   "id": "54546db0",
   "metadata": {},
   "outputs": [],
   "source": [
    "def list_cobmination_columns(df,num_max_comb):\n",
    "    list_cobmination_columns=[]\n",
    "    df_columns = df.columns\n",
    "    for i in range (1,min(num_max_comb,len(df_columns))+1):\n",
    "        for _, j in enumerate(itertools.combinations(df_columns, i)):\n",
    "            list_cobmination_columns.append(list(j))\n",
    "    return list_cobmination_columns"
   ]
  },
  {
   "cell_type": "code",
   "execution_count": 3,
   "id": "1a99f1a5",
   "metadata": {},
   "outputs": [],
   "source": [
    " def validacion(model,X_train,y_train,X_test,y_test):\n",
    "    t=datetime.datetime.now()    \n",
    "    \n",
    "    y_1=[1]*len(y_test)\n",
    "    print('accuracy dummy 1 test', sum(y_1==y_test)/len(y_test))\n",
    "    print(confusion_matrix(y_test, y_1))\n",
    "    \n",
    "    y_0=[0]*len(y_test)\n",
    "    print('accuracy dummy 0 test', sum(y_0==y_test)/len(y_test))\n",
    "    print(confusion_matrix(y_test, y_0))\n",
    "    \n",
    "    y_random = []\n",
    "    for i in range(len(y_test)):\n",
    "        n = random.randint(0,1)\n",
    "        y_random.append(n)\n",
    "    print('accuracy random test',sum(y_random==y_test)/len(y_test))\n",
    "    print(confusion_matrix(y_test, y_random))\n",
    "    \n",
    "    y_pred_train=model.predict(X_train)\n",
    "    print('accuracy model train',sum(y_pred_train==y_train)/len(y_train))\n",
    "    print(confusion_matrix(y_train, y_pred_train))\n",
    "\n",
    "    y_pred_test=model.predict(X_test)\n",
    "    print('accuracy model test',sum(y_pred_test==y_test)/len(y_test))\n",
    "    print(confusion_matrix(y_test, y_pred_test))\n",
    "    \n",
    "    #Predecimos que ocurrirá con las pólizas de test\n",
    "    y_pred_test = model.predict(X_test)\n",
    "\n",
    "    # Comprobamos los resultados\n",
    "    print(classification_report(y_test, y_pred_test))\n",
    "\n",
    "    # Medimos el posible sobreajuste comparando resultados sobre conjuntos de entrenamiento y test\n",
    "    print('Precision en el set de Entrenamiento: {:.2f}'\n",
    "         .format(model.score(X_train, y_train)))\n",
    "    print('Precision en el set de test: {:.2f}'\n",
    "         .format(model.score(X_test, y_test)))\n",
    "\n",
    "    # Comparamos los resultados con el modelo dummy\n",
    "    print('Modelo random proporcionado')\n",
    "    p_positivo=sum(y_train)/len(y_train)\n",
    "    print('Probabilidad de positivo', p_positivo)\n",
    "    y_predicted_dummy=y_pred_test.copy()\n",
    "    for i in range(0,len(y_test)):\n",
    "        y_predicted_dummy[i]=random.choices([0,1], [1-p_positivo,p_positivo])[0]\n",
    "    print('Predicción dummy con probabilidad positivo =',p_positivo)\n",
    "    print(classification_report(y_test, y_predicted_dummy))\n",
    "    \n",
    "    # Sacamos un análisis de precision y recall de recurrencia para diferentes umbrales de probabilidad\n",
    "    print('Análisis de precision y recall de positivos para diferentes umbrales de probabilidad')\n",
    "    reporte_por_umbral_de_probabilidad=pd.DataFrame(columns=['Umbral de probabilidad', 'Precision', 'Recall'])\n",
    "    for p in np.arange(0.5, 0.58, 0.01):\n",
    "        report=classification_report(y_test, 1*(model.predict_proba(X_test).T[1]>=p),output_dict=True)\n",
    "        reporte_por_umbral_de_probabilidad = reporte_por_umbral_de_probabilidad.append({'Umbral de probabilidad': p, 'Precision':report['1']['precision'], 'Recall':report['1']['recall']}, ignore_index=True)\n",
    "    print(reporte_por_umbral_de_probabilidad) \n",
    "    \n",
    "    t=datetime.datetime.now()-t\n",
    "    print('Validacion del modelo terminada en ',t,' s')\n",
    "    return"
   ]
  },
  {
   "cell_type": "code",
   "execution_count": 4,
   "id": "82da26e3",
   "metadata": {},
   "outputs": [
    {
     "name": "stdout",
     "output_type": "stream",
     "text": [
      "15389314\n",
      "15389314\n",
      "12274396\n"
     ]
    }
   ],
   "source": [
    "#Cargamos el fichero de cotizaciones seleccionando las columnas relevantes para el modelo\n",
    "path='C:\\\\Users\\\\manuel.decesar\\\\Desktop\\\\data_labqt\\\\'\n",
    "df=pd.read_csv(path+'WIKI_PRICES_212b326a081eacca455e13140d7bb9db.csv', sep=',')[['ticker','date','adj_close','adj_volume']]  \n",
    "print(len(df))\n",
    "#fijamos los tipos de datos\n",
    "df['date']=pd.to_datetime(df['date'])\n",
    "print(len(df))\n",
    "metadata=pd.read_csv(path+'us_equities_meta_data.csv')\n",
    "df = pd.merge(df, metadata[[\"ticker\",\"sector\"]], on=\"ticker\")\n",
    "print(len(df))"
   ]
  },
  {
   "cell_type": "code",
   "execution_count": 5,
   "id": "cb66acda",
   "metadata": {},
   "outputs": [
    {
     "name": "stdout",
     "output_type": "stream",
     "text": [
      "7710723\n"
     ]
    }
   ],
   "source": [
    "#Filtrar tickers sin suficiente volumen\n",
    "#df=df.reset_index()\n",
    "df_ticker_volume=np.log10(df.groupby(['ticker'])['adj_volume'].sum())\n",
    "df=df[df['ticker'].isin(df_ticker_volume[df_ticker_volume>8.211].index)]\n",
    "#Filtrar tickers sin suficientes cotizaciones\n",
    "df_ticker_cot=np.log10(df.groupby(['ticker'])['adj_close'].count())\n",
    "df=df[df['ticker'].isin(df_ticker_cot[df_ticker_cot>3.104].index)]\n",
    "#Filtrar registros sin volumen\n",
    "df=df[df['adj_close']>0]\n",
    "#Filtro de fecha\n",
    "df=df[df.date>='2001-01-01']\n",
    "#Establecemos índice (ticker y fecha)\n",
    "df=df.set_index(['ticker','date'])\n",
    "print(len(df))\n",
    "#df"
   ]
  },
  {
   "cell_type": "code",
   "execution_count": 6,
   "id": "6d4bf4f2",
   "metadata": {},
   "outputs": [
    {
     "name": "stdout",
     "output_type": "stream",
     "text": [
      "(7.967, 8.496]      204\n",
      "(8.496, 8.737]      204\n",
      "(8.737, 8.93]       204\n",
      "(8.93, 9.091]       204\n",
      "(9.091, 9.252]      204\n",
      "(9.252, 9.405]      204\n",
      "(9.405, 9.612]      204\n",
      "(9.612, 9.87]       204\n",
      "(9.87, 10.185]      204\n",
      "(10.185, 11.728]    204\n",
      "Name: adj_volume, dtype: int64\n",
      "total de tickers 2197\n",
      "mediana de volumen ajustado por ticker 5383.999999999998\n"
     ]
    },
    {
     "data": {
      "image/png": "[encoded data removed]",
      "text/plain": [
       "<Figure size 432x288 with 1 Axes>"
      ]
     },
     "metadata": {
      "needs_background": "light"
     },
     "output_type": "display_data"
    }
   ],
   "source": [
    "#Análisis volumen por ticker\n",
    "%matplotlib inline\n",
    "df_ticker_volume=np.log10(df.groupby(['ticker'])['adj_volume'].sum())\n",
    "plt.hist(df_ticker_volume, density=True, bins=10)  # density=False would make counts\n",
    "plt.ylabel('Densidad de probabilidad')\n",
    "plt.xlabel('Log10(Ticker_volume)');\n",
    "#percentiles\n",
    "print(pd.qcut(df_ticker_volume,10).value_counts().sort_index())\n",
    "print('total de tickers',len(df_ticker_cot))\n",
    "print('mediana de volumen ajustado por ticker',10**df_ticker_cot.median())\n"
   ]
  },
  {
   "cell_type": "code",
   "execution_count": 7,
   "id": "5fb58b75",
   "metadata": {},
   "outputs": [
    {
     "name": "stdout",
     "output_type": "stream",
     "text": [
      "(3.1047, 3.6201]     680\n",
      "(3.6201, 3.6369]    1353\n",
      "(3.6369, 3.637]        7\n",
      "Name: adj_close, dtype: int64\n",
      "mediana de número de cotizaciones por ticker 4333.999999999999\n"
     ]
    },
    {
     "data": {
      "image/png": "[encoded data removed]",
      "text/plain": [
       "<Figure size 432x288 with 1 Axes>"
      ]
     },
     "metadata": {
      "needs_background": "light"
     },
     "output_type": "display_data"
    }
   ],
   "source": [
    "#Análisis cotizaciones por ticker\n",
    "%matplotlib inline\n",
    "df_ticker_cot=np.log10(df.groupby(['ticker'])['adj_close'].count())\n",
    "plt.hist(df_ticker_cot, density=False, bins=10)  # density=False would make counts\n",
    "plt.ylabel('Densidad de probabilidad')\n",
    "plt.xlabel('Log10(cotizaciones_por_ticker)');\n",
    "#percentiles\n",
    "print(pd.qcut(df_ticker_cot,3).value_counts().sort_index())\n",
    "print('mediana de número de cotizaciones por ticker',10**df_ticker_cot.median())"
   ]
  },
  {
   "cell_type": "code",
   "execution_count": 8,
   "id": "6262becd",
   "metadata": {},
   "outputs": [
    {
     "name": "stdout",
     "output_type": "stream",
     "text": [
      "Empty DataFrame\n",
      "Columns: [ticker, date, adj_close, adj_volume, sector]\n",
      "Index: []\n",
      "Empty DataFrame\n",
      "Columns: [ticker, date, adj_close, adj_volume, sector]\n",
      "Index: []\n",
      "Empty DataFrame\n",
      "Columns: [ticker, date, adj_close, adj_volume, sector]\n",
      "Index: []\n",
      "Empty DataFrame\n",
      "Columns: [ticker, date, adj_close, adj_volume, sector]\n",
      "Index: []\n"
     ]
    }
   ],
   "source": [
    "#Análisis nulos\n",
    "print(df.reset_index()[df.reset_index().ticker.isnull()])\n",
    "print(df.reset_index()[df.reset_index().date.isnull()])\n",
    "print(df.reset_index()[df.reset_index().adj_close.isnull()])\n",
    "print(df.reset_index()[df.reset_index().adj_volume.isnull()])"
   ]
  },
  {
   "cell_type": "code",
   "execution_count": 9,
   "id": "62d4ba8b",
   "metadata": {},
   "outputs": [
    {
     "name": "stdout",
     "output_type": "stream",
     "text": [
      "(0.999, 1498.0]     871\n",
      "(1498.0, 1746.6]    865\n",
      "(1746.6, 1918.0]    869\n",
      "(1918.0, 2026.0]    887\n",
      "(2026.0, 2040.0]    848\n",
      "Name: adj_close, dtype: int64\n",
      "número de fechas 4340\n",
      "mediana de número de tickers por fecha 1802.0\n"
     ]
    },
    {
     "data": {
      "image/png": "[encoded data removed]",
      "text/plain": [
       "<Figure size 432x288 with 1 Axes>"
      ]
     },
     "metadata": {
      "needs_background": "light"
     },
     "output_type": "display_data"
    }
   ],
   "source": [
    "#Análisis discontinuidades de fechas\n",
    "%matplotlib inline\n",
    "df_date_tikers=df.groupby(['date'])['adj_close'].count()\n",
    "df_date_tikers.plot()\n",
    "plt.ylabel('tickers')\n",
    "plt.xlabel('Fechas');\n",
    "#percentiles\n",
    "print(pd.qcut(df_date_tikers,5).value_counts().sort_index())\n",
    "print('número de fechas',len(df_date_tikers))\n",
    "print('mediana de número de tickers por fecha',df_date_tikers.median())"
   ]
  },
  {
   "cell_type": "code",
   "execution_count": 10,
   "id": "6bef3e26",
   "metadata": {},
   "outputs": [
    {
     "name": "stdout",
     "output_type": "stream",
     "text": [
      "['A' 'AAL' 'AAN' ... 'ZNGA' 'ZTS' 'ZUMZ']\n",
      "['2001-01-01T00:00:00.000000000' '2001-01-02T00:00:00.000000000'\n",
      " '2001-01-03T00:00:00.000000000' ... '2018-03-23T00:00:00.000000000'\n",
      " '2018-03-26T00:00:00.000000000' '2018-03-27T00:00:00.000000000']\n"
     ]
    }
   ],
   "source": [
    "#tickers posibles\n",
    "print(np.unique(df.index.get_level_values(0)))\n",
    "#fechas posibles\n",
    "print(np.unique(df.index.get_level_values(1)))"
   ]
  },
  {
   "cell_type": "code",
   "execution_count": 11,
   "id": "f76eae64",
   "metadata": {},
   "outputs": [
    {
     "name": "stdout",
     "output_type": "stream",
     "text": [
      "200000\n"
     ]
    }
   ],
   "source": [
    "#Filtrar muestra para desarrollo\n",
    "#df=df.sort_values(by=['date'], ascending=True)[0:int(len(df)*0.8)]\n",
    "df=df.sort_values(by=['ticker'], ascending=False)[0:200000]\n",
    "df=df.sort_values(by=['ticker','date'])\n",
    "df=df.reset_index()\n",
    "df=df.set_index(['ticker','date'])\n",
    "print(len(df))"
   ]
  },
  {
   "cell_type": "code",
   "execution_count": 12,
   "id": "2dea5d76",
   "metadata": {},
   "outputs": [
    {
     "name": "stdout",
     "output_type": "stream",
     "text": [
      "['Capital Goods' 'Technology' 'Energy' 'Finance' nan 'Consumer Services'\n",
      " 'Consumer Durables' 'Basic Industries' 'Public Utilities' 'Miscellaneous'\n",
      " 'Consumer Non-Durables' 'Health Care' 'Transportation']\n",
      "2022-01-05 10:47:33.875449 : Extraido fichero de transformación en dummies: columnas\n",
      "Index(['adj_close', 'adj_volume', 'sector_Basic Industries',\n",
      "       'sector_Capital Goods', 'sector_Consumer Durables',\n",
      "       'sector_Consumer Non-Durables', 'sector_Consumer Services',\n",
      "       'sector_Energy', 'sector_Finance', 'sector_Health Care',\n",
      "       'sector_Miscellaneous', 'sector_Public Utilities', 'sector_Technology',\n",
      "       'sector_Transportation'],\n",
      "      dtype='object')\n"
     ]
    },
    {
     "data": {
      "text/html": [
       "<div>\n",
       "<style scoped>\n",
       "    .dataframe tbody tr th:only-of-type {\n",
       "        vertical-align: middle;\n",
       "    }\n",
       "\n",
       "    .dataframe tbody tr th {\n",
       "        vertical-align: top;\n",
       "    }\n",
       "\n",
       "    .dataframe thead th {\n",
       "        text-align: right;\n",
       "    }\n",
       "</style>\n",
       "<table border=\"1\" class=\"dataframe\">\n",
       "  <thead>\n",
       "    <tr style=\"text-align: right;\">\n",
       "      <th></th>\n",
       "      <th></th>\n",
       "      <th>adj_close</th>\n",
       "      <th>adj_volume</th>\n",
       "      <th>sector_Basic Industries</th>\n",
       "      <th>sector_Capital Goods</th>\n",
       "      <th>sector_Consumer Durables</th>\n",
       "      <th>sector_Consumer Non-Durables</th>\n",
       "      <th>sector_Consumer Services</th>\n",
       "      <th>sector_Energy</th>\n",
       "      <th>sector_Finance</th>\n",
       "      <th>sector_Health Care</th>\n",
       "      <th>sector_Miscellaneous</th>\n",
       "      <th>sector_Public Utilities</th>\n",
       "      <th>sector_Technology</th>\n",
       "      <th>sector_Transportation</th>\n",
       "    </tr>\n",
       "    <tr>\n",
       "      <th>ticker</th>\n",
       "      <th>date</th>\n",
       "      <th></th>\n",
       "      <th></th>\n",
       "      <th></th>\n",
       "      <th></th>\n",
       "      <th></th>\n",
       "      <th></th>\n",
       "      <th></th>\n",
       "      <th></th>\n",
       "      <th></th>\n",
       "      <th></th>\n",
       "      <th></th>\n",
       "      <th></th>\n",
       "      <th></th>\n",
       "      <th></th>\n",
       "    </tr>\n",
       "  </thead>\n",
       "  <tbody>\n",
       "    <tr>\n",
       "      <th rowspan=\"10\" valign=\"top\">WOR</th>\n",
       "      <th>2001-01-02</th>\n",
       "      <td>4.596238</td>\n",
       "      <td>272900.0</td>\n",
       "      <td>0</td>\n",
       "      <td>1</td>\n",
       "      <td>0</td>\n",
       "      <td>0</td>\n",
       "      <td>0</td>\n",
       "      <td>0</td>\n",
       "      <td>0</td>\n",
       "      <td>0</td>\n",
       "      <td>0</td>\n",
       "      <td>0</td>\n",
       "      <td>0</td>\n",
       "      <td>0</td>\n",
       "    </tr>\n",
       "    <tr>\n",
       "      <th>2005-04-28</th>\n",
       "      <td>11.161708</td>\n",
       "      <td>736200.0</td>\n",
       "      <td>0</td>\n",
       "      <td>1</td>\n",
       "      <td>0</td>\n",
       "      <td>0</td>\n",
       "      <td>0</td>\n",
       "      <td>0</td>\n",
       "      <td>0</td>\n",
       "      <td>0</td>\n",
       "      <td>0</td>\n",
       "      <td>0</td>\n",
       "      <td>0</td>\n",
       "      <td>0</td>\n",
       "    </tr>\n",
       "    <tr>\n",
       "      <th>2005-04-29</th>\n",
       "      <td>11.328925</td>\n",
       "      <td>768500.0</td>\n",
       "      <td>0</td>\n",
       "      <td>1</td>\n",
       "      <td>0</td>\n",
       "      <td>0</td>\n",
       "      <td>0</td>\n",
       "      <td>0</td>\n",
       "      <td>0</td>\n",
       "      <td>0</td>\n",
       "      <td>0</td>\n",
       "      <td>0</td>\n",
       "      <td>0</td>\n",
       "      <td>0</td>\n",
       "    </tr>\n",
       "    <tr>\n",
       "      <th>2005-05-02</th>\n",
       "      <td>11.349827</td>\n",
       "      <td>668500.0</td>\n",
       "      <td>0</td>\n",
       "      <td>1</td>\n",
       "      <td>0</td>\n",
       "      <td>0</td>\n",
       "      <td>0</td>\n",
       "      <td>0</td>\n",
       "      <td>0</td>\n",
       "      <td>0</td>\n",
       "      <td>0</td>\n",
       "      <td>0</td>\n",
       "      <td>0</td>\n",
       "      <td>0</td>\n",
       "    </tr>\n",
       "    <tr>\n",
       "      <th>2005-05-03</th>\n",
       "      <td>11.447370</td>\n",
       "      <td>843100.0</td>\n",
       "      <td>0</td>\n",
       "      <td>1</td>\n",
       "      <td>0</td>\n",
       "      <td>0</td>\n",
       "      <td>0</td>\n",
       "      <td>0</td>\n",
       "      <td>0</td>\n",
       "      <td>0</td>\n",
       "      <td>0</td>\n",
       "      <td>0</td>\n",
       "      <td>0</td>\n",
       "      <td>0</td>\n",
       "    </tr>\n",
       "    <tr>\n",
       "      <th>2005-05-04</th>\n",
       "      <td>11.565815</td>\n",
       "      <td>601000.0</td>\n",
       "      <td>0</td>\n",
       "      <td>1</td>\n",
       "      <td>0</td>\n",
       "      <td>0</td>\n",
       "      <td>0</td>\n",
       "      <td>0</td>\n",
       "      <td>0</td>\n",
       "      <td>0</td>\n",
       "      <td>0</td>\n",
       "      <td>0</td>\n",
       "      <td>0</td>\n",
       "      <td>0</td>\n",
       "    </tr>\n",
       "    <tr>\n",
       "      <th>2005-05-05</th>\n",
       "      <td>11.447370</td>\n",
       "      <td>687000.0</td>\n",
       "      <td>0</td>\n",
       "      <td>1</td>\n",
       "      <td>0</td>\n",
       "      <td>0</td>\n",
       "      <td>0</td>\n",
       "      <td>0</td>\n",
       "      <td>0</td>\n",
       "      <td>0</td>\n",
       "      <td>0</td>\n",
       "      <td>0</td>\n",
       "      <td>0</td>\n",
       "      <td>0</td>\n",
       "    </tr>\n",
       "    <tr>\n",
       "      <th>2005-05-06</th>\n",
       "      <td>11.712130</td>\n",
       "      <td>450000.0</td>\n",
       "      <td>0</td>\n",
       "      <td>1</td>\n",
       "      <td>0</td>\n",
       "      <td>0</td>\n",
       "      <td>0</td>\n",
       "      <td>0</td>\n",
       "      <td>0</td>\n",
       "      <td>0</td>\n",
       "      <td>0</td>\n",
       "      <td>0</td>\n",
       "      <td>0</td>\n",
       "      <td>0</td>\n",
       "    </tr>\n",
       "    <tr>\n",
       "      <th>2005-05-09</th>\n",
       "      <td>11.628521</td>\n",
       "      <td>389600.0</td>\n",
       "      <td>0</td>\n",
       "      <td>1</td>\n",
       "      <td>0</td>\n",
       "      <td>0</td>\n",
       "      <td>0</td>\n",
       "      <td>0</td>\n",
       "      <td>0</td>\n",
       "      <td>0</td>\n",
       "      <td>0</td>\n",
       "      <td>0</td>\n",
       "      <td>0</td>\n",
       "      <td>0</td>\n",
       "    </tr>\n",
       "    <tr>\n",
       "      <th>2005-05-10</th>\n",
       "      <td>11.308023</td>\n",
       "      <td>317800.0</td>\n",
       "      <td>0</td>\n",
       "      <td>1</td>\n",
       "      <td>0</td>\n",
       "      <td>0</td>\n",
       "      <td>0</td>\n",
       "      <td>0</td>\n",
       "      <td>0</td>\n",
       "      <td>0</td>\n",
       "      <td>0</td>\n",
       "      <td>0</td>\n",
       "      <td>0</td>\n",
       "      <td>0</td>\n",
       "    </tr>\n",
       "    <tr>\n",
       "      <th>...</th>\n",
       "      <th>...</th>\n",
       "      <td>...</td>\n",
       "      <td>...</td>\n",
       "      <td>...</td>\n",
       "      <td>...</td>\n",
       "      <td>...</td>\n",
       "      <td>...</td>\n",
       "      <td>...</td>\n",
       "      <td>...</td>\n",
       "      <td>...</td>\n",
       "      <td>...</td>\n",
       "      <td>...</td>\n",
       "      <td>...</td>\n",
       "      <td>...</td>\n",
       "      <td>...</td>\n",
       "    </tr>\n",
       "    <tr>\n",
       "      <th rowspan=\"10\" valign=\"top\">ZUMZ</th>\n",
       "      <th>2018-03-14</th>\n",
       "      <td>19.600000</td>\n",
       "      <td>357345.0</td>\n",
       "      <td>0</td>\n",
       "      <td>0</td>\n",
       "      <td>0</td>\n",
       "      <td>0</td>\n",
       "      <td>1</td>\n",
       "      <td>0</td>\n",
       "      <td>0</td>\n",
       "      <td>0</td>\n",
       "      <td>0</td>\n",
       "      <td>0</td>\n",
       "      <td>0</td>\n",
       "      <td>0</td>\n",
       "    </tr>\n",
       "    <tr>\n",
       "      <th>2018-03-15</th>\n",
       "      <td>20.000000</td>\n",
       "      <td>599736.0</td>\n",
       "      <td>0</td>\n",
       "      <td>0</td>\n",
       "      <td>0</td>\n",
       "      <td>0</td>\n",
       "      <td>1</td>\n",
       "      <td>0</td>\n",
       "      <td>0</td>\n",
       "      <td>0</td>\n",
       "      <td>0</td>\n",
       "      <td>0</td>\n",
       "      <td>0</td>\n",
       "      <td>0</td>\n",
       "    </tr>\n",
       "    <tr>\n",
       "      <th>2018-03-16</th>\n",
       "      <td>22.100000</td>\n",
       "      <td>2059778.0</td>\n",
       "      <td>0</td>\n",
       "      <td>0</td>\n",
       "      <td>0</td>\n",
       "      <td>0</td>\n",
       "      <td>1</td>\n",
       "      <td>0</td>\n",
       "      <td>0</td>\n",
       "      <td>0</td>\n",
       "      <td>0</td>\n",
       "      <td>0</td>\n",
       "      <td>0</td>\n",
       "      <td>0</td>\n",
       "    </tr>\n",
       "    <tr>\n",
       "      <th>2018-03-19</th>\n",
       "      <td>23.400000</td>\n",
       "      <td>858257.0</td>\n",
       "      <td>0</td>\n",
       "      <td>0</td>\n",
       "      <td>0</td>\n",
       "      <td>0</td>\n",
       "      <td>1</td>\n",
       "      <td>0</td>\n",
       "      <td>0</td>\n",
       "      <td>0</td>\n",
       "      <td>0</td>\n",
       "      <td>0</td>\n",
       "      <td>0</td>\n",
       "      <td>0</td>\n",
       "    </tr>\n",
       "    <tr>\n",
       "      <th>2018-03-20</th>\n",
       "      <td>23.800000</td>\n",
       "      <td>404873.0</td>\n",
       "      <td>0</td>\n",
       "      <td>0</td>\n",
       "      <td>0</td>\n",
       "      <td>0</td>\n",
       "      <td>1</td>\n",
       "      <td>0</td>\n",
       "      <td>0</td>\n",
       "      <td>0</td>\n",
       "      <td>0</td>\n",
       "      <td>0</td>\n",
       "      <td>0</td>\n",
       "      <td>0</td>\n",
       "    </tr>\n",
       "    <tr>\n",
       "      <th>2018-03-21</th>\n",
       "      <td>23.950000</td>\n",
       "      <td>354092.0</td>\n",
       "      <td>0</td>\n",
       "      <td>0</td>\n",
       "      <td>0</td>\n",
       "      <td>0</td>\n",
       "      <td>1</td>\n",
       "      <td>0</td>\n",
       "      <td>0</td>\n",
       "      <td>0</td>\n",
       "      <td>0</td>\n",
       "      <td>0</td>\n",
       "      <td>0</td>\n",
       "      <td>0</td>\n",
       "    </tr>\n",
       "    <tr>\n",
       "      <th>2018-03-22</th>\n",
       "      <td>23.350000</td>\n",
       "      <td>269607.0</td>\n",
       "      <td>0</td>\n",
       "      <td>0</td>\n",
       "      <td>0</td>\n",
       "      <td>0</td>\n",
       "      <td>1</td>\n",
       "      <td>0</td>\n",
       "      <td>0</td>\n",
       "      <td>0</td>\n",
       "      <td>0</td>\n",
       "      <td>0</td>\n",
       "      <td>0</td>\n",
       "      <td>0</td>\n",
       "    </tr>\n",
       "    <tr>\n",
       "      <th>2018-03-23</th>\n",
       "      <td>23.550000</td>\n",
       "      <td>301584.0</td>\n",
       "      <td>0</td>\n",
       "      <td>0</td>\n",
       "      <td>0</td>\n",
       "      <td>0</td>\n",
       "      <td>1</td>\n",
       "      <td>0</td>\n",
       "      <td>0</td>\n",
       "      <td>0</td>\n",
       "      <td>0</td>\n",
       "      <td>0</td>\n",
       "      <td>0</td>\n",
       "      <td>0</td>\n",
       "    </tr>\n",
       "    <tr>\n",
       "      <th>2018-03-26</th>\n",
       "      <td>24.650000</td>\n",
       "      <td>375320.0</td>\n",
       "      <td>0</td>\n",
       "      <td>0</td>\n",
       "      <td>0</td>\n",
       "      <td>0</td>\n",
       "      <td>1</td>\n",
       "      <td>0</td>\n",
       "      <td>0</td>\n",
       "      <td>0</td>\n",
       "      <td>0</td>\n",
       "      <td>0</td>\n",
       "      <td>0</td>\n",
       "      <td>0</td>\n",
       "    </tr>\n",
       "    <tr>\n",
       "      <th>2018-03-27</th>\n",
       "      <td>23.600000</td>\n",
       "      <td>403884.0</td>\n",
       "      <td>0</td>\n",
       "      <td>0</td>\n",
       "      <td>0</td>\n",
       "      <td>0</td>\n",
       "      <td>1</td>\n",
       "      <td>0</td>\n",
       "      <td>0</td>\n",
       "      <td>0</td>\n",
       "      <td>0</td>\n",
       "      <td>0</td>\n",
       "      <td>0</td>\n",
       "      <td>0</td>\n",
       "    </tr>\n",
       "  </tbody>\n",
       "</table>\n",
       "<p>200000 rows × 14 columns</p>\n",
       "</div>"
      ],
      "text/plain": [
       "                   adj_close  adj_volume  sector_Basic Industries  \\\n",
       "ticker date                                                         \n",
       "WOR    2001-01-02   4.596238    272900.0                        0   \n",
       "       2005-04-28  11.161708    736200.0                        0   \n",
       "       2005-04-29  11.328925    768500.0                        0   \n",
       "       2005-05-02  11.349827    668500.0                        0   \n",
       "       2005-05-03  11.447370    843100.0                        0   \n",
       "       2005-05-04  11.565815    601000.0                        0   \n",
       "       2005-05-05  11.447370    687000.0                        0   \n",
       "       2005-05-06  11.712130    450000.0                        0   \n",
       "       2005-05-09  11.628521    389600.0                        0   \n",
       "       2005-05-10  11.308023    317800.0                        0   \n",
       "...                      ...         ...                      ...   \n",
       "ZUMZ   2018-03-14  19.600000    357345.0                        0   \n",
       "       2018-03-15  20.000000    599736.0                        0   \n",
       "       2018-03-16  22.100000   2059778.0                        0   \n",
       "       2018-03-19  23.400000    858257.0                        0   \n",
       "       2018-03-20  23.800000    404873.0                        0   \n",
       "       2018-03-21  23.950000    354092.0                        0   \n",
       "       2018-03-22  23.350000    269607.0                        0   \n",
       "       2018-03-23  23.550000    301584.0                        0   \n",
       "       2018-03-26  24.650000    375320.0                        0   \n",
       "       2018-03-27  23.600000    403884.0                        0   \n",
       "\n",
       "                   sector_Capital Goods  sector_Consumer Durables  \\\n",
       "ticker date                                                         \n",
       "WOR    2001-01-02                     1                         0   \n",
       "       2005-04-28                     1                         0   \n",
       "       2005-04-29                     1                         0   \n",
       "       2005-05-02                     1                         0   \n",
       "       2005-05-03                     1                         0   \n",
       "       2005-05-04                     1                         0   \n",
       "       2005-05-05                     1                         0   \n",
       "       2005-05-06                     1                         0   \n",
       "       2005-05-09                     1                         0   \n",
       "       2005-05-10                     1                         0   \n",
       "...                                 ...                       ...   \n",
       "ZUMZ   2018-03-14                     0                         0   \n",
       "       2018-03-15                     0                         0   \n",
       "       2018-03-16                     0                         0   \n",
       "       2018-03-19                     0                         0   \n",
       "       2018-03-20                     0                         0   \n",
       "       2018-03-21                     0                         0   \n",
       "       2018-03-22                     0                         0   \n",
       "       2018-03-23                     0                         0   \n",
       "       2018-03-26                     0                         0   \n",
       "       2018-03-27                     0                         0   \n",
       "\n",
       "                   sector_Consumer Non-Durables  sector_Consumer Services  \\\n",
       "ticker date                                                                 \n",
       "WOR    2001-01-02                             0                         0   \n",
       "       2005-04-28                             0                         0   \n",
       "       2005-04-29                             0                         0   \n",
       "       2005-05-02                             0                         0   \n",
       "       2005-05-03                             0                         0   \n",
       "       2005-05-04                             0                         0   \n",
       "       2005-05-05                             0                         0   \n",
       "       2005-05-06                             0                         0   \n",
       "       2005-05-09                             0                         0   \n",
       "       2005-05-10                             0                         0   \n",
       "...                                         ...                       ...   \n",
       "ZUMZ   2018-03-14                             0                         1   \n",
       "       2018-03-15                             0                         1   \n",
       "       2018-03-16                             0                         1   \n",
       "       2018-03-19                             0                         1   \n",
       "       2018-03-20                             0                         1   \n",
       "       2018-03-21                             0                         1   \n",
       "       2018-03-22                             0                         1   \n",
       "       2018-03-23                             0                         1   \n",
       "       2018-03-26                             0                         1   \n",
       "       2018-03-27                             0                         1   \n",
       "\n",
       "                   sector_Energy  sector_Finance  sector_Health Care  \\\n",
       "ticker date                                                            \n",
       "WOR    2001-01-02              0               0                   0   \n",
       "       2005-04-28              0               0                   0   \n",
       "       2005-04-29              0               0                   0   \n",
       "       2005-05-02              0               0                   0   \n",
       "       2005-05-03              0               0                   0   \n",
       "       2005-05-04              0               0                   0   \n",
       "       2005-05-05              0               0                   0   \n",
       "       2005-05-06              0               0                   0   \n",
       "       2005-05-09              0               0                   0   \n",
       "       2005-05-10              0               0                   0   \n",
       "...                          ...             ...                 ...   \n",
       "ZUMZ   2018-03-14              0               0                   0   \n",
       "       2018-03-15              0               0                   0   \n",
       "       2018-03-16              0               0                   0   \n",
       "       2018-03-19              0               0                   0   \n",
       "       2018-03-20              0               0                   0   \n",
       "       2018-03-21              0               0                   0   \n",
       "       2018-03-22              0               0                   0   \n",
       "       2018-03-23              0               0                   0   \n",
       "       2018-03-26              0               0                   0   \n",
       "       2018-03-27              0               0                   0   \n",
       "\n",
       "                   sector_Miscellaneous  sector_Public Utilities  \\\n",
       "ticker date                                                        \n",
       "WOR    2001-01-02                     0                        0   \n",
       "       2005-04-28                     0                        0   \n",
       "       2005-04-29                     0                        0   \n",
       "       2005-05-02                     0                        0   \n",
       "       2005-05-03                     0                        0   \n",
       "       2005-05-04                     0                        0   \n",
       "       2005-05-05                     0                        0   \n",
       "       2005-05-06                     0                        0   \n",
       "       2005-05-09                     0                        0   \n",
       "       2005-05-10                     0                        0   \n",
       "...                                 ...                      ...   \n",
       "ZUMZ   2018-03-14                     0                        0   \n",
       "       2018-03-15                     0                        0   \n",
       "       2018-03-16                     0                        0   \n",
       "       2018-03-19                     0                        0   \n",
       "       2018-03-20                     0                        0   \n",
       "       2018-03-21                     0                        0   \n",
       "       2018-03-22                     0                        0   \n",
       "       2018-03-23                     0                        0   \n",
       "       2018-03-26                     0                        0   \n",
       "       2018-03-27                     0                        0   \n",
       "\n",
       "                   sector_Technology  sector_Transportation  \n",
       "ticker date                                                  \n",
       "WOR    2001-01-02                  0                      0  \n",
       "       2005-04-28                  0                      0  \n",
       "       2005-04-29                  0                      0  \n",
       "       2005-05-02                  0                      0  \n",
       "       2005-05-03                  0                      0  \n",
       "       2005-05-04                  0                      0  \n",
       "       2005-05-05                  0                      0  \n",
       "       2005-05-06                  0                      0  \n",
       "       2005-05-09                  0                      0  \n",
       "       2005-05-10                  0                      0  \n",
       "...                              ...                    ...  \n",
       "ZUMZ   2018-03-14                  0                      0  \n",
       "       2018-03-15                  0                      0  \n",
       "       2018-03-16                  0                      0  \n",
       "       2018-03-19                  0                      0  \n",
       "       2018-03-20                  0                      0  \n",
       "       2018-03-21                  0                      0  \n",
       "       2018-03-22                  0                      0  \n",
       "       2018-03-23                  0                      0  \n",
       "       2018-03-26                  0                      0  \n",
       "       2018-03-27                  0                      0  \n",
       "\n",
       "[200000 rows x 14 columns]"
      ]
     },
     "execution_count": 12,
     "metadata": {},
     "output_type": "execute_result"
    }
   ],
   "source": [
    "#dummies para el sector\n",
    "print(df.sector.unique())\n",
    "df = pd.get_dummies(data=df, columns=['sector'])\n",
    "pickle.dump(df.columns, open(path+'columnas', 'wb'))\n",
    "print(datetime.datetime.now(),': Extraido fichero de transformación en dummies: columnas')\n",
    "columnas=pickle.load(open(path+'columnas', 'rb'))\n",
    "print(columnas)\n",
    "df=df.reindex(labels =columnas, axis = 1, fill_value = 0)\n",
    "df"
   ]
  },
  {
   "cell_type": "code",
   "execution_count": 13,
   "id": "2b0789b9",
   "metadata": {},
   "outputs": [],
   "source": [
    "#Calculamos el retorno respecto al día anterior: incremento relativo del ticker respecto el día anterior\n",
    "df['return_d']=df.groupby(level='ticker')['adj_close'].pct_change()\n",
    "#Calculamos el retorno respecto a la semana anterior: incremento relativo del ticker respecto a la semana anterior\n",
    "df['return_w']=df.groupby(level='ticker')['adj_close'].pct_change(periods=5)\n",
    "#Calculamos el retorno respecto al mes anterior: incremento relativo del ticker respecto el mes anterior\n",
    "df['return_m']=df.groupby(level='ticker')['adj_close'].pct_change(periods=20)\n",
    "#Calculamos el retorno respecto al año anterior: incremento relativo del ticker respecto el año anterior\n",
    "df['return_y']=df.groupby(level='ticker')['adj_close'].pct_change(periods=252)\n",
    "#df"
   ]
  },
  {
   "cell_type": "code",
   "execution_count": 14,
   "id": "734df8b7",
   "metadata": {},
   "outputs": [],
   "source": [
    "#Volatilidad semanal del retorno diario\n",
    "df['volatility_w_rd']=df.reset_index('ticker').groupby('ticker').apply(lambda grp: grp['return_d'].rolling(5).std())\n",
    "#Volatilidad mensual del retorno diario\n",
    "df['volatility_m_rd']=df.reset_index('ticker').groupby('ticker').apply(lambda grp: grp['return_m'].rolling(20).std())\n",
    "#Volatilidad anual del retorno diario\n",
    "df['volatility_y_rd']=df.reset_index('ticker').groupby('ticker').apply(lambda grp: grp['return_y'].rolling(252).std())\n",
    "#df"
   ]
  },
  {
   "cell_type": "code",
   "execution_count": 15,
   "id": "a12626be",
   "metadata": {},
   "outputs": [],
   "source": [
    "#Cierre ajustado promediado semanal\n",
    "df['adj_close_m_pw']=df.groupby(level='ticker')['adj_close'].apply(lambda grp: grp.rolling(5).mean())\n",
    "#Cierre ajustado promediado mensual\n",
    "df['adj_close_m_pm']=df.groupby(level='ticker')['adj_close'].apply(lambda grp: grp.rolling(20).mean())\n",
    "#Cierre ajustado promediado anual\n",
    "df['adj_close_m_py']=df.groupby(level='ticker')['adj_close'].apply(lambda grp: grp.rolling(252).mean())"
   ]
  },
  {
   "cell_type": "code",
   "execution_count": 16,
   "id": "e7ea5d89",
   "metadata": {},
   "outputs": [],
   "source": [
    "#Retorno respecto al cierre ajustado promediado semanal\n",
    "df['return_m_pw']=df.apply(lambda x: (x['adj_close']-x['adj_close_m_pw'])/x['adj_close_m_pw'], axis=1)\n",
    "#Retorno respecto al cierre ajustado promediado mensual\n",
    "df['return_m_pm']=df.apply(lambda x: (x['adj_close']-x['adj_close_m_pm'])/x['adj_close_m_pm'], axis=1)\n",
    "#Retorno respecto al cierre ajustado promediado anual\n",
    "df['return_m_py']=df.apply(lambda x: (x['adj_close']-x['adj_close_m_py'])/x['adj_close_m_py'], axis=1)"
   ]
  },
  {
   "cell_type": "code",
   "execution_count": 17,
   "id": "c78eb7de",
   "metadata": {},
   "outputs": [],
   "source": [
    "#Equivalente a macd para un día y una semana\n",
    "#Cierre ajustado promediado ponderado por volumen semanal\n",
    "df['adj_close_vwm_pw']=df.reset_index('ticker').groupby('ticker').apply(lambda grp: (grp['adj_close']*grp['adj_volume']).rolling(5).sum()/grp['adj_volume'].rolling(5).sum())\n",
    "#Cierre ajustado promediado ponderado por volumen mensual\n",
    "df['adj_close_vwm_pm']=df.reset_index('ticker').groupby('ticker').apply(lambda grp: (grp['adj_close']*grp['adj_volume']).rolling(20).sum()/grp['adj_volume'].rolling(20).sum())\n",
    "#Cierre ajustado promediado ponderado por volumen anual\n",
    "df['adj_close_vwm_py']=df.reset_index('ticker').groupby('ticker').apply(lambda grp: (grp['adj_close']*grp['adj_volume']).rolling(252).sum()/grp['adj_volume'].rolling(252).sum())\n",
    "#df.loc['X']"
   ]
  },
  {
   "cell_type": "code",
   "execution_count": 18,
   "id": "46c07a78",
   "metadata": {},
   "outputs": [
    {
     "name": "stdout",
     "output_type": "stream",
     "text": [
      "200000\n",
      "172231\n"
     ]
    }
   ],
   "source": [
    "#Filtramos NaN\n",
    "print(len(df))\n",
    "df=df.dropna()\n",
    "df=df.reset_index()\n",
    "df=df.set_index(['ticker','date'])\n",
    "print(len(df))"
   ]
  },
  {
   "cell_type": "code",
   "execution_count": 19,
   "id": "229c352d",
   "metadata": {},
   "outputs": [],
   "source": [
    "#Retorno respecto al cierre ajustado promediado ponderado semanal\n",
    "df['return_vwm_pw']=df.apply(lambda x: (x['adj_close']-x['adj_close_vwm_pw'])/x['adj_close_vwm_pw'], axis=1)\n",
    "df#Retorno respecto al cierre ajustado promediado ponderado mensual\n",
    "df['return_vwm_pm']=df.apply(lambda x: (x['adj_close']-x['adj_close_vwm_pm'])/x['adj_close_vwm_pm'], axis=1)\n",
    "df#Retorno respecto al cierre ajustado promediado ponderado anual\n",
    "df['return_vwm_py']=df.apply(lambda x: (x['adj_close']-x['adj_close_vwm_py'])/x['adj_close_vwm_py'], axis=1)\n",
    "#df"
   ]
  },
  {
   "cell_type": "code",
   "execution_count": 20,
   "id": "87df5bef",
   "metadata": {},
   "outputs": [],
   "source": [
    "#Calculamos el retorno al día siguiente: incremento relativo del ticker en el día siguiente\n",
    "df['return_f_d']=df.groupby(level='ticker')['adj_close'].pct_change().shift(periods=-1)"
   ]
  },
  {
   "cell_type": "code",
   "execution_count": 21,
   "id": "3145eae6",
   "metadata": {},
   "outputs": [],
   "source": [
    "#Calculamos target (retorno>0)\n",
    "df['return_gt_0']=df.apply(lambda x: 1 if x['return_f_d']>0 else 0, axis=1)"
   ]
  },
  {
   "cell_type": "code",
   "execution_count": 77,
   "id": "8ee3d912",
   "metadata": {},
   "outputs": [],
   "source": [
    "#Calculamos el peso como el valor absoluto del retorno al día siguiente (retorno>0)\n",
    "df['sample_weight']=df.apply(lambda x:abs(x['return_f_d'])**(1/8), axis=1)"
   ]
  },
  {
   "cell_type": "code",
   "execution_count": 78,
   "id": "626deea9",
   "metadata": {},
   "outputs": [
    {
     "name": "stdout",
     "output_type": "stream",
     "text": [
      "172176\n",
      "172176\n"
     ]
    }
   ],
   "source": [
    "#Filtramos NaN\n",
    "print(len(df))\n",
    "df=df.dropna()\n",
    "df=df.reset_index()\n",
    "df=df.set_index(['ticker','date'])\n",
    "print(len(df))"
   ]
  },
  {
   "cell_type": "code",
   "execution_count": 94,
   "id": "3cf50f74",
   "metadata": {},
   "outputs": [],
   "source": [
    "#Preparamos datasets de train, validation, test, final_test\n",
    "df=df.sort_values('date')\n",
    "lim_train=int(len(df)*.4)\n",
    "lim_val=int(len(df)*.41)\n",
    "lim_test=int(len(df)*.42)\n",
    "df_train= df[0:lim_train]\n",
    "df_val=df[lim_train:lim_val]\n",
    "df_train_val= df[0:lim_val]\n",
    "df_test= df[lim_val:lim_test]\n",
    "df_final_test= df[lim_test:-1]\n",
    "total_features=['return_d','return_w','return_m','return_y','return_m_pw','return_m_pm','return_m_py','volatility_w_rd','volatility_m_rd','volatility_y_rd','return_vwm_pw','return_vwm_pm','return_vwm_py','sector_Basic Industries',\n",
    "       'sector_Capital Goods', 'sector_Consumer Non-Durables',\n",
    "       'sector_Consumer Services', 'sector_Energy', 'sector_Finance',\n",
    "       'sector_Health Care', 'sector_Public Utilities', 'sector_Technology',\n",
    "       'sector_Transportation']\n",
    "target=['return_gt_0']\n",
    "sample_weight=['sample_weight']"
   ]
  },
  {
   "cell_type": "code",
   "execution_count": 95,
   "id": "8ee00649",
   "metadata": {},
   "outputs": [],
   "source": [
    "#modelos\n",
    "modelos=[]"
   ]
  },
  {
   "cell_type": "code",
   "execution_count": 104,
   "id": "4e834098",
   "metadata": {},
   "outputs": [
    {
     "name": "stdout",
     "output_type": "stream",
     "text": [
      "Retorno random validacion 0.02424460742794543\n",
      "Retorno random train 1.6704134885455413\n",
      "depth 1\n",
      "features_encontrados ['return_d'] Retorno validacion 0.03360265742854662 Retorno train 14.369583764709684 Profundidad encontrada 1 accuracy encontrada 0.5191810657760999\n",
      "depth 2\n",
      "features_encontrados ['return_d', 'return_w'] Retorno validacion 0.041584715009973294 Retorno train 17.31729944395357 Profundidad encontrada 2 accuracy encontrada 0.5199215914040947\n",
      "features_encontrados ['return_d', 'return_m_pw'] Retorno validacion 0.04206642945397765 Retorno train 37.46064089498479 Profundidad encontrada 2 accuracy encontrada 0.5211412806737331\n",
      "Selección de hiperparámetros terminada en  0:00:11.012368  s\n",
      "Validation\n",
      "Features optimos ['return_d', 'return_m_pw'] Retorno en validation 0.04206642945397765 Retorno en train 37.46064089498479 Profundidad optima 2 accuracy_val 0.48664343786295006 accuracy_train 0.5211412806737331\n",
      "accuracy model train 0.5211412806737331\n",
      "[[21525 13490]\n",
      " [19489 14366]]\n",
      "accuracy model val 0.48664343786295006\n",
      "[[505 377]\n",
      " [507 333]]\n",
      "Retorno final acumulado test 0.12692650902250224\n",
      "Test\n",
      "Features optimos ['return_d', 'return_m_pw'] Retorno en test -0.0588943572969618 Retorno en validation 33.535045458687165 Profundidad optima 2 accuracy_test 0.48576409064497383 accuracy_train_val 0.5191664777878513\n",
      "accuracy model train_val 0.5191664777878513\n",
      "[[19224 16673]\n",
      " [17270 17425]]\n",
      "accuracy model test 0.48576409064497383\n",
      "[[454 298]\n",
      " [587 382]]\n"
     ]
    }
   ],
   "source": [
    "#Construimos un modelo de árbol de decisión con cv de features y profundidad\n",
    "tiempo_busqueda=10 #en segundos\n",
    "max_depth=100\n",
    "max_features=100\n",
    "#mask=['return_d', 'sector_Energy','return_y','return_m_py', 'return_vwm_py','return_m','volatility_y_rd', 'return_w']\n",
    "#mask=['return_d', 'return_w', 'return_y', 'volatility_w_rd', 'volatility_m_rd','sector_Consumer Services']\n",
    "#mask=['return_d', 'return_w', 'return_y', 'volatility_w_rd', 'volatility_m_rd','sector_Consumer Services','return_m_py', 'return_vwm_py','return_m','volatility_y_rd']\n",
    "mask=total_features\n",
    "#Estrategia random val\n",
    "s=df_val.groupby('date')['return_f_d'].mean()\n",
    "rcs_random_val=(((s+1).cumprod())[-2:-1]-1).values[0] if len(s)>1 else 0\n",
    "print('Retorno random validacion',rcs_random_val)\n",
    "#Estrategia random train\n",
    "s=df_train.groupby('date')['return_f_d'].mean()\n",
    "rcs_random_train=(((s+1).cumprod())[-2:-1]-1).values[0] if len(s)>1 else 0\n",
    "print('Retorno random train',rcs_random_train)\n",
    "#Selección de features y profundidad con cv\n",
    "t=datetime.datetime.now()\n",
    "depths=range(1,max_depth+1)\n",
    "opt_depth=0\n",
    "accuracy_cv=0.5\n",
    "opt_features=[]\n",
    "rcs_opt=rcs_random\n",
    "metric=-1000000\n",
    "tt=datetime.datetime.now()\n",
    "for i in depths:\n",
    "    if (datetime.datetime.now()-tt).seconds>tiempo_busqueda:\n",
    "        break\n",
    "    print('depth',i)\n",
    "    for features in list_cobmination_columns(df_train[mask],min(max_features, (2**i)-1)):\n",
    "        if (datetime.datetime.now()-tt).seconds>tiempo_busqueda:\n",
    "            break\n",
    "        model = tree.DecisionTreeClassifier(max_depth=i)\n",
    "        #metricas para el caso\n",
    "        model = model.fit(df_train[features], df_train[target],sample_weight=df_train.sample_weight.values)\n",
    "        s=(df_train[[ True if x==1 else False for x in model.predict(df_train[features])]]).groupby('date')['return_f_d'].mean()\n",
    "        rcs_train=(((s+1).cumprod())[-2:-1]-1).values[0] if len(s)>1 else 0\n",
    "        s=(df_val[[ True if x==1 else False for x in model.predict(df_val[features])]]).groupby('date')['return_f_d'].mean()\n",
    "        rcs_val=(((s+1).cumprod())[-2:-1]-1).values[0] if len(s)>1 else 0\n",
    "        #print(features,rcs)\n",
    "        if metric < rcs_train:\n",
    "            metric=rcs_train\n",
    "            opt_depth=i\n",
    "            opt_features=features\n",
    "            accuracy_opt=sum(model.predict(df_train[features])==df_train.return_gt_0.values)/len(df_train[target])\n",
    "            print('features_encontrados',opt_features,'Retorno validacion',rcs_val,'Retorno train',rcs_train,'Profundidad encontrada',opt_depth,'accuracy encontrada',accuracy_opt)\n",
    "t=datetime.datetime.now()-t\n",
    "print('Selección de hiperparámetros terminada en ',t,' s')\n",
    "\n",
    "#Validation\n",
    "print('Validation')\n",
    "\n",
    "\n",
    "model = tree.DecisionTreeClassifier(max_depth=opt_depth)\n",
    "model = model.fit(df_train[opt_features], df_train[target],sample_weight=df_train.sample_weight.values)\n",
    "modelos.append(model)\n",
    "\n",
    "accuracy_train=sum(model.predict(df_train[opt_features])==df_train.return_gt_0.values)/len(df_train[target])\n",
    "s=(df_train[[ True if x==1 else False for x in model.predict(df_train[opt_features])]]).groupby('date')['return_f_d'].mean()\n",
    "rcs_train=(((s+1).cumprod())[-2:-1]-1).values[0] if len(s)>1 else 0\n",
    "accuracy_val=sum(model.predict(df_val[opt_features])==df_val.return_gt_0.values)/len(df_val[target])\n",
    "s=(df_val[[ True if x==1 else False for x in model.predict(df_val[opt_features])]]).groupby('date')['return_f_d'].mean()\n",
    "rcs_val=(((s+1).cumprod())[-2:-1]-1).values[0] if len(s)>1 else 0\n",
    "print('Features optimos',opt_features,'Retorno en validation',rcs_val,'Retorno en train',rcs_train,'Profundidad optima',opt_depth,'accuracy_val',accuracy_val,'accuracy_train',accuracy_train)\n",
    "\n",
    "y_pred_train=model.predict(df_train[opt_features])\n",
    "y_train=df_train.return_gt_0.values\n",
    "print('accuracy model train',sum(y_pred_train==y_train)/len(y_train))\n",
    "print(confusion_matrix(y_train, y_pred_train))\n",
    "\n",
    "y_pred_val=model.predict(df_val[opt_features])\n",
    "y_val=df_val.return_gt_0.values\n",
    "print('accuracy model val',sum(y_pred_val==y_val)/len(y_val))\n",
    "print(confusion_matrix(y_val, y_pred_val))\n",
    "#validacion(model,df_train[opt_features], df_train[target].values,df_val[opt_features], df_val[target].values)      \n",
    "\n",
    "#Estrategia random test\n",
    "s=df_test.groupby('date')['return_f_d'].mean()\n",
    "rcs_random=(((s+1).cumprod())[-2:-1]-1).values[0] if len(s)>1 else 0\n",
    "print('Retorno final acumulado test',rcs_random)\n",
    "\n",
    "#Test\n",
    "print('Test')\n",
    "model = tree.DecisionTreeClassifier(max_depth=opt_depth)\n",
    "model = model.fit(df_train_val[opt_features], df_train_val[target],sample_weight=df_train_val.sample_weight.values)\n",
    "modelos.append(model)\n",
    "\n",
    "accuracy_test=sum(model.predict(df_test[opt_features])==df_test.return_gt_0.values)/len(df_test[target])\n",
    "accuracy_train_val=sum(model.predict(df_train_val[opt_features])==df_train_val.return_gt_0.values)/len(df_train_val[target])\n",
    "s=(df_test[[ True if x==1 else False for x in model.predict(df_test[opt_features])]]).groupby('date')['return_f_d'].mean()\n",
    "rcs_test=(((s+1).cumprod())[-2:-1]-1).values[0] if len(s)>1 else 0\n",
    "s=(df_train_val[[ True if x==1 else False for x in model.predict(df_train_val[opt_features])]]).groupby('date')['return_f_d'].mean()\n",
    "rcs_train_val=(((s+1).cumprod())[-2:-1]-1).values[0] if len(s)>1 else 0\n",
    "print('Features optimos',opt_features,'Retorno en test',rcs_test,'Retorno en train_val',rcs_train_val,'Profundidad optima',opt_depth,'accuracy_test',accuracy_test,'accuracy_train_val',accuracy_train_val)\n",
    "\n",
    "y_pred_val=model.predict(df_train_val[opt_features])\n",
    "y_val=df_train_val.return_gt_0.values\n",
    "print('accuracy model train_val',sum(y_pred_val==y_val)/len(y_val))\n",
    "print(confusion_matrix(y_val, y_pred_val))\n",
    "\n",
    "y_pred_test=model.predict(df_test[opt_features])\n",
    "y_test=df_test.return_gt_0.values\n",
    "print('accuracy model test',sum(y_pred_test==y_test)/len(y_test))\n",
    "print(confusion_matrix(y_test, y_pred_test))\n",
    "#validacion(model,df_val[opt_features], df_val[target].values,df_test[opt_features], df_test[target].values)\n",
    "\n"
   ]
  },
  {
   "cell_type": "code",
   "execution_count": 42,
   "id": "7af96243",
   "metadata": {},
   "outputs": [
    {
     "name": "stdout",
     "output_type": "stream",
     "text": [
      "accuracy dummy 1 test 0.5070653767223688\n",
      "[[   0 8407]\n",
      " [   0 8648]]\n",
      "accuracy dummy 0 test 0.4929346232776312\n",
      "[[8407    0]\n",
      " [8648    0]]\n",
      "accuracy random test 0.5048372911169745\n",
      "[[4214 4193]\n",
      " [4252 4396]]\n",
      "accuracy train 0.5202714587242027\n",
      "[[24071 10631]\n",
      " [22098 11424]]\n",
      "accuracy test 0.5047200234535327\n",
      "[[5922 2485]\n",
      " [5962 2686]]\n",
      "              precision    recall  f1-score   support\n",
      "\n",
      "           0       0.50      0.70      0.58      8407\n",
      "           1       0.52      0.31      0.39      8648\n",
      "\n",
      "    accuracy                           0.50     17055\n",
      "   macro avg       0.51      0.51      0.49     17055\n",
      "weighted avg       0.51      0.50      0.48     17055\n",
      "\n",
      "Precision en el set de Entrenamiento: 0.52\n",
      "Precision en el set de test: 0.50\n",
      "Predicción dummy con probabilidad positivo = 0.49135201688555347\n",
      "              precision    recall  f1-score   support\n",
      "\n",
      "           0       0.49      0.52      0.50      8407\n",
      "           1       0.50      0.48      0.49      8648\n",
      "\n",
      "    accuracy                           0.50     17055\n",
      "   macro avg       0.50      0.50      0.50     17055\n",
      "weighted avg       0.50      0.50      0.50     17055\n",
      "\n",
      "Análisis de precision y recall de positivos para diferentes umbrales de probabilidad\n",
      "   Umbral de probabilidad  Precision    Recall\n",
      "0                    0.50   0.519435  0.310592\n",
      "1                    0.51   0.524913  0.157146\n",
      "2                    0.52   0.524664  0.054117\n",
      "3                    0.53   0.416667  0.001156\n",
      "4                    0.54   0.000000  0.000000\n",
      "5                    0.55   0.000000  0.000000\n",
      "6                    0.56   0.000000  0.000000\n",
      "7                    0.57   0.000000  0.000000\n",
      "Validacion del modelo terminada en  0:00:00.872469  s\n"
     ]
    },
    {
     "name": "stderr",
     "output_type": "stream",
     "text": [
      "C:\\Users\\manuel.decesar\\anaconda3\\lib\\site-packages\\sklearn\\metrics\\_classification.py:1245: UndefinedMetricWarning: Precision and F-score are ill-defined and being set to 0.0 in labels with no predicted samples. Use `zero_division` parameter to control this behavior.\n",
      "  _warn_prf(average, modifier, msg_start, len(result))\n",
      "C:\\Users\\manuel.decesar\\anaconda3\\lib\\site-packages\\sklearn\\metrics\\_classification.py:1245: UndefinedMetricWarning: Precision and F-score are ill-defined and being set to 0.0 in labels with no predicted samples. Use `zero_division` parameter to control this behavior.\n",
      "  _warn_prf(average, modifier, msg_start, len(result))\n",
      "C:\\Users\\manuel.decesar\\anaconda3\\lib\\site-packages\\sklearn\\metrics\\_classification.py:1245: UndefinedMetricWarning: Precision and F-score are ill-defined and being set to 0.0 in labels with no predicted samples. Use `zero_division` parameter to control this behavior.\n",
      "  _warn_prf(average, modifier, msg_start, len(result))\n",
      "C:\\Users\\manuel.decesar\\anaconda3\\lib\\site-packages\\sklearn\\metrics\\_classification.py:1245: UndefinedMetricWarning: Precision and F-score are ill-defined and being set to 0.0 in labels with no predicted samples. Use `zero_division` parameter to control this behavior.\n",
      "  _warn_prf(average, modifier, msg_start, len(result))\n",
      "C:\\Users\\manuel.decesar\\anaconda3\\lib\\site-packages\\sklearn\\metrics\\_classification.py:1245: UndefinedMetricWarning: Precision and F-score are ill-defined and being set to 0.0 in labels with no predicted samples. Use `zero_division` parameter to control this behavior.\n",
      "  _warn_prf(average, modifier, msg_start, len(result))\n",
      "C:\\Users\\manuel.decesar\\anaconda3\\lib\\site-packages\\sklearn\\metrics\\_classification.py:1245: UndefinedMetricWarning: Precision and F-score are ill-defined and being set to 0.0 in labels with no predicted samples. Use `zero_division` parameter to control this behavior.\n",
      "  _warn_prf(average, modifier, msg_start, len(result))\n",
      "C:\\Users\\manuel.decesar\\anaconda3\\lib\\site-packages\\sklearn\\metrics\\_classification.py:1245: UndefinedMetricWarning: Precision and F-score are ill-defined and being set to 0.0 in labels with no predicted samples. Use `zero_division` parameter to control this behavior.\n",
      "  _warn_prf(average, modifier, msg_start, len(result))\n",
      "C:\\Users\\manuel.decesar\\anaconda3\\lib\\site-packages\\sklearn\\metrics\\_classification.py:1245: UndefinedMetricWarning: Precision and F-score are ill-defined and being set to 0.0 in labels with no predicted samples. Use `zero_division` parameter to control this behavior.\n",
      "  _warn_prf(average, modifier, msg_start, len(result))\n",
      "C:\\Users\\manuel.decesar\\anaconda3\\lib\\site-packages\\sklearn\\metrics\\_classification.py:1245: UndefinedMetricWarning: Precision and F-score are ill-defined and being set to 0.0 in labels with no predicted samples. Use `zero_division` parameter to control this behavior.\n",
      "  _warn_prf(average, modifier, msg_start, len(result))\n",
      "C:\\Users\\manuel.decesar\\anaconda3\\lib\\site-packages\\sklearn\\metrics\\_classification.py:1245: UndefinedMetricWarning: Precision and F-score are ill-defined and being set to 0.0 in labels with no predicted samples. Use `zero_division` parameter to control this behavior.\n",
      "  _warn_prf(average, modifier, msg_start, len(result))\n",
      "C:\\Users\\manuel.decesar\\anaconda3\\lib\\site-packages\\sklearn\\metrics\\_classification.py:1245: UndefinedMetricWarning: Precision and F-score are ill-defined and being set to 0.0 in labels with no predicted samples. Use `zero_division` parameter to control this behavior.\n",
      "  _warn_prf(average, modifier, msg_start, len(result))\n",
      "C:\\Users\\manuel.decesar\\anaconda3\\lib\\site-packages\\sklearn\\metrics\\_classification.py:1245: UndefinedMetricWarning: Precision and F-score are ill-defined and being set to 0.0 in labels with no predicted samples. Use `zero_division` parameter to control this behavior.\n",
      "  _warn_prf(average, modifier, msg_start, len(result))\n"
     ]
    }
   ],
   "source": [
    "#Modelo logistic regression\n",
    "model =  LogisticRegression(random_state=0).fit(X_train, y_train)\n",
    "modelos.append(model)\n",
    "\n",
    "validacion(model,X_train,y_train,X_test,y_test)"
   ]
  },
  {
   "cell_type": "code",
   "execution_count": 44,
   "id": "ee5eba16",
   "metadata": {},
   "outputs": [
    {
     "name": "stdout",
     "output_type": "stream",
     "text": [
      "accuracy dummy 1 test 0.5070653767223688\n",
      "[[   0 8407]\n",
      " [   0 8648]]\n",
      "accuracy dummy 0 test 0.4929346232776312\n",
      "[[8407    0]\n",
      " [8648    0]]\n",
      "accuracy random test 0.5065376722368807\n",
      "[[4230 4177]\n",
      " [4239 4409]]\n",
      "accuracy model train 1.0\n",
      "[[34702     0]\n",
      " [    0 33522]]\n",
      "accuracy model test 0.5038405159777192\n",
      "[[4294 4113]\n",
      " [4349 4299]]\n",
      "              precision    recall  f1-score   support\n",
      "\n",
      "           0       0.50      0.51      0.50      8407\n",
      "           1       0.51      0.50      0.50      8648\n",
      "\n",
      "    accuracy                           0.50     17055\n",
      "   macro avg       0.50      0.50      0.50     17055\n",
      "weighted avg       0.50      0.50      0.50     17055\n",
      "\n",
      "Precision en el set de Entrenamiento: 1.00\n",
      "Precision en el set de test: 0.50\n",
      "Predicción dummy con probabilidad positivo = 0.49135201688555347\n",
      "              precision    recall  f1-score   support\n",
      "\n",
      "           0       0.50      0.52      0.51      8407\n",
      "           1       0.51      0.50      0.51      8648\n",
      "\n",
      "    accuracy                           0.51     17055\n",
      "   macro avg       0.51      0.51      0.51     17055\n",
      "weighted avg       0.51      0.51      0.51     17055\n",
      "\n",
      "Análisis de precision y recall de positivos para diferentes umbrales de probabilidad\n",
      "   Umbral de probabilidad  Precision    Recall\n",
      "0                    0.50   0.511056  0.497109\n",
      "1                    0.51   0.511056  0.497109\n",
      "2                    0.52   0.511056  0.497109\n",
      "3                    0.53   0.511056  0.497109\n",
      "4                    0.54   0.511056  0.497109\n",
      "5                    0.55   0.511056  0.497109\n",
      "6                    0.56   0.511056  0.497109\n",
      "7                    0.57   0.511056  0.497109\n",
      "Validacion del modelo terminada en  0:04:11.059510  s\n"
     ]
    }
   ],
   "source": [
    "#Modelo de vecinos más cercanos\n",
    "model = KNeighborsClassifier(n_neighbors=1)\n",
    "model.fit(X_train, y_train)\n",
    "modelos.append(model)\n",
    "\n",
    "validacion(model,X_train,y_train,X_test,y_test)"
   ]
  },
  {
   "cell_type": "code",
   "execution_count": 30,
   "id": "b440c863",
   "metadata": {},
   "outputs": [
    {
     "name": "stdout",
     "output_type": "stream",
     "text": [
      "Retornos diarios\n"
     ]
    },
    {
     "data": {
      "image/png": "[encoded data removed]",
      "text/plain": [
       "<Figure size 432x288 with 1 Axes>"
      ]
     },
     "metadata": {
      "needs_background": "light"
     },
     "output_type": "display_data"
    },
    {
     "name": "stdout",
     "output_type": "stream",
     "text": [
      "Retornos diarios acumulados sin reinvertir\n"
     ]
    },
    {
     "data": {
      "image/png": "[encoded data removed]",
      "text/plain": [
       "<Figure size 432x288 with 1 Axes>"
      ]
     },
     "metadata": {
      "needs_background": "light"
     },
     "output_type": "display_data"
    },
    {
     "name": "stdout",
     "output_type": "stream",
     "text": [
      "Retornos diarios acumulados reinvirtiendo\n"
     ]
    },
    {
     "data": {
      "image/png": "[encoded data removed]",
      "text/plain": [
       "<Figure size 432x288 with 1 Axes>"
      ]
     },
     "metadata": {
      "needs_background": "light"
     },
     "output_type": "display_data"
    },
    {
     "name": "stdout",
     "output_type": "stream",
     "text": [
      "Retorno final acumulado 0.3761804038028591\n"
     ]
    }
   ],
   "source": [
    "#Retornos diarios estrategia dummy (estrategia de repartir a partes iguales entre todos los tickers diariamente)\n",
    "s=df_test.groupby('date')['return_f_d'].mean()\n",
    "print('Retornos diarios')\n",
    "plt.plot(s)\n",
    "plt.plot(s.index,[s.mean()]*len(s.index))\n",
    "plt.plot(s.index,[0]*len(s.index))\n",
    "plt.show() \n",
    "#Retornos diarios acumulados hasta la fecha sin reinvertir los retornos diarios\n",
    "print('Retornos diarios acumulados sin reinvertir')\n",
    "cs=s.cumsum()\n",
    "plt.plot(cs)\n",
    "plt.plot(cs.index,[0]*len(cs.index))\n",
    "plt.show() \n",
    "#Retornos diarios acumulados hasta la fecha reinvirtiendo los retornos diarios\n",
    "print('Retornos diarios acumulados reinvirtiendo')\n",
    "rcs=(s+1).cumprod()\n",
    "plt.plot(rcs-1)\n",
    "plt.plot(rcs.index,[0]*len(rcs.index))\n",
    "plt.show()\n",
    "print('Retorno final acumulado',(rcs[-2:-1]-1).values[0])"
   ]
  },
  {
   "cell_type": "code",
   "execution_count": 31,
   "id": "2947f8bf",
   "metadata": {},
   "outputs": [
    {
     "name": "stderr",
     "output_type": "stream",
     "text": [
      "<ipython-input-31-9f2d82d1d8ca>:2: UserWarning: Boolean Series key will be reindexed to match DataFrame index.\n",
      "  s=df_test[df['return_d']>0].groupby('date')['return_f_d'].mean()\n"
     ]
    },
    {
     "name": "stdout",
     "output_type": "stream",
     "text": [
      "Retornos diarios\n"
     ]
    },
    {
     "data": {
      "image/png": "[encoded data removed]",
      "text/plain": [
       "<Figure size 432x288 with 1 Axes>"
      ]
     },
     "metadata": {
      "needs_background": "light"
     },
     "output_type": "display_data"
    },
    {
     "name": "stdout",
     "output_type": "stream",
     "text": [
      "Retornos diarios acumulados sin reinvertir\n"
     ]
    },
    {
     "data": {
      "image/png": "[encoded data removed]",
      "text/plain": [
       "<Figure size 432x288 with 1 Axes>"
      ]
     },
     "metadata": {
      "needs_background": "light"
     },
     "output_type": "display_data"
    },
    {
     "name": "stdout",
     "output_type": "stream",
     "text": [
      "Retornos diarios acumulados reinvirtiendo\n"
     ]
    },
    {
     "data": {
      "image/png": "[encoded data removed]",
      "text/plain": [
       "<Figure size 432x288 with 1 Axes>"
      ]
     },
     "metadata": {
      "needs_background": "light"
     },
     "output_type": "display_data"
    },
    {
     "name": "stdout",
     "output_type": "stream",
     "text": [
      "Retorno final acumulado 0.44422603129891636\n"
     ]
    }
   ],
   "source": [
    "#Retornos diarios estrategia básica (estrategia de repartir diariamente a partes iguales entre todos los tickers con retorno positivo respecto al día anterior)\n",
    "s=df_test[df['return_d']>0].groupby('date')['return_f_d'].mean()\n",
    "print('Retornos diarios')\n",
    "plt.plot(s)\n",
    "plt.plot(s.index,[s.mean()]*len(s.index))\n",
    "plt.plot(s.index,[0]*len(s.index))\n",
    "plt.show() \n",
    "#Retornos diarios acumulados hasta la fecha sin reinvertir los retornos diarios\n",
    "print('Retornos diarios acumulados sin reinvertir')\n",
    "cs=s.cumsum()\n",
    "plt.plot(cs)\n",
    "plt.plot(cs.index,[0]*len(cs.index))\n",
    "plt.show() \n",
    "#Retornos diarios acumulados hasta la fecha reinvirtiendo los retornos diarios\n",
    "print('Retornos diarios acumulados reinvirtiendo')\n",
    "rcs=(s+1).cumprod()\n",
    "plt.plot(rcs-1)\n",
    "plt.plot(rcs.index,[0]*len(rcs.index))\n",
    "plt.show()\n",
    "print('Retorno final acumulado',(rcs[-2:-1]-1).values[0])"
   ]
  },
  {
   "cell_type": "code",
   "execution_count": 29,
   "id": "f3416609",
   "metadata": {},
   "outputs": [
    {
     "ename": "NameError",
     "evalue": "name 'lim' is not defined",
     "output_type": "error",
     "traceback": [
      "\u001b[1;31m---------------------------------------------------------------------------\u001b[0m",
      "\u001b[1;31mNameError\u001b[0m                                 Traceback (most recent call last)",
      "\u001b[1;32m<ipython-input-29-08eb0d607580>\u001b[0m in \u001b[0;36m<module>\u001b[1;34m\u001b[0m\n\u001b[0;32m      1\u001b[0m \u001b[1;31m#Retornos diarios modelo básico (estrategia de repartir diariamente a partes iguales entre todos los tickers predichos con retorno positivo al día siguiente)\u001b[0m\u001b[1;33m\u001b[0m\u001b[1;33m\u001b[0m\u001b[1;33m\u001b[0m\u001b[0m\n\u001b[1;32m----> 2\u001b[1;33m \u001b[0ms\u001b[0m\u001b[1;33m=\u001b[0m\u001b[1;33m(\u001b[0m\u001b[1;33m(\u001b[0m\u001b[0mdf\u001b[0m\u001b[1;33m[\u001b[0m\u001b[0mlim\u001b[0m\u001b[1;33m:\u001b[0m\u001b[1;33m-\u001b[0m\u001b[1;36m1\u001b[0m\u001b[1;33m]\u001b[0m\u001b[1;33m)\u001b[0m\u001b[1;33m[\u001b[0m\u001b[1;33m[\u001b[0m \u001b[1;32mTrue\u001b[0m \u001b[1;32mif\u001b[0m \u001b[0mx\u001b[0m\u001b[1;33m==\u001b[0m\u001b[1;36m1\u001b[0m \u001b[1;32melse\u001b[0m \u001b[1;32mFalse\u001b[0m \u001b[1;32mfor\u001b[0m \u001b[0mx\u001b[0m \u001b[1;32min\u001b[0m \u001b[0mmodelos\u001b[0m\u001b[1;33m[\u001b[0m\u001b[1;33m-\u001b[0m\u001b[1;36m1\u001b[0m\u001b[1;33m]\u001b[0m\u001b[1;33m.\u001b[0m\u001b[0mpredict\u001b[0m\u001b[1;33m(\u001b[0m\u001b[0mdf_test\u001b[0m\u001b[1;33m[\u001b[0m\u001b[0mopt_features\u001b[0m\u001b[1;33m]\u001b[0m\u001b[1;33m)\u001b[0m\u001b[1;33m]\u001b[0m\u001b[1;33m]\u001b[0m\u001b[1;33m)\u001b[0m\u001b[1;33m.\u001b[0m\u001b[0mgroupby\u001b[0m\u001b[1;33m(\u001b[0m\u001b[1;34m'date'\u001b[0m\u001b[1;33m)\u001b[0m\u001b[1;33m[\u001b[0m\u001b[1;34m'return_f_d'\u001b[0m\u001b[1;33m]\u001b[0m\u001b[1;33m.\u001b[0m\u001b[0mmean\u001b[0m\u001b[1;33m(\u001b[0m\u001b[1;33m)\u001b[0m\u001b[1;33m\u001b[0m\u001b[1;33m\u001b[0m\u001b[0m\n\u001b[0m\u001b[0;32m      3\u001b[0m \u001b[0mprint\u001b[0m\u001b[1;33m(\u001b[0m\u001b[1;34m'Retornos diarios'\u001b[0m\u001b[1;33m)\u001b[0m\u001b[1;33m\u001b[0m\u001b[1;33m\u001b[0m\u001b[0m\n\u001b[0;32m      4\u001b[0m \u001b[0mplt\u001b[0m\u001b[1;33m.\u001b[0m\u001b[0mplot\u001b[0m\u001b[1;33m(\u001b[0m\u001b[0ms\u001b[0m\u001b[1;33m)\u001b[0m\u001b[1;33m\u001b[0m\u001b[1;33m\u001b[0m\u001b[0m\n\u001b[0;32m      5\u001b[0m \u001b[0mplt\u001b[0m\u001b[1;33m.\u001b[0m\u001b[0mplot\u001b[0m\u001b[1;33m(\u001b[0m\u001b[0ms\u001b[0m\u001b[1;33m.\u001b[0m\u001b[0mindex\u001b[0m\u001b[1;33m,\u001b[0m\u001b[1;33m[\u001b[0m\u001b[0ms\u001b[0m\u001b[1;33m.\u001b[0m\u001b[0mmean\u001b[0m\u001b[1;33m(\u001b[0m\u001b[1;33m)\u001b[0m\u001b[1;33m]\u001b[0m\u001b[1;33m*\u001b[0m\u001b[0mlen\u001b[0m\u001b[1;33m(\u001b[0m\u001b[0ms\u001b[0m\u001b[1;33m.\u001b[0m\u001b[0mindex\u001b[0m\u001b[1;33m)\u001b[0m\u001b[1;33m)\u001b[0m\u001b[1;33m\u001b[0m\u001b[1;33m\u001b[0m\u001b[0m\n",
      "\u001b[1;31mNameError\u001b[0m: name 'lim' is not defined"
     ]
    }
   ],
   "source": [
    "#Retornos diarios modelo básico (estrategia de repartir diariamente a partes iguales entre todos los tickers predichos con retorno positivo al día siguiente)\n",
    "s=((df[lim:-1])[[ True if x==1 else False for x in modelos[-1].predict(df_test[opt_features])]]).groupby('date')['return_f_d'].mean()\n",
    "print('Retornos diarios')\n",
    "plt.plot(s)\n",
    "plt.plot(s.index,[s.mean()]*len(s.index))\n",
    "plt.plot(s.index,[0]*len(s.index))\n",
    "plt.show() \n",
    "#Retornos diarios acumulados hasta la fecha sin reinvertir los retornos diarios\n",
    "print('Retornos diarios acumulados sin reinvertir')\n",
    "cs=s.cumsum()\n",
    "plt.plot(cs)\n",
    "plt.plot(cs.index,[0]*len(cs.index))\n",
    "plt.show() \n",
    "#Retornos diarios acumulados hasta la fecha reinvirtiendo los retornos diarios\n",
    "print('Retornos diarios acumulados reinvirtiendo')\n",
    "rcs=(s+1).cumprod()\n",
    "plt.plot(rcs-1)\n",
    "plt.plot(rcs.index,[0]*len(rcs.index))\n",
    "plt.show()\n",
    "print('Retorno final acumulado',(rcs[-2:-1]-1).values[0])"
   ]
  },
  {
   "cell_type": "code",
   "execution_count": 33,
   "id": "671d847b",
   "metadata": {},
   "outputs": [
    {
     "data": {
      "text/plain": [
       "['volatility_m_rd', 'volatility_y_rd', 'return_vwm_pw']"
      ]
     },
     "execution_count": 33,
     "metadata": {},
     "output_type": "execute_result"
    }
   ],
   "source": [
    "opt_features"
   ]
  },
  {
   "cell_type": "code",
   "execution_count": 29,
   "id": "c11f135c",
   "metadata": {},
   "outputs": [
    {
     "name": "stdout",
     "output_type": "stream",
     "text": [
      "Retornos diarios\n"
     ]
    },
    {
     "data": {
      "image/png": "[encoded data removed]",
      "text/plain": [
       "<Figure size 432x288 with 1 Axes>"
      ]
     },
     "metadata": {
      "needs_background": "light"
     },
     "output_type": "display_data"
    },
    {
     "name": "stdout",
     "output_type": "stream",
     "text": [
      "Retornos diarios acumulados sin reinvertir\n"
     ]
    },
    {
     "data": {
      "image/png": "[encoded data removed]",
      "text/plain": [
       "<Figure size 432x288 with 1 Axes>"
      ]
     },
     "metadata": {
      "needs_background": "light"
     },
     "output_type": "display_data"
    },
    {
     "name": "stdout",
     "output_type": "stream",
     "text": [
      "Retornos diarios acumulados reinvirtiendo\n"
     ]
    },
    {
     "data": {
      "image/png": "[encoded data removed]",
      "text/plain": [
       "<Figure size 432x288 with 1 Axes>"
      ]
     },
     "metadata": {
      "needs_background": "light"
     },
     "output_type": "display_data"
    },
    {
     "name": "stdout",
     "output_type": "stream",
     "text": [
      "Retorno final acumulado 1.0309885528483735\n"
     ]
    }
   ],
   "source": [
    "#Retornos diarios modelo básico (estrategia de repartir diariamente a partes iguales entre todos los tickers predichos con retorno positivo al día siguiente)\n",
    "s=((df[lim:-1])[[ True if x==1 else False for x in modelos[-1].predict(df_test[opt_features])]]).groupby('date')['return_f_d'].mean()\n",
    "print('Retornos diarios')\n",
    "plt.plot(s)\n",
    "plt.plot(s.index,[s.mean()]*len(s.index))\n",
    "plt.plot(s.index,[0]*len(s.index))\n",
    "plt.show() \n",
    "#Retornos diarios acumulados hasta la fecha sin reinvertir los retornos diarios\n",
    "print('Retornos diarios acumulados sin reinvertir')\n",
    "cs=s.cumsum()\n",
    "plt.plot(cs)\n",
    "plt.plot(cs.index,[0]*len(cs.index))\n",
    "plt.show() \n",
    "#Retornos diarios acumulados hasta la fecha reinvirtiendo los retornos diarios\n",
    "print('Retornos diarios acumulados reinvirtiendo')\n",
    "rcs=(s+1).cumprod()\n",
    "plt.plot(rcs-1)\n",
    "plt.plot(rcs.index,[0]*len(rcs.index))\n",
    "plt.show()\n",
    "print('Retorno final acumulado',(rcs[-2:-1]-1).values[0])"
   ]
  },
  {
   "cell_type": "code",
   "execution_count": 58,
   "id": "7bd6321b",
   "metadata": {},
   "outputs": [
    {
     "name": "stderr",
     "output_type": "stream",
     "text": [
      "<ipython-input-58-1867de095c6d>:2: UserWarning: Boolean Series key will be reindexed to match DataFrame index.\n",
      "  s=(df[lim:-1])[df['return_f_d']>0].groupby('date')['return_f_d'].mean()\n"
     ]
    },
    {
     "name": "stdout",
     "output_type": "stream",
     "text": [
      "Retornos diarios\n"
     ]
    },
    {
     "data": {
      "image/png": "[encoded data removed]",
      "text/plain": [
       "<Figure size 432x288 with 1 Axes>"
      ]
     },
     "metadata": {
      "needs_background": "light"
     },
     "output_type": "display_data"
    },
    {
     "name": "stdout",
     "output_type": "stream",
     "text": [
      "Retornos diarios acumulados sin reinvertir\n"
     ]
    },
    {
     "data": {
      "image/png": "[encoded data removed]",
      "text/plain": [
       "<Figure size 432x288 with 1 Axes>"
      ]
     },
     "metadata": {
      "needs_background": "light"
     },
     "output_type": "display_data"
    },
    {
     "name": "stdout",
     "output_type": "stream",
     "text": [
      "Retornos diarios acumulados reinvirtiendo\n"
     ]
    },
    {
     "data": {
      "image/png": "[encoded data removed]",
      "text/plain": [
       "<Figure size 432x288 with 1 Axes>"
      ]
     },
     "metadata": {
      "needs_background": "light"
     },
     "output_type": "display_data"
    },
    {
     "name": "stdout",
     "output_type": "stream",
     "text": [
      "Retorno final acumulado 5767.022805915304\n"
     ]
    }
   ],
   "source": [
    "#Retornos diarios estrategia dios  (estrategia de repartir diariamente a partes iguales entre todos los tickers que tendrán retorno positivo (supone conocer el futuro))\n",
    "s=(df[lim:-1])[df['return_f_d']>0].groupby('date')['return_f_d'].mean()\n",
    "print('Retornos diarios')\n",
    "plt.plot(s)\n",
    "plt.plot(s.index,[s.mean()]*len(s.index))\n",
    "plt.plot(s.index,[0]*len(s.index))\n",
    "plt.show() \n",
    "#Retornos diarios acumulados hasta la fecha sin reinvertir los retornos diarios\n",
    "print('Retornos diarios acumulados sin reinvertir')\n",
    "cs=s.cumsum()\n",
    "plt.plot(cs)\n",
    "plt.plot(cs.index,[0]*len(cs.index))\n",
    "plt.show() \n",
    "#Retornos diarios acumulados hasta la fecha reinvirtiendo los retornos diarios\n",
    "print('Retornos diarios acumulados reinvirtiendo')\n",
    "rcs=(s+1).cumprod()\n",
    "plt.plot(rcs-1)\n",
    "plt.plot(rcs.index,[0]*len(rcs.index))\n",
    "plt.show()\n",
    "print('Retorno final acumulado',(rcs[-2:-1]-1).values[0])"
   ]
  },
  {
   "cell_type": "markdown",
   "id": "bccec45f",
   "metadata": {},
   "source": [
    "Siguiente:\n",
    "Testear modelo\n",
    "\n",
    "features: día de la semana, zscore del precio (power point)\n",
    "\n",
    "more comlex model \n",
    "\n",
    "marcar features con x_ y target con y_ para luego seleccionarlas (como en ejemplo de Manu)\n",
    "\n",
    "#Zscore (normalizar? por día? para todos los tickets?)\n",
    "#df['zscore']=df.groupby('date')['adj_close'].transform(lambda grp: (grp - grp.mean())/ grp.std())\n",
    "#df\n"
   ]
  }
 ],
 "metadata": {
  "kernelspec": {
   "display_name": "Python 3",
   "language": "python",
   "name": "python3"
  },
  "language_info": {
   "codemirror_mode": {
    "name": "ipython",
    "version": 3
   },
   "file_extension": ".py",
   "mimetype": "text/x-python",
   "name": "python",
   "nbconvert_exporter": "python",
   "pygments_lexer": "ipython3",
   "version": "3.8.8"
  }
 },
 "nbformat": 4,
 "nbformat_minor": 5
}
